{
  "nbformat": 4,
  "nbformat_minor": 0,
  "metadata": {
    "colab": {
      "name": "iit.ipynb",
      "provenance": [],
      "collapsed_sections": [
        "Y0ABPEXw0Oo3",
        "-kfFXETr3cAg",
        "uDQMJw3Ep5J4",
        "Zb9CXrjQp_oE",
        "7gnKg2thUPHG",
        "rpTir4MQGPXH",
        "AAoVuk93Vfi2",
        "OvdF4EiNnrE5",
        "EJOAngyAEG12",
        "K0oI_2rz-xBV",
        "6yTX97__Et06",
        "Dv9s7kOp9zgk",
        "FKZFh-Np-10d",
        "uAVNRUI5oQPs",
        "zRf6NbfdLi-s",
        "iUCeddPexYuC",
        "Ua8WAKTzPmLt",
        "kSS7barRv7th",
        "HKwmVCcUFx_C"
      ],
      "mount_file_id": "10aPhS3oTPvz8KiOrvIe8rOMPKRonfmIl",
      "authorship_tag": "ABX9TyNXmj22TZcHRpCLegXmMMz2",
      "include_colab_link": true
    },
    "kernelspec": {
      "display_name": "Python 3",
      "name": "python3"
    },
    "language_info": {
      "name": "python"
    }
  },
  "cells": [
    {
      "cell_type": "markdown",
      "metadata": {
        "id": "view-in-github",
        "colab_type": "text"
      },
      "source": [
        "<a href=\"https://colab.research.google.com/github/PlugRS/IIT_1DCNN/blob/main/iit.ipynb\" target=\"_parent\"><img src=\"https://colab.research.google.com/assets/colab-badge.svg\" alt=\"Open In Colab\"/></a>"
      ]
    },
    {
      "cell_type": "code",
      "metadata": {
        "id": "chqEAIALwaFB"
      },
      "source": [
        "import pandas as pd\n",
        "import matplotlib.pyplot as plt\n",
        "import numpy as np \n",
        "from sklearn.preprocessing import RobustScaler"
      ],
      "execution_count": 1,
      "outputs": []
    },
    {
      "cell_type": "code",
      "metadata": {
        "id": "PaBi258KE4HR"
      },
      "source": [
        "import glob "
      ],
      "execution_count": 2,
      "outputs": []
    },
    {
      "cell_type": "markdown",
      "metadata": {
        "id": "Y0ABPEXw0Oo3"
      },
      "source": [
        "# **IMPORT DATASETS**"
      ]
    },
    {
      "cell_type": "code",
      "metadata": {
        "colab": {
          "base_uri": "https://localhost:8080/"
        },
        "id": "U5xJfWNK75Z8",
        "outputId": "e64629b5-d93e-48a2-ce07-18a96219ed5a"
      },
      "source": [
        "from google.colab import drive\n",
        "drive.mount('/content/gdrive')"
      ],
      "execution_count": null,
      "outputs": [
        {
          "output_type": "stream",
          "text": [
            "Mounted at /content/gdrive\n"
          ],
          "name": "stdout"
        }
      ]
    },
    {
      "cell_type": "code",
      "metadata": {
        "id": "77QXxc_sytNP"
      },
      "source": [
        "last = sorted(glob.glob('/content/drive/MyDrive/data/dataset/d3*.csv'))  \n",
        "\n",
        "data1 = pd.read_csv(last[0])\n",
        "data1.columns = ['Index','Breath data','Name','Label'] # giving columns to dataframe\n",
        "data1 = data1.drop(['Index','Name'],axis = 1)\n",
        "\n",
        "sc = data1['Breath data'].values.reshape(-1,1) # reshape 1d values from:-  [1.33] to [[1.33],]\n",
        "\n",
        "scaler = RobustScaler() # calling the scaler\n",
        "k = scaler.fit(sc) # do all the calculation required to do scaling on data\n",
        "l = scaler.transform(sc) # no return the values through the calculation.\n",
        "sc = l\n",
        "data1['Breath data'] = sc\n",
        "\n",
        "normal1 = data1"
      ],
      "execution_count": 3,
      "outputs": []
    },
    {
      "cell_type": "code",
      "metadata": {
        "id": "ClTnS3_5P0Tv"
      },
      "source": [
        "last = sorted(glob.glob('/content/drive/MyDrive/data/dataset/d3*.csv'))  \n",
        "\n",
        "data2 = pd.read_csv(last[1])\n",
        "data2.columns = ['Index','Breath data','Name','Label'] # giving columns to dataframe\n",
        "data2 = data2.drop(['Index','Name'],axis = 1)\n",
        "\n",
        "sc = data2['Breath data'].values.reshape(-1,1) # reshape 1d values from:-  [1.33] to [[1.33],]\n",
        "\n",
        "scaler = RobustScaler() # calling the scaler\n",
        "k = scaler.fit(sc) # do all the calculation required to do scaling on data\n",
        "l = scaler.transform(sc) # no return the values through the calculation.\n",
        "sc = l\n",
        "data2['Breath data'] = sc\n",
        "\n",
        "deep1 = data2"
      ],
      "execution_count": 4,
      "outputs": []
    },
    {
      "cell_type": "code",
      "metadata": {
        "id": "8x4sos4AP1UM"
      },
      "source": [
        "last = sorted(glob.glob('/content/drive/MyDrive/data/dataset/d3*.csv')) \n",
        "\n",
        "data3 = pd.read_csv(last[2])\n",
        "data3.columns = ['Index','Breath data','Name','Label'] # giving columns to dataframe\n",
        "data3 = data3.drop(['Index','Name'],axis = 1)\n",
        "\n",
        "sc = data3['Breath data'].values.reshape(-1,1) # reshape 1d values from:-  [1.33] to [[1.33],]\n",
        "\n",
        "scaler = RobustScaler() # calling the scaler\n",
        "k = scaler.fit(sc) # do all the calculation required to do scaling on data\n",
        "l = scaler.transform(sc) # no return the values through the calculation.\n",
        "sc = l\n",
        "data3['Breath data'] = sc\n",
        "\n",
        "quick1 = data3 "
      ],
      "execution_count": 5,
      "outputs": []
    },
    {
      "cell_type": "markdown",
      "metadata": {
        "id": "8Wm9ZDk7bV_E"
      },
      "source": [
        "# FOR NOT NORMAL AND NORMAL BINARY CLASSIF."
      ]
    },
    {
      "cell_type": "code",
      "metadata": {
        "id": "wDpvM4LsbTNF"
      },
      "source": [
        "last = sorted(glob.glob('/content/drive/MyDrive/data/dataset/d3*.csv'))  \n",
        "\n",
        "data1 = pd.read_csv(last[0])\n",
        "data1.columns = ['Index','Breath data','Name','Label'] # giving columns to dataframe\n",
        "data1 = data1.drop(['Index','Name'],axis = 1)\n",
        "\n",
        "sc = data1['Breath data'].values.reshape(-1,1) # reshape 1d values from:-  [1.33] to [[1.33],]\n",
        "\n",
        "scaler = RobustScaler() # calling the scaler\n",
        "k = scaler.fit(sc) # do all the calculation required to do scaling on data\n",
        "l = scaler.transform(sc) # no return the values through the calculation.\n",
        "sc = l\n",
        "data1['Breath data'] = sc\n",
        "\n",
        "normal1 = data1"
      ],
      "execution_count": 3,
      "outputs": []
    },
    {
      "cell_type": "code",
      "metadata": {
        "colab": {
          "base_uri": "https://localhost:8080/",
          "height": 419
        },
        "id": "jAeRYsERbl53",
        "outputId": "1c03c31d-d2f3-4d70-d5e3-fbb0967c20d1"
      },
      "source": [
        "normal1"
      ],
      "execution_count": 4,
      "outputs": [
        {
          "output_type": "execute_result",
          "data": {
            "text/html": [
              "<div>\n",
              "<style scoped>\n",
              "    .dataframe tbody tr th:only-of-type {\n",
              "        vertical-align: middle;\n",
              "    }\n",
              "\n",
              "    .dataframe tbody tr th {\n",
              "        vertical-align: top;\n",
              "    }\n",
              "\n",
              "    .dataframe thead th {\n",
              "        text-align: right;\n",
              "    }\n",
              "</style>\n",
              "<table border=\"1\" class=\"dataframe\">\n",
              "  <thead>\n",
              "    <tr style=\"text-align: right;\">\n",
              "      <th></th>\n",
              "      <th>Breath data</th>\n",
              "      <th>Label</th>\n",
              "    </tr>\n",
              "  </thead>\n",
              "  <tbody>\n",
              "    <tr>\n",
              "      <th>0</th>\n",
              "      <td>-0.067797</td>\n",
              "      <td>Normal</td>\n",
              "    </tr>\n",
              "    <tr>\n",
              "      <th>1</th>\n",
              "      <td>0.000000</td>\n",
              "      <td>Normal</td>\n",
              "    </tr>\n",
              "    <tr>\n",
              "      <th>2</th>\n",
              "      <td>0.067797</td>\n",
              "      <td>Normal</td>\n",
              "    </tr>\n",
              "    <tr>\n",
              "      <th>3</th>\n",
              "      <td>0.135593</td>\n",
              "      <td>Normal</td>\n",
              "    </tr>\n",
              "    <tr>\n",
              "      <th>4</th>\n",
              "      <td>0.271186</td>\n",
              "      <td>Normal</td>\n",
              "    </tr>\n",
              "    <tr>\n",
              "      <th>...</th>\n",
              "      <td>...</td>\n",
              "      <td>...</td>\n",
              "    </tr>\n",
              "    <tr>\n",
              "      <th>517</th>\n",
              "      <td>0.135593</td>\n",
              "      <td>Normal</td>\n",
              "    </tr>\n",
              "    <tr>\n",
              "      <th>518</th>\n",
              "      <td>0.338983</td>\n",
              "      <td>Normal</td>\n",
              "    </tr>\n",
              "    <tr>\n",
              "      <th>519</th>\n",
              "      <td>0.542373</td>\n",
              "      <td>Normal</td>\n",
              "    </tr>\n",
              "    <tr>\n",
              "      <th>520</th>\n",
              "      <td>0.677966</td>\n",
              "      <td>Normal</td>\n",
              "    </tr>\n",
              "    <tr>\n",
              "      <th>521</th>\n",
              "      <td>0.813559</td>\n",
              "      <td>Normal</td>\n",
              "    </tr>\n",
              "  </tbody>\n",
              "</table>\n",
              "<p>522 rows × 2 columns</p>\n",
              "</div>"
            ],
            "text/plain": [
              "     Breath data   Label\n",
              "0      -0.067797  Normal\n",
              "1       0.000000  Normal\n",
              "2       0.067797  Normal\n",
              "3       0.135593  Normal\n",
              "4       0.271186  Normal\n",
              "..           ...     ...\n",
              "517     0.135593  Normal\n",
              "518     0.338983  Normal\n",
              "519     0.542373  Normal\n",
              "520     0.677966  Normal\n",
              "521     0.813559  Normal\n",
              "\n",
              "[522 rows x 2 columns]"
            ]
          },
          "metadata": {},
          "execution_count": 4
        }
      ]
    },
    {
      "cell_type": "code",
      "metadata": {
        "id": "hPzWytflbkdE"
      },
      "source": [
        "last = sorted(glob.glob('/content/drive/MyDrive/data/dataset/d3*.csv'))  \n",
        "\n",
        "data2 = pd.read_csv(last[1])\n",
        "data2.columns = ['Index','Breath data','Name','Label'] # giving columns to dataframe\n",
        "data2 = data2.drop(['Index','Name'],axis = 1)\n",
        "\n",
        "sc = data2['Breath data'].values.reshape(-1,1) # reshape 1d values from:-  [1.33] to [[1.33],]\n",
        "\n",
        "scaler = RobustScaler() # calling the scaler\n",
        "k = scaler.fit(sc) # do all the calculation required to do scaling on data\n",
        "l = scaler.transform(sc) # no return the values through the calculation.\n",
        "sc = l\n",
        "data2['Breath data'] = sc\n",
        "\n",
        "deep1 = data2\n"
      ],
      "execution_count": 5,
      "outputs": []
    },
    {
      "cell_type": "code",
      "metadata": {
        "colab": {
          "base_uri": "https://localhost:8080/",
          "height": 419
        },
        "id": "ASWkBKLEc2Wc",
        "outputId": "a2cd8883-5e1c-4ddf-e861-11480db474fd"
      },
      "source": [
        "dlabel = []\n",
        "deep1.drop(['Label'], axis = 1)\n",
        "for i in range(len(data2)):\n",
        "    dlabel.append('Not Normal') # adding label to each row of column\n",
        "\n",
        "deep1['Label'] = dlabel\n",
        "deep1"
      ],
      "execution_count": 6,
      "outputs": [
        {
          "output_type": "execute_result",
          "data": {
            "text/html": [
              "<div>\n",
              "<style scoped>\n",
              "    .dataframe tbody tr th:only-of-type {\n",
              "        vertical-align: middle;\n",
              "    }\n",
              "\n",
              "    .dataframe tbody tr th {\n",
              "        vertical-align: top;\n",
              "    }\n",
              "\n",
              "    .dataframe thead th {\n",
              "        text-align: right;\n",
              "    }\n",
              "</style>\n",
              "<table border=\"1\" class=\"dataframe\">\n",
              "  <thead>\n",
              "    <tr style=\"text-align: right;\">\n",
              "      <th></th>\n",
              "      <th>Breath data</th>\n",
              "      <th>Label</th>\n",
              "    </tr>\n",
              "  </thead>\n",
              "  <tbody>\n",
              "    <tr>\n",
              "      <th>0</th>\n",
              "      <td>0.411765</td>\n",
              "      <td>Not Normal</td>\n",
              "    </tr>\n",
              "    <tr>\n",
              "      <th>1</th>\n",
              "      <td>0.352941</td>\n",
              "      <td>Not Normal</td>\n",
              "    </tr>\n",
              "    <tr>\n",
              "      <th>2</th>\n",
              "      <td>0.294118</td>\n",
              "      <td>Not Normal</td>\n",
              "    </tr>\n",
              "    <tr>\n",
              "      <th>3</th>\n",
              "      <td>0.294118</td>\n",
              "      <td>Not Normal</td>\n",
              "    </tr>\n",
              "    <tr>\n",
              "      <th>4</th>\n",
              "      <td>0.235294</td>\n",
              "      <td>Not Normal</td>\n",
              "    </tr>\n",
              "    <tr>\n",
              "      <th>...</th>\n",
              "      <td>...</td>\n",
              "      <td>...</td>\n",
              "    </tr>\n",
              "    <tr>\n",
              "      <th>517</th>\n",
              "      <td>-0.764706</td>\n",
              "      <td>Not Normal</td>\n",
              "    </tr>\n",
              "    <tr>\n",
              "      <th>518</th>\n",
              "      <td>-0.823529</td>\n",
              "      <td>Not Normal</td>\n",
              "    </tr>\n",
              "    <tr>\n",
              "      <th>519</th>\n",
              "      <td>-0.823529</td>\n",
              "      <td>Not Normal</td>\n",
              "    </tr>\n",
              "    <tr>\n",
              "      <th>520</th>\n",
              "      <td>-0.882353</td>\n",
              "      <td>Not Normal</td>\n",
              "    </tr>\n",
              "    <tr>\n",
              "      <th>521</th>\n",
              "      <td>-0.941176</td>\n",
              "      <td>Not Normal</td>\n",
              "    </tr>\n",
              "  </tbody>\n",
              "</table>\n",
              "<p>522 rows × 2 columns</p>\n",
              "</div>"
            ],
            "text/plain": [
              "     Breath data       Label\n",
              "0       0.411765  Not Normal\n",
              "1       0.352941  Not Normal\n",
              "2       0.294118  Not Normal\n",
              "3       0.294118  Not Normal\n",
              "4       0.235294  Not Normal\n",
              "..           ...         ...\n",
              "517    -0.764706  Not Normal\n",
              "518    -0.823529  Not Normal\n",
              "519    -0.823529  Not Normal\n",
              "520    -0.882353  Not Normal\n",
              "521    -0.941176  Not Normal\n",
              "\n",
              "[522 rows x 2 columns]"
            ]
          },
          "metadata": {},
          "execution_count": 6
        }
      ]
    },
    {
      "cell_type": "code",
      "metadata": {
        "colab": {
          "base_uri": "https://localhost:8080/",
          "height": 282
        },
        "id": "fiqyPc7UblAI",
        "outputId": "2204aa04-78d1-4114-e8b1-33ebb0de893e"
      },
      "source": [
        "last = sorted(glob.glob('/content/drive/MyDrive/data/dataset/d3*.csv'))  \n",
        "\n",
        "data3 = pd.read_csv(last[2])\n",
        "data3.columns = ['Index','Breath data','Name','Label'] # giving columns to dataframe\n",
        "data3 = data3.drop(['Index','Name'],axis = 1)\n",
        "\n",
        "sc = data3['Breath data'].values.reshape(-1,1) # reshape 1d values from:-  [1.33] to [[1.33],]\n",
        "\n",
        "scaler = RobustScaler() # calling the scaler\n",
        "k = scaler.fit(sc) # do all the calculation required to do scaling on data\n",
        "l = scaler.transform(sc) # no return the values through the calculation.\n",
        "sc = l\n",
        "data3['Breath data'] = sc\n",
        "\n",
        "quick1 = data3 \n",
        "quick1.plot()"
      ],
      "execution_count": 7,
      "outputs": [
        {
          "output_type": "execute_result",
          "data": {
            "text/plain": [
              "<matplotlib.axes._subplots.AxesSubplot at 0x7f28b48193d0>"
            ]
          },
          "metadata": {},
          "execution_count": 7
        },
        {
          "output_type": "display_data",
          "data": {
            "image/png": "[encoded data removed]",
            "text/plain": [
              "<Figure size 432x288 with 1 Axes>"
            ]
          },
          "metadata": {
            "needs_background": "light"
          }
        }
      ]
    },
    {
      "cell_type": "code",
      "metadata": {
        "colab": {
          "base_uri": "https://localhost:8080/",
          "height": 419
        },
        "id": "aNDeAq-3de0O",
        "outputId": "9b36892e-8674-42f7-8c40-1fc6f9776ca3"
      },
      "source": [
        "qlabel = []\n",
        "deep1.drop(['Label'], axis = 1)\n",
        "for i in range(len(data3)):\n",
        "    qlabel.append('Not Normal') # adding label to each row of column\n",
        "\n",
        "quick1['Label'] = qlabel\n",
        "quick1"
      ],
      "execution_count": 8,
      "outputs": [
        {
          "output_type": "execute_result",
          "data": {
            "text/html": [
              "<div>\n",
              "<style scoped>\n",
              "    .dataframe tbody tr th:only-of-type {\n",
              "        vertical-align: middle;\n",
              "    }\n",
              "\n",
              "    .dataframe tbody tr th {\n",
              "        vertical-align: top;\n",
              "    }\n",
              "\n",
              "    .dataframe thead th {\n",
              "        text-align: right;\n",
              "    }\n",
              "</style>\n",
              "<table border=\"1\" class=\"dataframe\">\n",
              "  <thead>\n",
              "    <tr style=\"text-align: right;\">\n",
              "      <th></th>\n",
              "      <th>Breath data</th>\n",
              "      <th>Label</th>\n",
              "    </tr>\n",
              "  </thead>\n",
              "  <tbody>\n",
              "    <tr>\n",
              "      <th>0</th>\n",
              "      <td>0.5</td>\n",
              "      <td>Not Normal</td>\n",
              "    </tr>\n",
              "    <tr>\n",
              "      <th>1</th>\n",
              "      <td>0.0</td>\n",
              "      <td>Not Normal</td>\n",
              "    </tr>\n",
              "    <tr>\n",
              "      <th>2</th>\n",
              "      <td>-0.5</td>\n",
              "      <td>Not Normal</td>\n",
              "    </tr>\n",
              "    <tr>\n",
              "      <th>3</th>\n",
              "      <td>-0.5</td>\n",
              "      <td>Not Normal</td>\n",
              "    </tr>\n",
              "    <tr>\n",
              "      <th>4</th>\n",
              "      <td>-1.0</td>\n",
              "      <td>Not Normal</td>\n",
              "    </tr>\n",
              "    <tr>\n",
              "      <th>...</th>\n",
              "      <td>...</td>\n",
              "      <td>...</td>\n",
              "    </tr>\n",
              "    <tr>\n",
              "      <th>517</th>\n",
              "      <td>0.5</td>\n",
              "      <td>Not Normal</td>\n",
              "    </tr>\n",
              "    <tr>\n",
              "      <th>518</th>\n",
              "      <td>-0.5</td>\n",
              "      <td>Not Normal</td>\n",
              "    </tr>\n",
              "    <tr>\n",
              "      <th>519</th>\n",
              "      <td>-0.5</td>\n",
              "      <td>Not Normal</td>\n",
              "    </tr>\n",
              "    <tr>\n",
              "      <th>520</th>\n",
              "      <td>-0.5</td>\n",
              "      <td>Not Normal</td>\n",
              "    </tr>\n",
              "    <tr>\n",
              "      <th>521</th>\n",
              "      <td>-0.5</td>\n",
              "      <td>Not Normal</td>\n",
              "    </tr>\n",
              "  </tbody>\n",
              "</table>\n",
              "<p>522 rows × 2 columns</p>\n",
              "</div>"
            ],
            "text/plain": [
              "     Breath data       Label\n",
              "0            0.5  Not Normal\n",
              "1            0.0  Not Normal\n",
              "2           -0.5  Not Normal\n",
              "3           -0.5  Not Normal\n",
              "4           -1.0  Not Normal\n",
              "..           ...         ...\n",
              "517          0.5  Not Normal\n",
              "518         -0.5  Not Normal\n",
              "519         -0.5  Not Normal\n",
              "520         -0.5  Not Normal\n",
              "521         -0.5  Not Normal\n",
              "\n",
              "[522 rows x 2 columns]"
            ]
          },
          "metadata": {},
          "execution_count": 8
        }
      ]
    },
    {
      "cell_type": "markdown",
      "metadata": {
        "id": "6bouJl8rzB5I"
      },
      "source": [
        "# 3 Classification"
      ]
    },
    {
      "cell_type": "markdown",
      "metadata": {
        "id": "T8MLcjyn0Cct"
      },
      "source": [
        "IMPORTING DATA FROM DRIVE"
      ]
    },
    {
      "cell_type": "code",
      "metadata": {
        "colab": {
          "base_uri": "https://localhost:8080/"
        },
        "id": "DupEkZQhEQcI",
        "outputId": "a3fd9bc4-b4f3-470f-f3a4-e527b1dab1c8"
      },
      "source": [
        "Quick = sorted(glob.glob('/content/drive/MyDrive/data/dataset/quick*.xlsx'))\n",
        "Quick"
      ],
      "execution_count": 9,
      "outputs": [
        {
          "output_type": "execute_result",
          "data": {
            "text/plain": [
              "['/content/drive/MyDrive/data/dataset/quick1.xlsx',\n",
              " '/content/drive/MyDrive/data/dataset/quick11.xlsx',\n",
              " '/content/drive/MyDrive/data/dataset/quick12.xlsx',\n",
              " '/content/drive/MyDrive/data/dataset/quick13.xlsx',\n",
              " '/content/drive/MyDrive/data/dataset/quick2.xlsx',\n",
              " '/content/drive/MyDrive/data/dataset/quick3.xlsx',\n",
              " '/content/drive/MyDrive/data/dataset/quick4.xlsx',\n",
              " '/content/drive/MyDrive/data/dataset/quick5.xlsx',\n",
              " '/content/drive/MyDrive/data/dataset/quick7.xlsx',\n",
              " '/content/drive/MyDrive/data/dataset/quick8.xlsx',\n",
              " '/content/drive/MyDrive/data/dataset/quick9.xlsx']"
            ]
          },
          "metadata": {},
          "execution_count": 9
        }
      ]
    },
    {
      "cell_type": "code",
      "metadata": {
        "id": "lkOe3XnMsClA"
      },
      "source": [
        "# a = pd.read_excel(Quick[3])\n",
        "# a.describe()"
      ],
      "execution_count": null,
      "outputs": []
    },
    {
      "cell_type": "code",
      "metadata": {
        "colab": {
          "base_uri": "https://localhost:8080/"
        },
        "id": "r1Q5df_JLBod",
        "outputId": "826020c8-da5b-4a1f-da54-06ac52bae4ae"
      },
      "source": [
        "Normal = sorted(glob.glob('/content/drive/MyDrive/data/dataset/normal*.xlsx'))\n",
        "Normal"
      ],
      "execution_count": 10,
      "outputs": [
        {
          "output_type": "execute_result",
          "data": {
            "text/plain": [
              "['/content/drive/MyDrive/data/dataset/normal1.xlsx',\n",
              " '/content/drive/MyDrive/data/dataset/normal10.xlsx',\n",
              " '/content/drive/MyDrive/data/dataset/normal11.xlsx',\n",
              " '/content/drive/MyDrive/data/dataset/normal12.xlsx',\n",
              " '/content/drive/MyDrive/data/dataset/normal2.xlsx',\n",
              " '/content/drive/MyDrive/data/dataset/normal3.xlsx',\n",
              " '/content/drive/MyDrive/data/dataset/normal4.xlsx',\n",
              " '/content/drive/MyDrive/data/dataset/normal5.xlsx',\n",
              " '/content/drive/MyDrive/data/dataset/normal6.xlsx',\n",
              " '/content/drive/MyDrive/data/dataset/normal7.xlsx',\n",
              " '/content/drive/MyDrive/data/dataset/normal8.xlsx',\n",
              " '/content/drive/MyDrive/data/dataset/normal9.xlsx']"
            ]
          },
          "metadata": {},
          "execution_count": 10
        }
      ]
    },
    {
      "cell_type": "code",
      "metadata": {
        "colab": {
          "base_uri": "https://localhost:8080/"
        },
        "id": "kqY1ydePvYVk",
        "outputId": "3ee745b7-5200-4ccc-dc3a-dd3a9ea97ab1"
      },
      "source": [
        "Deep = sorted(glob.glob('/content/drive/MyDrive/data/dataset/deep*.xlsx'))\n",
        "Deep"
      ],
      "execution_count": 11,
      "outputs": [
        {
          "output_type": "execute_result",
          "data": {
            "text/plain": [
              "['/content/drive/MyDrive/data/dataset/deep.xlsx',\n",
              " '/content/drive/MyDrive/data/dataset/deep1.xlsx',\n",
              " '/content/drive/MyDrive/data/dataset/deep10.xlsx',\n",
              " '/content/drive/MyDrive/data/dataset/deep11.xlsx',\n",
              " '/content/drive/MyDrive/data/dataset/deep2.xlsx',\n",
              " '/content/drive/MyDrive/data/dataset/deep3.xlsx',\n",
              " '/content/drive/MyDrive/data/dataset/deep4.xlsx',\n",
              " '/content/drive/MyDrive/data/dataset/deep5.xlsx',\n",
              " '/content/drive/MyDrive/data/dataset/deep6.xlsx',\n",
              " '/content/drive/MyDrive/data/dataset/deep7.xlsx',\n",
              " '/content/drive/MyDrive/data/dataset/deep8.xlsx',\n",
              " '/content/drive/MyDrive/data/dataset/deep9.xlsx']"
            ]
          },
          "metadata": {},
          "execution_count": 11
        }
      ]
    },
    {
      "cell_type": "code",
      "metadata": {
        "id": "tOEwNhWA3jpP"
      },
      "source": [
        "# del df['Max'] # EXAMPLE TO DELETE COLUMN: del"
      ],
      "execution_count": null,
      "outputs": []
    },
    {
      "cell_type": "markdown",
      "metadata": {
        "id": "oC_1KfxXdwpu"
      },
      "source": [
        "# CHANGE THE LABEL VALUES WHEN BINARY CLASSIFICATION"
      ]
    },
    {
      "cell_type": "code",
      "metadata": {
        "colab": {
          "base_uri": "https://localhost:8080/",
          "height": 419
        },
        "id": "un_7W-qCG6Nd",
        "outputId": "641c1085-9c7d-41ab-c33f-12335cde9b7f"
      },
      "source": [
        "po = []\n",
        "po = pd.DataFrame()\n",
        "for p in range(len(Quick)):\n",
        "  data = pd.read_excel(Quick[p]) # reading through the glob file which contains the files\n",
        "  quick = pd.DataFrame(data)\n",
        "  quick.columns = ['Index','Breath data'] # giving columns to dataframe\n",
        "  quick = quick.drop(['Index'],axis = 1) # drop unecessary columns\n",
        "  label = []\n",
        "  for i in range(len(quick)):\n",
        "      label.append('Not Normal') # adding label to each row of column, [ Not Normal for Binary, 'Quick' for normal classification. ]\n",
        "  quick['Label'] = label # joining the label column to the dataset\n",
        "  sc = quick['Breath data'].values.reshape(-1,1) # reshape 1d values [1.33] to [[1.33],]\n",
        "  scaler = RobustScaler() # calling the scaler after i reshape the previous data to match the input style of scaler\n",
        "  k = scaler.fit(sc) # do all the calculation required to do scaling on data\n",
        "  l = scaler.transform(sc) # no return the values through the calculation.\n",
        "  sc = l\n",
        "  quick['Breath data'] = sc\n",
        "  po = po.append(quick)\n",
        "\n",
        "po.append(quick1)\n",
        "quick = po\n",
        "quick = quick.append(quick1)\n",
        "quick.reset_index(inplace=True, drop=True)\n",
        "\n",
        "quick"
      ],
      "execution_count": 12,
      "outputs": [
        {
          "output_type": "execute_result",
          "data": {
            "text/html": [
              "<div>\n",
              "<style scoped>\n",
              "    .dataframe tbody tr th:only-of-type {\n",
              "        vertical-align: middle;\n",
              "    }\n",
              "\n",
              "    .dataframe tbody tr th {\n",
              "        vertical-align: top;\n",
              "    }\n",
              "\n",
              "    .dataframe thead th {\n",
              "        text-align: right;\n",
              "    }\n",
              "</style>\n",
              "<table border=\"1\" class=\"dataframe\">\n",
              "  <thead>\n",
              "    <tr style=\"text-align: right;\">\n",
              "      <th></th>\n",
              "      <th>Breath data</th>\n",
              "      <th>Label</th>\n",
              "    </tr>\n",
              "  </thead>\n",
              "  <tbody>\n",
              "    <tr>\n",
              "      <th>0</th>\n",
              "      <td>3.000000</td>\n",
              "      <td>Not Normal</td>\n",
              "    </tr>\n",
              "    <tr>\n",
              "      <th>1</th>\n",
              "      <td>2.857143</td>\n",
              "      <td>Not Normal</td>\n",
              "    </tr>\n",
              "    <tr>\n",
              "      <th>2</th>\n",
              "      <td>2.857143</td>\n",
              "      <td>Not Normal</td>\n",
              "    </tr>\n",
              "    <tr>\n",
              "      <th>3</th>\n",
              "      <td>2.714286</td>\n",
              "      <td>Not Normal</td>\n",
              "    </tr>\n",
              "    <tr>\n",
              "      <th>4</th>\n",
              "      <td>2.571429</td>\n",
              "      <td>Not Normal</td>\n",
              "    </tr>\n",
              "    <tr>\n",
              "      <th>...</th>\n",
              "      <td>...</td>\n",
              "      <td>...</td>\n",
              "    </tr>\n",
              "    <tr>\n",
              "      <th>13117</th>\n",
              "      <td>0.500000</td>\n",
              "      <td>Not Normal</td>\n",
              "    </tr>\n",
              "    <tr>\n",
              "      <th>13118</th>\n",
              "      <td>-0.500000</td>\n",
              "      <td>Not Normal</td>\n",
              "    </tr>\n",
              "    <tr>\n",
              "      <th>13119</th>\n",
              "      <td>-0.500000</td>\n",
              "      <td>Not Normal</td>\n",
              "    </tr>\n",
              "    <tr>\n",
              "      <th>13120</th>\n",
              "      <td>-0.500000</td>\n",
              "      <td>Not Normal</td>\n",
              "    </tr>\n",
              "    <tr>\n",
              "      <th>13121</th>\n",
              "      <td>-0.500000</td>\n",
              "      <td>Not Normal</td>\n",
              "    </tr>\n",
              "  </tbody>\n",
              "</table>\n",
              "<p>13122 rows × 2 columns</p>\n",
              "</div>"
            ],
            "text/plain": [
              "       Breath data       Label\n",
              "0         3.000000  Not Normal\n",
              "1         2.857143  Not Normal\n",
              "2         2.857143  Not Normal\n",
              "3         2.714286  Not Normal\n",
              "4         2.571429  Not Normal\n",
              "...            ...         ...\n",
              "13117     0.500000  Not Normal\n",
              "13118    -0.500000  Not Normal\n",
              "13119    -0.500000  Not Normal\n",
              "13120    -0.500000  Not Normal\n",
              "13121    -0.500000  Not Normal\n",
              "\n",
              "[13122 rows x 2 columns]"
            ]
          },
          "metadata": {},
          "execution_count": 12
        }
      ]
    },
    {
      "cell_type": "markdown",
      "metadata": {
        "id": "3M-FZNJ645KZ"
      },
      "source": [
        "REMOVING THE WRONG DATA IN THE DATASET BY LOOPING THROUGH AND REMOVING THE ROW"
      ]
    },
    {
      "cell_type": "code",
      "metadata": {
        "colab": {
          "base_uri": "https://localhost:8080/",
          "height": 282
        },
        "id": "n_G4aBDes0Br",
        "outputId": "03fc660a-815a-452d-f127-37ad192d8978"
      },
      "source": [
        "for i in range(len(quick['Breath data'])):\n",
        "  if quick['Breath data'][i] < -6:\n",
        "    quick = quick.drop([i], axis = 0) # removing the row at [i], axis = 0 for row.\n",
        "quick['Breath data'].plot()"
      ],
      "execution_count": 13,
      "outputs": [
        {
          "output_type": "execute_result",
          "data": {
            "text/plain": [
              "<matplotlib.axes._subplots.AxesSubplot at 0x7f28b48e84d0>"
            ]
          },
          "metadata": {},
          "execution_count": 13
        },
        {
          "output_type": "display_data",
          "data": {
            "image/png": "[encoded data removed]",
            "text/plain": [
              "<Figure size 432x288 with 1 Axes>"
            ]
          },
          "metadata": {
            "needs_background": "light"
          }
        }
      ]
    },
    {
      "cell_type": "code",
      "metadata": {
        "colab": {
          "base_uri": "https://localhost:8080/",
          "height": 297
        },
        "id": "pRJpPeS6atJu",
        "outputId": "cca8caf0-40b8-4073-99e9-0711a03f9d9d"
      },
      "source": [
        "quick.describe()"
      ],
      "execution_count": null,
      "outputs": [
        {
          "output_type": "execute_result",
          "data": {
            "text/html": [
              "<div>\n",
              "<style scoped>\n",
              "    .dataframe tbody tr th:only-of-type {\n",
              "        vertical-align: middle;\n",
              "    }\n",
              "\n",
              "    .dataframe tbody tr th {\n",
              "        vertical-align: top;\n",
              "    }\n",
              "\n",
              "    .dataframe thead th {\n",
              "        text-align: right;\n",
              "    }\n",
              "</style>\n",
              "<table border=\"1\" class=\"dataframe\">\n",
              "  <thead>\n",
              "    <tr style=\"text-align: right;\">\n",
              "      <th></th>\n",
              "      <th>Breath data</th>\n",
              "    </tr>\n",
              "  </thead>\n",
              "  <tbody>\n",
              "    <tr>\n",
              "      <th>count</th>\n",
              "      <td>13121.000000</td>\n",
              "    </tr>\n",
              "    <tr>\n",
              "      <th>mean</th>\n",
              "      <td>0.071153</td>\n",
              "    </tr>\n",
              "    <tr>\n",
              "      <th>std</th>\n",
              "      <td>0.776804</td>\n",
              "    </tr>\n",
              "    <tr>\n",
              "      <th>min</th>\n",
              "      <td>-2.588235</td>\n",
              "    </tr>\n",
              "    <tr>\n",
              "      <th>25%</th>\n",
              "      <td>-0.444444</td>\n",
              "    </tr>\n",
              "    <tr>\n",
              "      <th>50%</th>\n",
              "      <td>0.000000</td>\n",
              "    </tr>\n",
              "    <tr>\n",
              "      <th>75%</th>\n",
              "      <td>0.500000</td>\n",
              "    </tr>\n",
              "    <tr>\n",
              "      <th>max</th>\n",
              "      <td>4.631579</td>\n",
              "    </tr>\n",
              "  </tbody>\n",
              "</table>\n",
              "</div>"
            ],
            "text/plain": [
              "        Breath data\n",
              "count  13121.000000\n",
              "mean       0.071153\n",
              "std        0.776804\n",
              "min       -2.588235\n",
              "25%       -0.444444\n",
              "50%        0.000000\n",
              "75%        0.500000\n",
              "max        4.631579"
            ]
          },
          "metadata": {
            "tags": []
          },
          "execution_count": 17
        }
      ]
    },
    {
      "cell_type": "markdown",
      "metadata": {
        "id": "v7u3zoyX5SQj"
      },
      "source": [
        "CODE FOR ROBUST SCALING USED IN EACH FOR-LOOP ABOVE."
      ]
    },
    {
      "cell_type": "code",
      "metadata": {
        "id": "0d-WNraaGWOS"
      },
      "source": [
        "# sc = quick['Breath data'].values.reshape(-1,1)\n",
        "# scaler = RobustScaler()\n",
        "# k = scaler.fit(sc)\n",
        "# l = scaler.transform(sc)\n",
        "# sc = l\n",
        "# sc"
      ],
      "execution_count": null,
      "outputs": []
    },
    {
      "cell_type": "markdown",
      "metadata": {
        "id": "uJv8oESMMw9j"
      },
      "source": [
        "I HAVE SCALED THE DATASETS OF SAME LABEL TOGETHER FOR DIFFERENT LABELS, SO THAT THE DATA IS COMPARABLE IN SAME LABELS BUT DIFFERENT FOR DIFFERENT LABELS."
      ]
    },
    {
      "cell_type": "code",
      "metadata": {
        "id": "OgzikxnFHNes"
      },
      "source": [
        "po = []\n",
        "po = pd.DataFrame()\n",
        "\n",
        "for p in range(len(Deep)):\n",
        "    data = pd.read_excel(Deep[p])\n",
        "    deep = pd.DataFrame(data)\n",
        "    deep.columns = ['Index','Breath data']\n",
        "    deep = deep.drop(['Index'],axis = 1)\n",
        "    label = []\n",
        "    for i in range(len(deep)):\n",
        "        label.append('Not Normal') # Not Normal for Binary, 'Deep' for normal classification.\n",
        "    deep['Label'] = label \n",
        "\n",
        "    sc = deep['Breath data'].values.reshape(-1,1)\n",
        "    scaler = RobustScaler()\n",
        "    k = scaler.fit(sc)\n",
        "    l = scaler.transform(sc)\n",
        "    sc = l\n",
        "    deep['Breath data']= sc\n",
        "    po = po.append(deep)\n",
        "\n",
        "po.append(deep1)\n",
        "deep = po\n",
        "deep = deep.append(deep1)\n",
        "deep.reset_index(inplace=True, drop=True)\n"
      ],
      "execution_count": 14,
      "outputs": []
    },
    {
      "cell_type": "code",
      "metadata": {
        "colab": {
          "base_uri": "https://localhost:8080/",
          "height": 282
        },
        "id": "Kal59iyjXa-M",
        "outputId": "e4483f4f-d4bc-445f-9282-a07f0ebaf364"
      },
      "source": [
        "deep.plot()"
      ],
      "execution_count": null,
      "outputs": [
        {
          "output_type": "execute_result",
          "data": {
            "text/plain": [
              "<matplotlib.axes._subplots.AxesSubplot at 0x7ff9e121b990>"
            ]
          },
          "metadata": {
            "tags": []
          },
          "execution_count": 265
        },
        {
          "output_type": "display_data",
          "data": {
            "image/png": "[encoded data removed]",
            "text/plain": [
              "<Figure size 432x288 with 1 Axes>"
            ]
          },
          "metadata": {
            "tags": [],
            "needs_background": "light"
          }
        }
      ]
    },
    {
      "cell_type": "code",
      "metadata": {
        "colab": {
          "base_uri": "https://localhost:8080/",
          "height": 297
        },
        "id": "gSI7ZaMmBRsv",
        "outputId": "8062b5ae-09ac-4ddc-9392-c222831ff1df"
      },
      "source": [
        "deep.describe()"
      ],
      "execution_count": null,
      "outputs": [
        {
          "output_type": "execute_result",
          "data": {
            "text/html": [
              "<div>\n",
              "<style scoped>\n",
              "    .dataframe tbody tr th:only-of-type {\n",
              "        vertical-align: middle;\n",
              "    }\n",
              "\n",
              "    .dataframe tbody tr th {\n",
              "        vertical-align: top;\n",
              "    }\n",
              "\n",
              "    .dataframe thead th {\n",
              "        text-align: right;\n",
              "    }\n",
              "</style>\n",
              "<table border=\"1\" class=\"dataframe\">\n",
              "  <thead>\n",
              "    <tr style=\"text-align: right;\">\n",
              "      <th></th>\n",
              "      <th>Breath data</th>\n",
              "    </tr>\n",
              "  </thead>\n",
              "  <tbody>\n",
              "    <tr>\n",
              "      <th>count</th>\n",
              "      <td>14280.000000</td>\n",
              "    </tr>\n",
              "    <tr>\n",
              "      <th>mean</th>\n",
              "      <td>0.078436</td>\n",
              "    </tr>\n",
              "    <tr>\n",
              "      <th>std</th>\n",
              "      <td>0.736975</td>\n",
              "    </tr>\n",
              "    <tr>\n",
              "      <th>min</th>\n",
              "      <td>-1.565217</td>\n",
              "    </tr>\n",
              "    <tr>\n",
              "      <th>25%</th>\n",
              "      <td>-0.466667</td>\n",
              "    </tr>\n",
              "    <tr>\n",
              "      <th>50%</th>\n",
              "      <td>0.000000</td>\n",
              "    </tr>\n",
              "    <tr>\n",
              "      <th>75%</th>\n",
              "      <td>0.523077</td>\n",
              "    </tr>\n",
              "    <tr>\n",
              "      <th>max</th>\n",
              "      <td>3.913043</td>\n",
              "    </tr>\n",
              "  </tbody>\n",
              "</table>\n",
              "</div>"
            ],
            "text/plain": [
              "        Breath data\n",
              "count  14280.000000\n",
              "mean       0.078436\n",
              "std        0.736975\n",
              "min       -1.565217\n",
              "25%       -0.466667\n",
              "50%        0.000000\n",
              "75%        0.523077\n",
              "max        3.913043"
            ]
          },
          "metadata": {
            "tags": []
          },
          "execution_count": 141
        }
      ]
    },
    {
      "cell_type": "code",
      "metadata": {
        "id": "Ti6zbk8oKPED"
      },
      "source": [
        "po = []\n",
        "po = pd.DataFrame()\n",
        "\n",
        "for p in range(len(Normal)):\n",
        "      data = pd.read_excel(Normal[p])\n",
        "      normal = pd.DataFrame(data)\n",
        "      normal.columns = ['Index','Breath data']\n",
        "      normal = normal.drop(['Index'],axis = 1)\n",
        "      label = []\n",
        "      \n",
        "      for i in range(len(normal)):\n",
        "           label.append('Normal')\n",
        "      normal['Label'] = label \n",
        "\n",
        "      sc = normal['Breath data'].values.reshape(-1,1)\n",
        "      scaler = RobustScaler()\n",
        "      k = scaler.fit(sc)\n",
        "      l = scaler.transform(sc)\n",
        "      sc = l\n",
        "      normal['Breath data']= sc\n",
        "      po = po.append(normal)\n",
        "\n",
        "po.append(normal1)\n",
        "normal = po\n",
        "normal = normal.append(normal1)\n",
        "normal.reset_index(inplace=True, drop=True)"
      ],
      "execution_count": 15,
      "outputs": []
    },
    {
      "cell_type": "code",
      "metadata": {
        "colab": {
          "base_uri": "https://localhost:8080/",
          "height": 282
        },
        "id": "tXdiSdN8TyhU",
        "outputId": "85b68337-3f02-4276-9c9a-72286ca8cd73"
      },
      "source": [
        "normal.plot()"
      ],
      "execution_count": 18,
      "outputs": [
        {
          "output_type": "execute_result",
          "data": {
            "text/plain": [
              "<matplotlib.axes._subplots.AxesSubplot at 0x7f3b3b53e1d0>"
            ]
          },
          "metadata": {},
          "execution_count": 18
        },
        {
          "output_type": "display_data",
          "data": {
            "image/png": "[encoded data removed]",
            "text/plain": [
              "<Figure size 432x288 with 1 Axes>"
            ]
          },
          "metadata": {
            "needs_background": "light"
          }
        }
      ]
    },
    {
      "cell_type": "markdown",
      "metadata": {
        "id": "b1VEK6su5SUt"
      },
      "source": [
        "The fit method is calculating the mean and variance of each of the features present in our data. The transform method is transforming all the features using the respective mean and variance."
      ]
    },
    {
      "cell_type": "markdown",
      "metadata": {
        "id": "iVbIhuKdyq4_"
      },
      "source": [
        "Stack dataframes, Pull out values in between and put it in test, fit the model. # when i figured out !"
      ]
    },
    {
      "cell_type": "markdown",
      "metadata": {
        "id": "5ONVDIrXKSsS"
      },
      "source": [
        "FOR THE DATASETS LATER USED"
      ]
    },
    {
      "cell_type": "code",
      "metadata": {
        "colab": {
          "base_uri": "https://localhost:8080/",
          "height": 297
        },
        "id": "6H2FFpSPLeGC",
        "outputId": "020f8e4f-14d4-4d3c-9979-7966cb75d9ca"
      },
      "source": [
        "k = normal.append(deep)\n",
        "total = k.append(quick) # Quick & Deep are NOT NORMAL\n",
        "total.describe()"
      ],
      "execution_count": 16,
      "outputs": [
        {
          "output_type": "execute_result",
          "data": {
            "text/html": [
              "<div>\n",
              "<style scoped>\n",
              "    .dataframe tbody tr th:only-of-type {\n",
              "        vertical-align: middle;\n",
              "    }\n",
              "\n",
              "    .dataframe tbody tr th {\n",
              "        vertical-align: top;\n",
              "    }\n",
              "\n",
              "    .dataframe thead th {\n",
              "        text-align: right;\n",
              "    }\n",
              "</style>\n",
              "<table border=\"1\" class=\"dataframe\">\n",
              "  <thead>\n",
              "    <tr style=\"text-align: right;\">\n",
              "      <th></th>\n",
              "      <th>Breath data</th>\n",
              "    </tr>\n",
              "  </thead>\n",
              "  <tbody>\n",
              "    <tr>\n",
              "      <th>count</th>\n",
              "      <td>42135.000000</td>\n",
              "    </tr>\n",
              "    <tr>\n",
              "      <th>mean</th>\n",
              "      <td>0.068156</td>\n",
              "    </tr>\n",
              "    <tr>\n",
              "      <th>std</th>\n",
              "      <td>0.744887</td>\n",
              "    </tr>\n",
              "    <tr>\n",
              "      <th>min</th>\n",
              "      <td>-2.588235</td>\n",
              "    </tr>\n",
              "    <tr>\n",
              "      <th>25%</th>\n",
              "      <td>-0.456522</td>\n",
              "    </tr>\n",
              "    <tr>\n",
              "      <th>50%</th>\n",
              "      <td>0.000000</td>\n",
              "    </tr>\n",
              "    <tr>\n",
              "      <th>75%</th>\n",
              "      <td>0.521739</td>\n",
              "    </tr>\n",
              "    <tr>\n",
              "      <th>max</th>\n",
              "      <td>4.631579</td>\n",
              "    </tr>\n",
              "  </tbody>\n",
              "</table>\n",
              "</div>"
            ],
            "text/plain": [
              "        Breath data\n",
              "count  42135.000000\n",
              "mean       0.068156\n",
              "std        0.744887\n",
              "min       -2.588235\n",
              "25%       -0.456522\n",
              "50%        0.000000\n",
              "75%        0.521739\n",
              "max        4.631579"
            ]
          },
          "metadata": {},
          "execution_count": 16
        }
      ]
    },
    {
      "cell_type": "markdown",
      "metadata": {
        "id": "K5BtUsvuhodK"
      },
      "source": [
        "## RESET INDEX & Label Encoding"
      ]
    },
    {
      "cell_type": "markdown",
      "metadata": {
        "id": "DyzElg56AZVZ"
      },
      "source": [
        "SEE EACH LABEL SIZE"
      ]
    },
    {
      "cell_type": "code",
      "metadata": {
        "colab": {
          "base_uri": "https://localhost:8080/"
        },
        "id": "nYjAtYAhAbGJ",
        "outputId": "25ba74b4-64c7-4b85-bf1c-5962b08fcb30"
      },
      "source": [
        "total.groupby('Label').size() # 0 = NORMAL, 1 = NOT NORMAL "
      ],
      "execution_count": 70,
      "outputs": [
        {
          "output_type": "execute_result",
          "data": {
            "text/plain": [
              "Label\n",
              "0    14734\n",
              "1    27401\n",
              "dtype: int64"
            ]
          },
          "metadata": {},
          "execution_count": 70
        }
      ]
    },
    {
      "cell_type": "code",
      "metadata": {
        "colab": {
          "base_uri": "https://localhost:8080/",
          "height": 282
        },
        "id": "mwFCR0fzLeBG",
        "outputId": "5eaab9d7-40db-4f9f-e676-cd4b815b8be1"
      },
      "source": [
        "total.reset_index(inplace=True, drop=True)\n",
        "total.plot()"
      ],
      "execution_count": 17,
      "outputs": [
        {
          "output_type": "execute_result",
          "data": {
            "text/plain": [
              "<matplotlib.axes._subplots.AxesSubplot at 0x7f28b4164a50>"
            ]
          },
          "metadata": {},
          "execution_count": 17
        },
        {
          "output_type": "display_data",
          "data": {
            "image/png": "[encoded data removed]",
            "text/plain": [
              "<Figure size 432x288 with 1 Axes>"
            ]
          },
          "metadata": {
            "needs_background": "light"
          }
        }
      ]
    },
    {
      "cell_type": "markdown",
      "metadata": {
        "id": "IGpID0iTHLbN"
      },
      "source": [
        "LABEL ENCODING"
      ]
    },
    {
      "cell_type": "code",
      "metadata": {
        "id": "Y6LR4nfRnu6D"
      },
      "source": [
        "from sklearn.preprocessing import LabelEncoder\n",
        "le = LabelEncoder() # make an object of the class\n",
        "total['Label'] = le.fit_transform(total['Label']) # replace the class with transformed column"
      ],
      "execution_count": 18,
      "outputs": []
    },
    {
      "cell_type": "code",
      "metadata": {
        "id": "QfRGbGso-GNz"
      },
      "source": [
        "c = np.arange(0, len(total))"
      ],
      "execution_count": 130,
      "outputs": []
    },
    {
      "cell_type": "code",
      "metadata": {
        "colab": {
          "base_uri": "https://localhost:8080/",
          "height": 282
        },
        "id": "8QYfHG4D9rxa",
        "outputId": "25bd9a7d-0622-4b57-fda0-728bd3389fb9"
      },
      "source": [
        "plt.scatter(total['Breath data'], c)"
      ],
      "execution_count": 133,
      "outputs": [
        {
          "output_type": "execute_result",
          "data": {
            "text/plain": [
              "<matplotlib.collections.PathCollection at 0x7f3aeeac3510>"
            ]
          },
          "metadata": {},
          "execution_count": 133
        },
        {
          "output_type": "display_data",
          "data": {
            "image/png": "[encoded data removed]",
            "text/plain": [
              "<Figure size 432x288 with 1 Axes>"
            ]
          },
          "metadata": {
            "needs_background": "light"
          }
        }
      ]
    },
    {
      "cell_type": "markdown",
      "metadata": {
        "id": "-kfFXETr3cAg"
      },
      "source": [
        "# FOR PLOTTING WE USE ANOTHER WAY"
      ]
    },
    {
      "cell_type": "markdown",
      "metadata": {
        "id": "G9_vKxG7Uhez"
      },
      "source": [
        "Dividing two sets = normal and not normal"
      ]
    },
    {
      "cell_type": "code",
      "metadata": {
        "id": "vpxuuqAHhGQ0"
      },
      "source": [
        "notNormal = []\n",
        "notNormal = pd.DataFrame(notNormal)\n"
      ],
      "execution_count": null,
      "outputs": []
    },
    {
      "cell_type": "code",
      "metadata": {
        "id": "EGe7jFGD1WMO"
      },
      "source": [
        "notNormal = quick.append(deep)\n",
        "le = LabelEncoder() # make an object of the class\n",
        "# notNormal['Label'] = le.fit_transform(notNormal['Label']) # replace the class with transformed column"
      ],
      "execution_count": null,
      "outputs": []
    },
    {
      "cell_type": "code",
      "metadata": {
        "colab": {
          "base_uri": "https://localhost:8080/",
          "height": 419
        },
        "id": "kx6wuMrKhy2s",
        "outputId": "cc4573cf-1283-4145-bb6a-f0c925d0eb29"
      },
      "source": [
        "notNormal.reset_index(inplace=True, drop=True)\n",
        "notNormal"
      ],
      "execution_count": null,
      "outputs": [
        {
          "output_type": "execute_result",
          "data": {
            "text/html": [
              "<div>\n",
              "<style scoped>\n",
              "    .dataframe tbody tr th:only-of-type {\n",
              "        vertical-align: middle;\n",
              "    }\n",
              "\n",
              "    .dataframe tbody tr th {\n",
              "        vertical-align: top;\n",
              "    }\n",
              "\n",
              "    .dataframe thead th {\n",
              "        text-align: right;\n",
              "    }\n",
              "</style>\n",
              "<table border=\"1\" class=\"dataframe\">\n",
              "  <thead>\n",
              "    <tr style=\"text-align: right;\">\n",
              "      <th></th>\n",
              "      <th>Breath data</th>\n",
              "      <th>Label</th>\n",
              "    </tr>\n",
              "  </thead>\n",
              "  <tbody>\n",
              "    <tr>\n",
              "      <th>0</th>\n",
              "      <td>3.000000</td>\n",
              "      <td>Not Normal</td>\n",
              "    </tr>\n",
              "    <tr>\n",
              "      <th>1</th>\n",
              "      <td>2.857143</td>\n",
              "      <td>Not Normal</td>\n",
              "    </tr>\n",
              "    <tr>\n",
              "      <th>2</th>\n",
              "      <td>2.857143</td>\n",
              "      <td>Not Normal</td>\n",
              "    </tr>\n",
              "    <tr>\n",
              "      <th>3</th>\n",
              "      <td>2.714286</td>\n",
              "      <td>Not Normal</td>\n",
              "    </tr>\n",
              "    <tr>\n",
              "      <th>4</th>\n",
              "      <td>2.571429</td>\n",
              "      <td>Not Normal</td>\n",
              "    </tr>\n",
              "    <tr>\n",
              "      <th>...</th>\n",
              "      <td>...</td>\n",
              "      <td>...</td>\n",
              "    </tr>\n",
              "    <tr>\n",
              "      <th>27396</th>\n",
              "      <td>-0.764706</td>\n",
              "      <td>Not Normal</td>\n",
              "    </tr>\n",
              "    <tr>\n",
              "      <th>27397</th>\n",
              "      <td>-0.823529</td>\n",
              "      <td>Not Normal</td>\n",
              "    </tr>\n",
              "    <tr>\n",
              "      <th>27398</th>\n",
              "      <td>-0.823529</td>\n",
              "      <td>Not Normal</td>\n",
              "    </tr>\n",
              "    <tr>\n",
              "      <th>27399</th>\n",
              "      <td>-0.882353</td>\n",
              "      <td>Not Normal</td>\n",
              "    </tr>\n",
              "    <tr>\n",
              "      <th>27400</th>\n",
              "      <td>-0.941176</td>\n",
              "      <td>Not Normal</td>\n",
              "    </tr>\n",
              "  </tbody>\n",
              "</table>\n",
              "<p>27401 rows × 2 columns</p>\n",
              "</div>"
            ],
            "text/plain": [
              "       Breath data       Label\n",
              "0         3.000000  Not Normal\n",
              "1         2.857143  Not Normal\n",
              "2         2.857143  Not Normal\n",
              "3         2.714286  Not Normal\n",
              "4         2.571429  Not Normal\n",
              "...            ...         ...\n",
              "27396    -0.764706  Not Normal\n",
              "27397    -0.823529  Not Normal\n",
              "27398    -0.823529  Not Normal\n",
              "27399    -0.882353  Not Normal\n",
              "27400    -0.941176  Not Normal\n",
              "\n",
              "[27401 rows x 2 columns]"
            ]
          },
          "metadata": {
            "tags": []
          },
          "execution_count": 377
        }
      ]
    },
    {
      "cell_type": "code",
      "metadata": {
        "colab": {
          "base_uri": "https://localhost:8080/",
          "height": 419
        },
        "id": "nnHVccLSVGt5",
        "outputId": "e135d90e-f2d7-4928-b97d-01647e2f6454"
      },
      "source": [
        "normal.reset_index(inplace=True, drop=True)\n",
        "normal"
      ],
      "execution_count": null,
      "outputs": [
        {
          "output_type": "execute_result",
          "data": {
            "text/html": [
              "<div>\n",
              "<style scoped>\n",
              "    .dataframe tbody tr th:only-of-type {\n",
              "        vertical-align: middle;\n",
              "    }\n",
              "\n",
              "    .dataframe tbody tr th {\n",
              "        vertical-align: top;\n",
              "    }\n",
              "\n",
              "    .dataframe thead th {\n",
              "        text-align: right;\n",
              "    }\n",
              "</style>\n",
              "<table border=\"1\" class=\"dataframe\">\n",
              "  <thead>\n",
              "    <tr style=\"text-align: right;\">\n",
              "      <th></th>\n",
              "      <th>Breath data</th>\n",
              "      <th>Label</th>\n",
              "    </tr>\n",
              "  </thead>\n",
              "  <tbody>\n",
              "    <tr>\n",
              "      <th>0</th>\n",
              "      <td>1.476190</td>\n",
              "      <td>Normal</td>\n",
              "    </tr>\n",
              "    <tr>\n",
              "      <th>1</th>\n",
              "      <td>1.571429</td>\n",
              "      <td>Normal</td>\n",
              "    </tr>\n",
              "    <tr>\n",
              "      <th>2</th>\n",
              "      <td>1.571429</td>\n",
              "      <td>Normal</td>\n",
              "    </tr>\n",
              "    <tr>\n",
              "      <th>3</th>\n",
              "      <td>1.666667</td>\n",
              "      <td>Normal</td>\n",
              "    </tr>\n",
              "    <tr>\n",
              "      <th>4</th>\n",
              "      <td>1.714286</td>\n",
              "      <td>Normal</td>\n",
              "    </tr>\n",
              "    <tr>\n",
              "      <th>...</th>\n",
              "      <td>...</td>\n",
              "      <td>...</td>\n",
              "    </tr>\n",
              "    <tr>\n",
              "      <th>14729</th>\n",
              "      <td>0.135593</td>\n",
              "      <td>Normal</td>\n",
              "    </tr>\n",
              "    <tr>\n",
              "      <th>14730</th>\n",
              "      <td>0.338983</td>\n",
              "      <td>Normal</td>\n",
              "    </tr>\n",
              "    <tr>\n",
              "      <th>14731</th>\n",
              "      <td>0.542373</td>\n",
              "      <td>Normal</td>\n",
              "    </tr>\n",
              "    <tr>\n",
              "      <th>14732</th>\n",
              "      <td>0.677966</td>\n",
              "      <td>Normal</td>\n",
              "    </tr>\n",
              "    <tr>\n",
              "      <th>14733</th>\n",
              "      <td>0.813559</td>\n",
              "      <td>Normal</td>\n",
              "    </tr>\n",
              "  </tbody>\n",
              "</table>\n",
              "<p>14734 rows × 2 columns</p>\n",
              "</div>"
            ],
            "text/plain": [
              "       Breath data   Label\n",
              "0         1.476190  Normal\n",
              "1         1.571429  Normal\n",
              "2         1.571429  Normal\n",
              "3         1.666667  Normal\n",
              "4         1.714286  Normal\n",
              "...            ...     ...\n",
              "14729     0.135593  Normal\n",
              "14730     0.338983  Normal\n",
              "14731     0.542373  Normal\n",
              "14732     0.677966  Normal\n",
              "14733     0.813559  Normal\n",
              "\n",
              "[14734 rows x 2 columns]"
            ]
          },
          "metadata": {
            "tags": []
          },
          "execution_count": 373
        }
      ]
    },
    {
      "cell_type": "code",
      "metadata": {
        "colab": {
          "base_uri": "https://localhost:8080/",
          "height": 204
        },
        "id": "CwdVezZguetS",
        "outputId": "77264bfd-a3d2-4651-c565-dbc1302cb9c6"
      },
      "source": [
        "notNormal.tail()"
      ],
      "execution_count": null,
      "outputs": [
        {
          "output_type": "execute_result",
          "data": {
            "text/html": [
              "<div>\n",
              "<style scoped>\n",
              "    .dataframe tbody tr th:only-of-type {\n",
              "        vertical-align: middle;\n",
              "    }\n",
              "\n",
              "    .dataframe tbody tr th {\n",
              "        vertical-align: top;\n",
              "    }\n",
              "\n",
              "    .dataframe thead th {\n",
              "        text-align: right;\n",
              "    }\n",
              "</style>\n",
              "<table border=\"1\" class=\"dataframe\">\n",
              "  <thead>\n",
              "    <tr style=\"text-align: right;\">\n",
              "      <th></th>\n",
              "      <th>Breath data</th>\n",
              "      <th>Label</th>\n",
              "    </tr>\n",
              "  </thead>\n",
              "  <tbody>\n",
              "    <tr>\n",
              "      <th>27396</th>\n",
              "      <td>-0.764706</td>\n",
              "      <td>Not Normal</td>\n",
              "    </tr>\n",
              "    <tr>\n",
              "      <th>27397</th>\n",
              "      <td>-0.823529</td>\n",
              "      <td>Not Normal</td>\n",
              "    </tr>\n",
              "    <tr>\n",
              "      <th>27398</th>\n",
              "      <td>-0.823529</td>\n",
              "      <td>Not Normal</td>\n",
              "    </tr>\n",
              "    <tr>\n",
              "      <th>27399</th>\n",
              "      <td>-0.882353</td>\n",
              "      <td>Not Normal</td>\n",
              "    </tr>\n",
              "    <tr>\n",
              "      <th>27400</th>\n",
              "      <td>-0.941176</td>\n",
              "      <td>Not Normal</td>\n",
              "    </tr>\n",
              "  </tbody>\n",
              "</table>\n",
              "</div>"
            ],
            "text/plain": [
              "       Breath data       Label\n",
              "27396    -0.764706  Not Normal\n",
              "27397    -0.823529  Not Normal\n",
              "27398    -0.823529  Not Normal\n",
              "27399    -0.882353  Not Normal\n",
              "27400    -0.941176  Not Normal"
            ]
          },
          "metadata": {
            "tags": []
          },
          "execution_count": 378
        }
      ]
    },
    {
      "cell_type": "markdown",
      "metadata": {
        "id": "uDQMJw3Ep5J4"
      },
      "source": [
        "# PLOTLY PEAK *PLOT*"
      ]
    },
    {
      "cell_type": "code",
      "metadata": {
        "colab": {
          "base_uri": "https://localhost:8080/",
          "height": 542
        },
        "id": "Ddw-OWu7TOUa",
        "outputId": "58aed7de-28f8-4582-d915-b1667cae5e04"
      },
      "source": [
        "import plotly.graph_objects as go\n",
        "import numpy as np\n",
        "import pandas as pd\n",
        "from scipy.signal import find_peaks\n",
        "\n",
        "breath_data = notNormal[:2000]\n",
        "breath_series = notNormal['Breath data'][:2000]\n",
        "\n",
        "indices = find_peaks(breath_series, prominence=0.1)[0] # (, threshold=10, prominence=1 # Best, width=20) to find max peaks but cannot find !\n",
        "# threshold=0.4   # Required vertical distance to its direct neighbouring samples, pretty useless\n",
        "\n",
        "fig = go.Figure()\n",
        "fig.add_trace(go.Scatter(\n",
        "    y=breath_series,\n",
        "    mode='lines+markers',\n",
        "    name='Original Plot'\n",
        "))\n",
        "\n",
        "fig.add_trace(go.Scatter(\n",
        "      x=indices,\n",
        "      y=[breath_series[j] for j in indices],\n",
        "      mode='markers',\n",
        "      marker=dict(\n",
        "             size=8,\n",
        "             color='red',\n",
        "             symbol='cross'\n",
        "            ),\n",
        "      name='Detected Peaks'\n",
        "           ))\n",
        "\n",
        "fig.show()"
      ],
      "execution_count": null,
      "outputs": [
        {
          "output_type": "display_data",
          "data": {
            "text/html": [
              "<html>\n",
              "<head><meta charset=\"utf-8\" /></head>\n",
              "<body>\n",
              "    <div>\n",
              "            <script src=\"https://cdnjs.cloudflare.com/ajax/libs/mathjax/2.7.5/MathJax.js?config=TeX-AMS-MML_SVG\"></script><script type=\"text/javascript\">if (window.MathJax) {MathJax.Hub.Config({SVG: {font: \"STIX-Web\"}});}</script>\n",
              "                <script type=\"text/javascript\">window.PlotlyConfig = {MathJaxConfig: 'local'};</script>\n",
              "        <script src=\"https://cdn.plot.ly/plotly-latest.min.js\"></script>    \n",
              "            <div id=\"d1cd4be4-70ca-4a3a-a4cf-cbb90472f68e\" class=\"plotly-graph-div\" style=\"height:525px; width:100%;\"></div>\n",
              "            <script type=\"text/javascript\">\n",
              "                \n",
              "                    window.PLOTLYENV=window.PLOTLYENV || {};\n",
              "                    \n",
              "                if (document.getElementById(\"d1cd4be4-70ca-4a3a-a4cf-cbb90472f68e\")) {\n",
              "                    Plotly.newPlot(\n",
              "                        'd1cd4be4-70ca-4a3a-a4cf-cbb90472f68e',\n",
              "                        [{\"mode\": \"lines+markers\", \"name\": \"Original Plot\", \"type\": \"scatter\", \"y\": [3.0000000000002536, 2.8571428571430566, 2.8571428571430566, 2.714285714285859, 2.571428571428789, 2.428571428571592, 2.2857142857143944, 2.142857142857324, 2.142857142857324, 2.000000000000127, 2.000000000000127, 2.000000000000127, 1.8571428571430566, 1.8571428571430566, 1.8571428571430566, 2.000000000000127, 3.142857142857324, 3.142857142857324, 3.0000000000002536, 2.8571428571430566, 2.8571428571430566, 2.714285714285859, 2.571428571428789, 2.428571428571592, 2.2857142857143944, 2.142857142857324, 2.142857142857324, 2.000000000000127, 2.000000000000127, 2.000000000000127, 1.8571428571430566, 1.8571428571430566, 1.8571428571430566, 2.000000000000127, 1.0000000000001268, 1.0000000000001268, 1.0000000000001268, 1.0000000000001268, 1.0000000000001268, 1.1428571428571972, 1.1428571428571972, 1.1428571428571972, 1.1428571428571972, 1.1428571428571972, 1.2857142857143944, 1.2857142857143944, 1.571428571428662, 1.7142857142858592, 1.8571428571430566, 2.142857142857324, 2.142857142857324, 2.142857142857324, 2.000000000000127, 2.000000000000127, 1.8571428571430566, 1.7142857142858592, 1.571428571428662, 1.4285714285715918, 1.4285714285715918, 1.2857142857143944, 1.2857142857143944, 1.2857142857143944, 1.1428571428571972, 1.1428571428571972, 1.2857142857143944, 1.2857142857143944, 1.4285714285715918, 1.571428571428662, 1.8571428571430566, 2.000000000000127, 2.142857142857324, 2.142857142857324, 2.000000000000127, 2.000000000000127, 1.8571428571430566, 1.7142857142858592, 1.571428571428662, 1.4285714285715918, 1.4285714285715918, 1.2857142857143944, 1.2857142857143944, 1.2857142857143944, 1.1428571428571972, 1.1428571428571972, 1.1428571428571972, 1.2857142857143944, 1.4285714285715918, 1.571428571428662, 1.7142857142858592, 1.8571428571430566, 2.000000000000127, 1.8571428571430566, 1.8571428571430566, 1.7142857142858592, 1.571428571428662, 1.4285714285715918, 1.4285714285715918, 1.2857142857143944, 1.2857142857143944, 1.2857142857143944, 1.1428571428571972, 1.1428571428571972, 1.1428571428571972, 1.1428571428571972, 1.1428571428571972, 1.1428571428571972, 1.1428571428571972, 1.2857142857143944, 1.4285714285715918, 1.571428571428662, 1.7142857142858592, 1.8571428571430566, 2.000000000000127, 1.8571428571430566, 1.7142857142858592, 1.571428571428662, 1.571428571428662, 1.2857142857143944, 1.1428571428571972, 1.1428571428571972, 1.1428571428571972, 1.1428571428571972, 1.0000000000001268, 1.0000000000001268, 0.8571428571429296, 0.8571428571429296, 1.0000000000001268, 1.1428571428571972, 1.2857142857143944, 1.571428571428662, 1.7142857142858592, 1.7142857142858592, 1.571428571428662, 1.4285714285715918, 1.4285714285715918, 1.1428571428571972, 1.0000000000001268, 0.8571428571429296, 0.8571428571429296, 0.7142857142858593, 0.5714285714286621, 0.4285714285714648, 0.28571428571439444, 0.14285714285719722, 0.14285714285719722, 0.14285714285719722, 0.14285714285719722, 0.28571428571439444, 0.4285714285714648, 0.7142857142858593, 0.8571428571429296, 1.0000000000001268, 1.0000000000001268, 0.8571428571429296, 0.7142857142858593, 0.4285714285714648, 0.28571428571439444, 0.14285714285719722, 0.14285714285719722, 0.0, 0.0, -0.14285714285707035, -0.14285714285707035, -0.14285714285707035, -0.2857142857142676, -0.42857142857133795, -0.2857142857142676, 0.0, 0.14285714285719722, 0.28571428571439444, 0.5714285714286621, 0.5714285714286621, 0.7142857142858593, 0.5714285714286621, 0.5714285714286621, 0.4285714285714648, 0.28571428571439444, 0.14285714285719722, 0.0, 0.14285714285719722, 0.14285714285719722, 0.14285714285719722, 0.14285714285719722, 0.14285714285719722, 0.0, 0.0, 0.14285714285719722, 0.28571428571439444, 0.4285714285714648, 0.4285714285714648, 0.7142857142858593, 0.7142857142858593, 0.8571428571429296, 0.7142857142858593, 0.5714285714286621, 0.5714285714286621, 0.4285714285714648, 0.28571428571439444, 0.14285714285719722, 0.14285714285719722, 0.14285714285719722, 0.28571428571439444, 0.28571428571439444, 0.14285714285719722, 0.0, 0.14285714285719722, 0.14285714285719722, 0.14285714285719722, 0.28571428571439444, 0.4285714285714648, 0.5714285714286621, 0.5714285714286621, 0.5714285714286621, 0.5714285714286621, 0.28571428571439444, 0.28571428571439444, 0.14285714285719722, 0.0, 0.0, 0.0, 0.0, 0.0, -0.14285714285707035, 0.0, 0.0, 0.14285714285719722, 0.14285714285719722, 0.28571428571439444, 0.4285714285714648, 0.4285714285714648, 0.5714285714286621, 0.5714285714286621, 0.4285714285714648, 0.28571428571439444, 0.28571428571439444, 0.14285714285719722, 0.0, 0.0, -0.14285714285707035, -0.14285714285707035, -0.14285714285707035, -0.2857142857142676, -0.2857142857142676, -0.14285714285707035, 0.0, 0.14285714285719722, 0.4285714285714648, 0.7142857142858593, 0.8571428571429296, 0.8571428571429296, 0.7142857142858593, 0.7142857142858593, 0.5714285714286621, 0.4285714285714648, 0.4285714285714648, 0.28571428571439444, 0.28571428571439444, 0.28571428571439444, 0.28571428571439444, 0.28571428571439444, 0.28571428571439444, 0.28571428571439444, 0.28571428571439444, 0.28571428571439444, 0.4285714285714648, 0.5714285714286621, 0.5714285714286621, 0.7142857142858593, 0.5714285714286621, 0.5714285714286621, 0.4285714285714648, 0.28571428571439444, 0.14285714285719722, 0.0, 0.0, -0.14285714285707035, -0.14285714285707035, -0.14285714285707035, -0.2857142857142676, -0.14285714285707035, 0.0, 0.28571428571439444, 0.28571428571439444, 0.4285714285714648, 0.7142857142858593, 0.8571428571429296, 1.0000000000001268, 1.1428571428571972, 1.1428571428571972, 1.1428571428571972, 1.1428571428571972, 1.0000000000001268, 0.7142857142858593, 0.7142857142858593, 0.5714285714286621, 0.28571428571439444, 0.28571428571439444, 0.14285714285719722, 0.0, 0.0, -0.14285714285707035, -0.14285714285707035, -0.14285714285707035, -0.14285714285707035, 0.0, 0.0, 0.14285714285719722, 0.14285714285719722, 0.28571428571439444, 0.14285714285719722, 0.0, -0.14285714285707035, -0.2857142857142676, -0.42857142857133795, -0.5714285714285352, -0.7142857142857324, -0.7142857142857324, -0.8571428571428028, -0.8571428571428028, -0.8571428571428028, -0.8571428571428028, -0.7142857142857324, -0.7142857142857324, -0.5714285714285352, -0.42857142857133795, -0.2857142857142676, -0.2857142857142676, -0.2857142857142676, -0.2857142857142676, -0.2857142857142676, -0.2857142857142676, -0.42857142857133795, -0.5714285714285352, -0.7142857142857324, -0.7142857142857324, -0.8571428571428028, -0.8571428571428028, -0.8571428571428028, -0.8571428571428028, -0.5714285714285352, -0.42857142857133795, -0.2857142857142676, -0.2857142857142676, -0.14285714285707035, -0.14285714285707035, -0.14285714285707035, -0.2857142857142676, -0.42857142857133795, -0.5714285714285352, -0.5714285714285352, -0.7142857142857324, -0.7142857142857324, -0.8571428571428028, -0.7142857142857324, -0.7142857142857324, -0.5714285714285352, -0.5714285714285352, -0.5714285714285352, -0.42857142857133795, -0.2857142857142676, -0.14285714285707035, 0.0, 0.0, 0.14285714285719722, 0.0, 0.0, -0.2857142857142676, -0.42857142857133795, -0.42857142857133795, -0.5714285714285352, -0.7142857142857324, -0.7142857142857324, -0.8571428571428028, -0.8571428571428028, -0.8571428571428028, -1.0, -1.0, -0.8571428571428028, -0.7142857142857324, -0.7142857142857324, -0.5714285714285352, -0.42857142857133795, -0.42857142857133795, -0.5714285714285352, -0.5714285714285352, -0.7142857142857324, -0.7142857142857324, -1.0, -1.1428571428571972, -1.1428571428571972, -1.1428571428571972, -1.1428571428571972, -1.1428571428571972, -1.1428571428571972, -1.1428571428571972, -1.1428571428571972, -1.0, -0.7142857142857324, -0.5714285714285352, -0.42857142857133795, -0.2857142857142676, -0.2857142857142676, -0.2857142857142676, -0.42857142857133795, -0.5714285714285352, -0.7142857142857324, -0.7142857142857324, -0.8571428571428028, -0.8571428571428028, -0.8571428571428028, -0.8571428571428028, -1.0, -0.8571428571428028, -0.7142857142857324, -0.7142857142857324, -0.7142857142857324, -0.42857142857133795, -0.42857142857133795, -0.42857142857133795, -0.42857142857133795, -0.42857142857133795, -0.42857142857133795, -0.5714285714285352, -0.7142857142857324, -0.7142857142857324, -0.8571428571428028, -0.8571428571428028, -0.8571428571428028, -1.0, -1.0, -0.8571428571428028, -0.7142857142857324, -0.7142857142857324, -0.5714285714285352, -0.42857142857133795, -0.2857142857142676, -0.14285714285707035, -0.2857142857142676, -0.2857142857142676, -0.2857142857142676, -0.42857142857133795, -0.5714285714285352, -0.5714285714285352, -0.7142857142857324, -0.7142857142857324, -0.8571428571428028, -0.8571428571428028, -0.8571428571428028, -1.0, -0.8571428571428028, -0.7142857142857324, -0.7142857142857324, -0.5714285714285352, -0.42857142857133795, -0.42857142857133795, -0.5714285714285352, -0.5714285714285352, -0.7142857142857324, -0.7142857142857324, -0.8571428571428028, -0.8571428571428028, -0.8571428571428028, -1.0, -1.0, -1.0, -0.8571428571428028, -0.8571428571428028, -0.5714285714285352, -0.42857142857133795, -0.2857142857142676, -0.14285714285707035, 0.14285714285719722, 0.28571428571439444, 0.4285714285714648, 0.4285714285714648, 0.5714285714286621, 0.5714285714286621, 0.4285714285714648, 0.28571428571439444, 0.14285714285719722, -0.14285714285707035, -0.2857142857142676, -0.42857142857133795, -0.5714285714285352, -0.42857142857133795, -0.5714285714285352, -0.7142857142857324, -0.7142857142857324, -0.7142857142857324, -0.5714285714285352, -0.42857142857133795, -0.2857142857142676, -0.14285714285707035, 0.14285714285719722, 0.28571428571439444, 0.28571428571439444, 0.14285714285719722, 0.14285714285719722, 0.0, 0.0, -0.14285714285707035, -0.14285714285707035, -0.14285714285707035, -0.2857142857142676, -0.2857142857142676, -0.2857142857142676, -0.2857142857142676, -0.2857142857142676, -0.2857142857142676, -0.2857142857142676, -0.2857142857142676, 0.0, 0.14285714285719722, 0.28571428571439444, 0.28571428571439444, 0.28571428571439444, 0.14285714285719722, 0.14285714285719722, 0.0, 0.0, -0.14285714285707035, -0.14285714285707035, -0.2857142857142676, -0.2857142857142676, -0.2857142857142676, -0.2857142857142676, -0.2857142857142676, 0.0, 0.14285714285719722, 0.28571428571439444, 0.5714285714286621, 0.8571428571429296, 1.1428571428571972, 1.1428571428571972, 1.1428571428571972, 1.1428571428571972, 1.0000000000001268, 0.8571428571429296, 0.7142857142858593, 0.7142857142858593, 0.5714285714286621, 0.4285714285714648, 0.28571428571439444, 0.14285714285719722, 0.14285714285719722, 0.0, 0.0, 0.0, 0.0, 0.28571428571439444, 0.28571428571439444, 0.4285714285714648, 0.4285714285714648, 0.4285714285714648, 0.4285714285714648, 0.28571428571439444, 0.14285714285719722, 0.0, 0.0, -0.14285714285707035, -0.14285714285707035, -0.2857142857142676, -0.2857142857142676, -0.2857142857142676, -0.2857142857142676, -0.2857142857142676, -0.14285714285707035, 0.0, 0.28571428571439444, 0.28571428571439444, 0.4285714285714648, 0.4285714285714648, 0.4285714285714648, 0.28571428571439444, 0.14285714285719722, 0.0, 0.0, -0.14285714285707035, -0.14285714285707035, -0.14285714285707035, -0.14285714285707035, -0.2857142857142676, -0.14285714285707035, -0.14285714285707035, -0.14285714285707035, 0.0, 0.0, 0.14285714285719722, 0.4285714285714648, 0.7142857142858593, 0.7142857142858593, 0.7142857142858593, 0.5714285714286621, 0.5714285714286621, 0.4285714285714648, 0.4285714285714648, 0.28571428571439444, 0.14285714285719722, 0.14285714285719722, 0.0, 0.0, -0.14285714285707035, 0.0, 0.0, 0.0, 0.28571428571439444, 0.4285714285714648, 0.5714285714286621, 0.5714285714286621, 0.4285714285714648, 0.4285714285714648, 0.4285714285714648, 0.28571428571439444, 0.14285714285719722, 0.14285714285719722, 0.0, 0.0, -0.14285714285707035, -0.14285714285707035, -0.14285714285707035, -0.2857142857142676, -0.14285714285707035, 0.0, 0.14285714285719722, 0.4285714285714648, 0.5714285714286621, 0.7142857142858593, 0.7142857142858593, 0.7142857142858593, 0.5714285714286621, 0.4285714285714648, 0.4285714285714648, 0.28571428571439444, 0.28571428571439444, 0.14285714285719722, 0.0, 0.0, -0.14285714285707035, -0.14285714285707035, 0.0, 0.0, 0.14285714285719722, 0.4285714285714648, 0.7142857142858593, 0.8571428571429296, 1.0000000000001268, 1.0000000000001268, 1.0000000000001268, 0.8571428571429296, 0.7142857142858593, 0.7142857142858593, 0.5714285714286621, 0.4285714285714648, 0.28571428571439444, 0.14285714285719722, 0.14285714285719722, 0.0, 0.0, 0.0, 0.0, 0.14285714285719722, 0.28571428571439444, 0.4285714285714648, 0.4285714285714648, 0.5714285714286621, 0.7142857142858593, 0.8571428571429296, 1.0000000000001268, 1.0000000000001268, 0.8571428571429296, 0.7142857142858593, 0.7142857142858593, 0.5714285714286621, 0.4285714285714648, 0.28571428571439444, 0.14285714285719722, 0.14285714285719722, 0.0, 0.0, -0.14285714285707035, -0.14285714285707035, -0.14285714285707035, -0.14285714285707035, 0.0, 0.28571428571439444, 0.4285714285714648, 0.8571428571429296, 1.1428571428571972, 1.1428571428571972, 1.1428571428571972, 1.1428571428571972, 1.1428571428571972, 1.0000000000001268, 0.8571428571429296, 0.5714285714286621, 0.4285714285714648, 0.28571428571439444, 0.14285714285719722, 0.14285714285719722, 0.0, 0.0, 0.14285714285719722, 0.28571428571439444, 0.4285714285714648, 0.4285714285714648, 0.7142857142858593, 0.7142857142858593, 0.8571428571429296, 1.1428571428571972, 1.2857142857143944, 1.1428571428571972, 1.0000000000001268, 0.8571428571429296, 0.8571428571429296, 0.7142857142858593, 0.7142857142858593, 0.4285714285714648, 0.28571428571439444, 0.14285714285719722, 0.14285714285719722, 0.0, 0.0, 0.14285714285719722, 0.28571428571439444, 0.5714285714286621, 0.7142857142858593, 0.8571428571429296, 1.1428571428571972, 1.1428571428571972, 1.1428571428571972, 1.1428571428571972, 1.0000000000001268, 0.8571428571429296, 0.7142857142858593, 0.7142857142858593, 0.5714285714286621, 0.5714285714286621, 0.5714285714286621, 0.4285714285714648, 0.4285714285714648, 0.4285714285714648, 0.4285714285714648, 0.5714285714286621, 0.5714285714286621, 0.7142857142858593, 0.7142857142858593, 0.7142857142858593, 0.7142857142858593, 0.5714285714286621, 0.5714285714286621, 0.5714285714286621, 0.4285714285714648, 0.28571428571439444, 0.28571428571439444, 0.14285714285719722, 0.0, 0.0, -0.14285714285707035, 0.0, 0.0, 0.14285714285719722, 0.28571428571439444, 0.4285714285714648, 0.4285714285714648, 0.5714285714286621, 0.5714285714286621, 0.4285714285714648, 0.4285714285714648, 0.4285714285714648, 0.4285714285714648, 0.4285714285714648, 0.4285714285714648, 0.28571428571439444, 0.14285714285719722, 0.14285714285719722, 0.14285714285719722, 0.14285714285719722, 0.28571428571439444, 0.5714285714286621, 0.7142857142858593, 0.8571428571429296, 1.0000000000001268, 1.1428571428571972, 1.1428571428571972, 1.0000000000001268, 0.8571428571429296, 0.7142857142858593, 0.4285714285714648, 0.4285714285714648, 0.28571428571439444, 0.28571428571439444, 0.14285714285719722, 0.14285714285719722, 0.0, 0.0, -0.14285714285707035, 0.0, 0.0, 0.0, 0.14285714285719722, 0.28571428571439444, 0.4285714285714648, 0.4285714285714648, 0.4285714285714648, 0.28571428571439444, 0.28571428571439444, 0.14285714285719722, 0.0, 0.0, -0.14285714285707035, -0.14285714285707035, -0.14285714285707035, -0.14285714285707035, -0.14285714285707035, -0.14285714285707035, 0.0, 0.14285714285719722, 0.28571428571439444, 0.5714285714286621, 0.8571428571429296, 1.0000000000001268, 1.0000000000001268, 1.0000000000001268, 0.8571428571429296, 0.7142857142858593, 0.7142857142858593, 0.5714285714286621, 0.4285714285714648, 0.28571428571439444, 0.14285714285719722, 0.0, 0.0, -0.14285714285707035, 0.0, 0.0, 0.14285714285719722, 0.4285714285714648, 0.5714285714286621, 0.5714285714286621, 0.4285714285714648, 0.4285714285714648, 0.28571428571439444, 0.14285714285719722, 0.14285714285719722, 0.0, 0.0, -0.14285714285707035, -0.14285714285707035, -0.14285714285707035, -0.2857142857142676, -0.2857142857142676, -0.14285714285707035, -0.14285714285707035, 0.14285714285719722, 0.4285714285714648, 0.4285714285714648, 0.5714285714286621, 0.5714285714286621, 0.4285714285714648, 0.4285714285714648, 0.28571428571439444, 0.14285714285719722, 0.14285714285719722, 0.0, -0.14285714285707035, -0.2857142857142676, -0.2857142857142676, -0.2857142857142676, -0.14285714285707035, -0.14285714285707035, 0.14285714285719722, 0.28571428571439444, 0.4285714285714648, 0.4285714285714648, 0.28571428571439444, 0.28571428571439444, 0.14285714285719722, 0.0, 0.0, -0.2857142857142676, -0.42857142857133795, -0.42857142857133795, -0.5714285714285352, -0.5714285714285352, -0.5714285714285352, -0.42857142857133795, -0.2857142857142676, 0.0, 0.14285714285719722, 0.28571428571439444, 0.28571428571439444, 0.14285714285719722, 0.0, 0.0, -0.14285714285707035, -0.14285714285707035, -0.14285714285707035, -0.2857142857142676, -0.42857142857133795, -0.5714285714285352, -0.7142857142857324, -0.5714285714285352, -0.5714285714285352, -0.42857142857133795, -0.2857142857142676, -0.14285714285707035, 0.14285714285719722, 0.14285714285719722, 0.14285714285719722, 0.0, 0.0, -0.14285714285707035, -0.14285714285707035, -0.14285714285707035, -0.14285714285707035, -0.42857142857133795, -0.42857142857133795, -0.5714285714285352, -0.5714285714285352, -0.5714285714285352, -0.5714285714285352, -0.42857142857133795, -0.2857142857142676, -0.14285714285707035, 0.0, -0.14285714285707035, -0.14285714285707035, -0.2857142857142676, -0.42857142857133795, -0.7142857142857324, -0.8571428571428028, -1.0, -1.1428571428571972, -1.2857142857142676, -1.2857142857142676, -1.4285714285714648, -1.4285714285714648, -1.1428571428571972, -1.0, -0.8571428571428028, -0.5714285714285352, -0.2857142857142676, 0.0, 0.0, 0.0, -0.14285714285707035, -0.14285714285707035, -0.2857142857142676, -0.42857142857133795, -0.5714285714285352, -0.7142857142857324, -0.8571428571428028, -1.0, -1.0, -1.0, -1.0, -1.0, -0.8571428571428028, -0.7142857142857324, -0.42857142857133795, -0.2857142857142676, -0.2857142857142676, -0.2857142857142676, -0.2857142857142676, -0.2857142857142676, -0.42857142857133795, -0.5714285714285352, -0.7142857142857324, -0.8571428571428028, -1.0, -1.1428571428571972, -1.2857142857142676, -1.2857142857142676, -1.2857142857142676, -1.2857142857142676, -1.1428571428571972, -1.0, -0.7142857142857324, -0.42857142857133795, -0.2857142857142676, -0.2857142857142676, -0.2857142857142676, -0.2857142857142676, -0.2857142857142676, -0.2857142857142676, -0.2857142857142676, -0.2857142857142676, -0.42857142857133795, -0.5714285714285352, -0.7142857142857324, -0.5714285714285352, -0.5714285714285352, -0.5714285714285352, -0.42857142857133795, -0.2857142857142676, 0.0, 0.14285714285719722, 0.28571428571439444, 0.28571428571439444, 0.14285714285719722, 0.0, 0.0, -0.14285714285707035, -0.14285714285707035, -0.2857142857142676, -0.42857142857133795, -0.5714285714285352, -0.5714285714285352, -0.7142857142857324, -0.7142857142857324, -0.7142857142857324, -0.7142857142857324, -0.5714285714285352, -0.42857142857133795, -0.14285714285707035, -0.14285714285707035, 0.0, -0.14285714285707035, -0.14285714285707035, -0.14285714285707035, -0.2857142857142676, -0.42857142857133795, -0.5714285714285352, -0.7142857142857324, -0.7142857142857324, -0.8571428571428028, -0.8571428571428028, -0.8571428571428028, -0.8571428571428028, -0.8571428571428028, -0.7142857142857324, -0.7142857142857324, -0.5714285714285352, -0.42857142857133795, -0.2857142857142676, -0.2857142857142676, -0.2857142857142676, -0.2857142857142676, -0.42857142857133795, -0.5714285714285352, -0.7142857142857324, -0.7142857142857324, -0.8571428571428028, -1.0, -1.0, -1.1428571428571972, -1.1428571428571972, -1.1428571428571972, -1.1428571428571972, -1.1428571428571972, -1.0, -0.8571428571428028, -0.8571428571428028, -0.8571428571428028, -0.8571428571428028, -1.0, -1.1428571428571972, -1.2857142857142676, -1.4285714285714648, -1.4285714285714648, -1.4285714285714648, -1.5714285714285352, -1.5714285714285352, -1.5714285714285352, -1.4285714285714648, -1.4285714285714648, -1.1428571428571972, -1.0, -0.8571428571428028, -0.5714285714285352, -0.5714285714285352, -0.7142857142857324, -0.7142857142857324, -0.8571428571428028, -1.0, -1.1428571428571972, -1.2857142857142676, -1.2857142857142676, -1.4285714285714648, -1.4285714285714648, -1.5714285714285352, -1.4285714285714648, -1.4285714285714648, -1.2857142857142676, -1.2857142857142676, -1.1428571428571972, -1.0, -0.8571428571428028, -0.5714285714285352, -0.42857142857133795, -0.42857142857133795, -0.42857142857133795, -0.5714285714285352, -0.5714285714285352, -0.7142857142857324, -0.7142857142857324, -0.8571428571428028, -0.8571428571428028, -1.0, -1.0, -1.0, -1.1428571428571972, -1.1428571428571972, -1.1428571428571972, -1.0, -0.8571428571428028, -0.8571428571428028, -0.5714285714285352, -0.42857142857133795, -0.2857142857142676, -0.2857142857142676, -0.2857142857142676, -0.2857142857142676, -0.42857142857133795, -0.5714285714285352, -0.5714285714285352, -0.7142857142857324, -0.7142857142857324, -0.8571428571428028, -0.8571428571428028, -0.8571428571428028, -1.0, -1.0, -1.0, -1.1081081081081083, -1.0540540540540602, -1.0, -0.9729729729729759, -0.9459459459459518, -0.9459459459459518, -0.9189189189189276, -0.9189189189189276, -0.9189189189189276, -0.9189189189189276, -0.9189189189189276, -0.9189189189189276, -0.9459459459459518, -0.9459459459459518, -0.9459459459459518, -0.9459459459459518, -0.9459459459459518, -0.9459459459459518, -0.8918918918918916, -0.8108108108108193, -0.756756756756759, -0.6756756756756747, -0.6216216216216265, -0.5405405405405421, -0.513513513513518, -0.5405405405405421, -0.5945945945946024, -0.6756756756756747, -0.7297297297297349, -0.8108108108108193, -0.8918918918918916, -0.9729729729729759, -1.027027027027036, -1.0540540540540602, -1.0540540540540602, -1.0810810810810842, -1.0810810810810842, -1.0810810810810842, -1.1081081081081083, -1.0810810810810842, -1.0540540540540602, -1.0, -0.9729729729729759, -0.9189189189189276, -0.8918918918918916, -0.8648648648648675, -0.8648648648648675, -0.8378378378378434, -0.8378378378378434, -0.8108108108108193, -0.8108108108108193, -0.8378378378378434, -0.8378378378378434, -0.8378378378378434, -0.8378378378378434, -0.8648648648648675, -0.8378378378378434, -0.8378378378378434, -0.8108108108108193, -0.7837837837837831, -0.7297297297297349, -0.6756756756756747, -0.5945945945946024, -0.5405405405405421, -0.48648648648649395, -0.48648648648649395, -0.4594594594594578, -0.43243243243243373, -0.43243243243243373, -0.43243243243243373, -0.4594594594594578, -0.48648648648649395, -0.513513513513518, -0.5405405405405421, -0.5405405405405421, -0.5675675675675663, -0.5675675675675663, -0.5945945945946024, -0.5945945945946024, -0.5945945945946024, -0.5945945945946024, -0.5675675675675663, -0.513513513513518, -0.43243243243243373, -0.3783783783783855, -0.35135135135134943, -0.3783783783783855, -0.4594594594594578, -0.5405405405405421, -0.6486486486486506, -0.756756756756759, -0.8648648648648675, -0.9459459459459518, -1.0, -1.0540540540540602, -1.0810810810810842, -1.1081081081081083, -1.1081081081081083, -1.1081081081081083, -1.0810810810810842, -1.027027027027036, -1.0, -0.9729729729729759, -1.0, -1.0540540540540602, -1.0810810810810842, -1.1351351351351446, -1.1891891891891928, -1.243243243243253, -1.270270270270277, -1.270270270270277, -1.2972972972973011, -1.3243243243243252, -1.3243243243243252, -1.3243243243243252, -1.270270270270277, -1.216216216216217, -1.1621621621621687, -1.0810810810810842, -1.027027027027036, -1.0, -1.027027027027036, -1.0540540540540602, -1.0810810810810842, -1.1621621621621687, -1.1891891891891928, -1.243243243243253, -1.270270270270277, -1.2972972972973011, -1.3243243243243252, -1.3513513513513613, -1.3783783783783856, -1.3783783783783856, -1.3513513513513613, -1.2972972972973011, -1.243243243243253, -1.1621621621621687, -1.1081081081081083, -1.1081081081081083, -1.1081081081081083, -1.1351351351351446, -1.1891891891891928, -1.243243243243253, -1.270270270270277, -1.2972972972973011, -1.3243243243243252, -1.3513513513513613, -1.3513513513513613, -1.3783783783783856, -1.3513513513513613, -1.3243243243243252, -1.270270270270277, -1.1891891891891928, -1.1081081081081083, -1.027027027027036, -0.9729729729729759, -0.9729729729729759, -0.9729729729729759, -1.0, -1.0540540540540602, -1.1081081081081083, -1.1351351351351446, -1.1891891891891928, -1.216216216216217, -1.270270270270277, -1.2972972972973011, -1.2972972972973011, -1.2972972972973011, -1.270270270270277, -1.216216216216217, -1.1351351351351446, -1.0540540540540602, -0.9729729729729759, -0.9189189189189276, -0.9189189189189276, -0.9459459459459518, -0.9729729729729759, -1.0, -1.027027027027036, -1.0540540540540602, -1.0810810810810842, -1.1351351351351446, -1.1621621621621687, -1.1891891891891928, -1.1891891891891928, -1.1891891891891928, -1.1351351351351446, -1.1081081081081083, -1.027027027027036, -0.9729729729729759, -0.9189189189189276, -0.8918918918918916, -0.8648648648648675, -0.8648648648648675, -0.8918918918918916, -0.9189189189189276, -0.9729729729729759, -1.0, -1.027027027027036, -1.0540540540540602, -1.0810810810810842, -1.0810810810810842, -1.1081081081081083, -1.1351351351351446, -1.1351351351351446, -1.1351351351351446, -1.0540540540540602, -1.0, -0.9459459459459518, -0.8648648648648675, -0.8108108108108193, -0.8108108108108193, -0.8378378378378434, -0.8648648648648675, -0.9189189189189276, -0.9729729729729759, -1.0, -1.027027027027036, -1.0540540540540602, -1.0810810810810842, -1.0810810810810842, -1.1081081081081083, -1.0810810810810842, -1.0810810810810842, -1.0810810810810842, -1.027027027027036, -0.9459459459459518, -0.8918918918918916, -0.8378378378378434, -0.8108108108108193, -0.8108108108108193, -0.8648648648648675, -0.8918918918918916, -0.9459459459459518, -1.0, -1.0540540540540602, -1.0810810810810842, -1.1351351351351446, -1.1621621621621687, -1.1891891891891928, -1.1891891891891928, -1.216216216216217, -1.1891891891891928, -1.1351351351351446, -1.0810810810810842, -1.0, -0.9459459459459518, -0.9189189189189276, -0.9189189189189276, -0.9189189189189276, -0.9189189189189276, -0.9459459459459518, -0.9729729729729759, -1.0, -1.027027027027036, -1.027027027027036, -1.0540540540540602, -1.0540540540540602, -1.0540540540540602, -1.027027027027036, -0.9729729729729759, -0.9189189189189276, -0.8648648648648675, -0.8108108108108193, -0.756756756756759, -0.7297297297297349, -0.7297297297297349, -0.7297297297297349, -0.756756756756759, -0.7837837837837831, -0.8378378378378434, -0.8378378378378434, -0.8648648648648675, -0.8648648648648675, -0.8918918918918916, -0.9189189189189276, -0.9189189189189276, -0.8918918918918916, -0.8378378378378434, -0.7837837837837831, -0.7297297297297349, -0.6216216216216265, -0.513513513513518, -0.4594594594594578, -0.4594594594594578, -0.43243243243243373, -0.4594594594594578, -0.48648648648649395, -0.513513513513518, -0.5405405405405421, -0.5405405405405421, -0.5405405405405421, -0.5675675675675663, -0.5405405405405421, -0.513513513513518, -0.513513513513518, -0.48648648648649395, -0.4594594594594578, -0.40540540540540965, -0.3783783783783855, -0.40540540540540965, -0.40540540540540965, -0.4594594594594578, -0.48648648648649395, -0.513513513513518, -0.5405405405405421, -0.5675675675675663, -0.5945945945946024, -0.6486486486486506, -0.6486486486486506, -0.6486486486486506, -0.6756756756756747, -0.6486486486486506, -0.5945945945946024, -0.513513513513518, -0.4594594594594578, -0.40540540540540965, -0.3783783783783855, -0.40540540540540965, -0.4594594594594578, -0.513513513513518, -0.5405405405405421, -0.6216216216216265, -0.6486486486486506, -0.7027027027027108, -0.7027027027027108, -0.756756756756759, -0.756756756756759, -0.756756756756759, -0.7297297297297349, -0.6756756756756747, -0.5675675675675663, -0.513513513513518, -0.4594594594594578, -0.40540540540540965, -0.3783783783783855, -0.40540540540540965, -0.43243243243243373, -0.4594594594594578, -0.513513513513518, -0.5675675675675663, -0.5945945945946024, -0.6216216216216265, -0.6486486486486506, -0.6756756756756747, -0.6756756756756747, -0.6756756756756747, -0.6486486486486506, -0.5675675675675663, -0.48648648648649395, -0.43243243243243373, -0.40540540540540965, -0.3783783783783855, -0.3783783783783855, -0.3783783783783855, -0.3783783783783855, -0.35135135135134943, -0.3243243243243253, -0.2972972972973012, -0.2972972972973012, -0.27027027027027706, -0.24324324324324098, -0.21621621621621687, -0.13513513513513253, -0.10810810810810843, -0.05405405405406022, -0.027027027027024107, -0.027027027027024107, -0.05405405405406022, -0.05405405405406022, -0.08108108108108432, -0.10810810810810843, -0.13513513513513253, -0.13513513513513253, -0.13513513513513253, -0.13513513513513253, -0.13513513513513253, -0.10810810810810843, -0.08108108108108432, -0.05405405405406022, 0.0, 0.054054054054048215, 0.08108108108108432, 0.054054054054048215, 0.0, -0.08108108108108432, -0.16216216216216864, -0.24324324324324098, -0.3243243243243253, -0.3783783783783855, -0.40540540540540965, -0.40540540540540965, -0.4594594594594578, -0.48648648648649395, -0.48648648648649395, -0.48648648648649395, -0.4594594594594578, -0.40540540540540965, -0.35135135135134943, -0.35135135135134943, -0.3783783783783855, -0.40540540540540965, -0.4594594594594578, -0.48648648648649395, -0.5405405405405421, -0.5675675675675663, -0.5945945945946024, -0.6216216216216265, -0.6486486486486506, -0.6756756756756747, -0.6486486486486506, -0.6486486486486506, -0.6216216216216265, -0.5405405405405421, -0.48648648648649395, -0.40540540540540965, -0.35135135135134943, -0.27027027027027706, -0.24324324324324098, -0.24324324324324098, -0.27027027027027706, -0.3243243243243253, -0.35135135135134943, -0.3783783783783855, -0.40540540540540965, -0.40540540540540965, -0.40540540540540965, -0.43243243243243373, -0.40540540540540965, -0.3783783783783855, -0.35135135135134943, -0.27027027027027706, -0.21621621621621687, -0.13513513513513253, -0.05405405405406022, -0.05405405405406022, -0.08108108108108432, -0.13513513513513253, -0.16216216216216864, -0.21621621621621687, -0.27027027027027706, -0.3243243243243253, -0.35135135135134943, -0.3783783783783855, -0.40540540540540965, -0.40540540540540965, -0.40540540540540965, -0.40540540540540965, -0.35135135135134943, -0.3243243243243253, -0.24324324324324098, -0.13513513513513253, -0.10810810810810843, -0.05405405405406022, -0.05405405405406022, -0.05405405405406022, -0.08108108108108432, -0.10810810810810843, -0.13513513513513253, -0.16216216216216864, -0.16216216216216864, -0.18918918918919275, -0.18918918918919275, -0.18918918918919275, -0.18918918918919275, -0.16216216216216864, -0.08108108108108432, -0.027027027027024107, 0.027027027027024107, 0.08108108108108432, 0.10810810810810843, 0.13513513513513253, 0.16216216216215665, 0.18918918918919275, 0.16216216216215665, 0.10810810810810843, 0.08108108108108432, 0.027027027027024107, -0.05405405405406022, -0.10810810810810843, -0.13513513513513253, -0.16216216216216864, -0.21621621621621687, -0.21621621621621687, -0.18918918918919275, -0.18918918918919275, -0.10810810810810843, -0.027027027027024107, 0.054054054054048215, 0.10810810810810843, 0.08108108108108432, 0.054054054054048215, 0.0, -0.05405405405406022, -0.08108108108108432, -0.13513513513513253, -0.16216216216216864, -0.21621621621621687, -0.24324324324324098, -0.27027027027027706, -0.27027027027027706, -0.27027027027027706, -0.24324324324324098, -0.18918918918919275, -0.13513513513513253, -0.08108108108108432, -0.027027027027024107, -0.05405405405406022, -0.05405405405406022, -0.08108108108108432, -0.10810810810810843, -0.16216216216216864, -0.18918918918919275, -0.24324324324324098, -0.27027027027027706, -0.2972972972973012, -0.2972972972973012, -0.2972972972973012, -0.27027027027027706, -0.18918918918919275, -0.13513513513513253, -0.05405405405406022, -0.027027027027024107, -0.027027027027024107, -0.027027027027024107, -0.08108108108108432, -0.08108108108108432, -0.10810810810810843, -0.13513513513513253, -0.16216216216216864, -0.18918918918919275, -0.18918918918919275, -0.21621621621621687, -0.24324324324324098, -0.21621621621621687, -0.16216216216216864, -0.10810810810810843, 0.0, 0.054054054054048215, 0.13513513513513253, 0.16216216216215665, 0.13513513513513253, 0.08108108108108432, 0.054054054054048215, 0.0, -0.05405405405406022, -0.10810810810810843, -0.13513513513513253, -0.16216216216216864, -0.16216216216216864, -0.18918918918919275, -0.16216216216216864, -0.10810810810810843, -0.027027027027024107, 0.054054054054048215, 0.13513513513513253, 0.18918918918919275, 0.18918918918919275, 0.18918918918919275, 0.16216216216215665, 0.13513513513513253, 0.08108108108108432, 0.054054054054048215, 0.027027027027024107, 0.0, -0.027027027027024107, -0.05405405405406022, -0.05405405405406022, -0.08108108108108432, -0.027027027027024107, 0.027027027027024107, 0.10810810810810843, 0.18918918918919275, 0.18918918918919275, 0.18918918918919275, 0.16216216216215665, 0.10810810810810843, 0.054054054054048215, -0.027027027027024107, -0.05405405405406022, -0.08108108108108432, -0.10810810810810843, -0.13513513513513253, -0.16216216216216864, -0.16216216216216864, -0.10810810810810843, -0.08108108108108432, -0.027027027027024107, 0.054054054054048215, 0.10810810810810843, 0.10810810810810843, 0.08108108108108432, 0.054054054054048215, 0.027027027027024107, 0.0, -0.027027027027024107, -0.05405405405406022, -0.08108108108108432, -0.10810810810810843, -0.13513513513513253, -0.10810810810810843, -0.13513513513513253, -0.10810810810810843, -0.05405405405406022, 0.027027027027024107, 0.10810810810810843, 0.18918918918919275, 0.27027027027026507, 0.2972972972973012, 0.27027027027026507, 0.24324324324324098, 0.21621621621621687, 0.18918918918919275, 0.13513513513513253, 0.13513513513513253, 0.13513513513513253, 0.10810810810810843, 0.10810810810810843, 0.08108108108108432, 0.10810810810810843, 0.10810810810810843, 0.13513513513513253, 0.21621621621621687, 0.27027027027026507, 0.27027027027026507, 0.24324324324324098, 0.21621621621621687, 0.16216216216215665, 0.13513513513513253, 0.08108108108108432, 0.054054054054048215, 0.054054054054048215, 0.027027027027024107, 0.027027027027024107, 0.027027027027024107, 0.027027027027024107, 0.027027027027024107, 0.054054054054048215, 0.054054054054048215, 0.10810810810810843, 0.16216216216215665, 0.18918918918919275, 0.18918918918919275, 0.16216216216215665, 0.13513513513513253, 0.08108108108108432, 0.054054054054048215, 0.054054054054048215, 0.027027027027024107, 0.0, -0.05405405405406022, -0.05405405405406022, -0.05405405405406022, -0.05405405405406022, -0.027027027027024107, 0.027027027027024107, 0.10810810810810843, 0.16216216216215665, 0.16216216216215665, 0.13513513513513253, 0.13513513513513253, 0.10810810810810843, 0.08108108108108432, 0.054054054054048215, 0.027027027027024107, 0.0, 0.0, 0.0, 0.0, 0.0, 0.027027027027024107, 0.10810810810810843, 0.16216216216215665, 0.21621621621621687, 0.24324324324324098, 0.24324324324324098, 0.18918918918919275, 0.16216216216215665, 0.10810810810810843, 0.08108108108108432, 0.027027027027024107, -0.027027027027024107, -0.027027027027024107, -0.08108108108108432, -0.08108108108108432, -0.05405405405406022, -0.05405405405406022, -0.027027027027024107, 0.054054054054048215, 0.10810810810810843, 0.13513513513513253, 0.13513513513513253, 0.10810810810810843, 0.08108108108108432, 0.054054054054048215, 0.027027027027024107, 0.0, -0.027027027027024107, -0.027027027027024107, -0.027027027027024107, -0.027027027027024107, -0.05405405405406022, -0.027027027027024107, 0.027027027027024107, 0.10810810810810843, 0.21621621621621687, 0.2972972972973012, 0.3243243243243253, 0.3243243243243253, 0.2972972972973012, 0.27027027027026507, 0.24324324324324098, 0.21621621621621687, 0.18918918918919275, 0.16216216216215665, 0.13513513513513253, 0.13513513513513253, 0.10810810810810843, 0.10810810810810843, 0.13513513513513253, 0.21621621621621687, 0.24324324324324098, 0.24324324324324098, 0.24324324324324098, 0.18918918918919275, 0.16216216216215665, 0.10810810810810843, 0.10810810810810843, 0.054054054054048215, 0.027027027027024107, 0.027027027027024107, 0.027027027027024107, 0.027027027027024107, 0.054054054054048215, 0.054054054054048215, 0.13513513513513253, 0.18918918918919275, 0.27027027027026507, 0.3243243243243253, 0.3243243243243253, 0.3243243243243253, 0.2972972972973012, 0.27027027027026507, 0.21621621621621687, 0.16216216216215665, 0.10810810810810843, 0.08108108108108432, 0.054054054054048215, 0.054054054054048215, 0.054054054054048215, 0.08108108108108432, 0.13513513513513253, 0.18918918918919275, 0.21621621621621687, 0.24324324324324098, 0.27027027027026507, 0.24324324324324098, 0.24324324324324098, 0.21621621621621687, 0.18918918918919275, 0.16216216216215665, 0.13513513513513253, 0.10810810810810843, 0.10810810810810843, 0.10810810810810843, 0.13513513513513253, 0.18918918918919275, 0.24324324324324098, 0.3243243243243253, 0.35135135135134943, 0.3783783783783735, 0.35135135135134943, 0.3243243243243253, 0.27027027027026507, 0.21621621621621687, 0.18918918918919275, 0.16216216216215665, 0.13513513513513253, 0.10810810810810843, 0.10810810810810843, 0.10810810810810843, 0.13513513513513253, 0.16216216216215665, 0.21621621621621687, 0.27027027027026507, 0.3243243243243253, 0.3243243243243253, 0.3243243243243253, 0.2972972972973012, 0.27027027027026507, 0.24324324324324098, 0.24324324324324098, 0.21621621621621687, 0.21621621621621687, 0.18918918918919275, 0.21621621621621687, 0.21621621621621687, 0.24324324324324098, 0.2972972972973012, 0.3783783783783735, 0.43243243243243373, 0.43243243243243373, 0.43243243243243373, 0.40540540540540965, 0.3783783783783735, 0.3243243243243253, 0.2972972972973012, 0.24324324324324098, 0.24324324324324098, 0.21621621621621687, 0.21621621621621687, 0.18918918918919275, 0.21621621621621687, 0.24324324324324098, 0.2972972972973012, 0.35135135135134943, 0.40540540540540965, 0.40540540540540965, 0.3783783783783735, 0.35135135135134943, 0.2972972972973012, 0.27027027027026507, 0.27027027027026507, 0.24324324324324098, 0.24324324324324098, 0.24324324324324098, 0.24324324324324098, 0.24324324324324098, 0.27027027027026507, 0.3243243243243253, 0.35135135135134943, 0.40540540540540965, 0.4594594594594578, 0.4594594594594578, 0.43243243243243373, 0.40540540540540965, 0.35135135135134943, 0.3243243243243253, 0.2972972972973012, 0.27027027027026507, 0.24324324324324098, 0.24324324324324098, 0.21621621621621687, 0.21621621621621687, 0.24324324324324098, 0.2972972972973012, 0.35135135135134943, 0.40540540540540965, 0.43243243243243373, 0.43243243243243373, 0.40540540540540965, 0.3783783783783735, 0.3783783783783735, 0.35135135135134943, 0.3243243243243253, 0.3243243243243253, 0.2972972972973012, 0.2972972972973012, 0.2972972972973012, 0.3243243243243253, 0.35135135135134943, 0.40540540540540965, 0.48648648648648196, 0.5405405405405421, 0.5675675675675663, 0.5675675675675663, 0.5675675675675663, 0.5405405405405421, 0.48648648648648196, 0.4594594594594578, 0.43243243243243373, 0.40540540540540965, 0.3783783783783735, 0.3783783783783735, 0.3783783783783735, 0.40540540540540965]}, {\"marker\": {\"color\": \"red\", \"size\": 8, \"symbol\": \"cross\"}, \"mode\": \"markers\", \"name\": \"Detected Peaks\", \"type\": \"scatter\", \"x\": [16, 33, 50, 70, 90, 112, 130, 151, 172, 181, 192, 201, 211, 230, 248, 267, 288, 308, 327, 344, 363, 381, 401, 418, 436, 453, 475, 484, 494, 514, 533, 552, 571, 590, 607, 627, 646, 667, 689, 709, 728, 745, 764, 782, 802, 821, 837, 856, 872, 889, 907, 924, 943, 962, 982, 997, 1016, 1035, 1052, 1069, 1090, 1110, 1148, 1192, 1209, 1226, 1244, 1262, 1280, 1297, 1316, 1334, 1353, 1372, 1390, 1409, 1423, 1441, 1459, 1490, 1506, 1522, 1542, 1558, 1578, 1597, 1613, 1630, 1647, 1664, 1681, 1697, 1713, 1732, 1747, 1765, 1781, 1798, 1814, 1831, 1846, 1863, 1879, 1894, 1910, 1925, 1940, 1956, 1972, 1989], \"y\": [3.142857142857324, 2.000000000000127, 2.142857142857324, 2.142857142857324, 2.000000000000127, 2.000000000000127, 1.7142857142858592, 1.0000000000001268, 0.7142857142858593, 0.14285714285719722, 0.8571428571429296, 0.28571428571439444, 0.5714285714286621, 0.5714285714286621, 0.8571428571429296, 0.7142857142858593, 1.1428571428571972, 0.28571428571439444, -0.2857142857142676, -0.14285714285707035, 0.14285714285719722, -0.42857142857133795, -0.2857142857142676, -0.42857142857133795, -0.14285714285707035, -0.42857142857133795, 0.5714285714286621, -0.42857142857133795, 0.28571428571439444, 0.28571428571439444, 1.1428571428571972, 0.4285714285714648, 0.4285714285714648, 0.7142857142858593, 0.5714285714286621, 0.7142857142858593, 1.0000000000001268, 1.0000000000001268, 1.1428571428571972, 1.2857142857143944, 1.1428571428571972, 0.7142857142858593, 0.5714285714286621, 1.1428571428571972, 0.4285714285714648, 1.0000000000001268, 0.5714285714286621, 0.5714285714286621, 0.4285714285714648, 0.28571428571439444, 0.14285714285719722, 0.0, 0.0, -0.2857142857142676, -0.2857142857142676, 0.28571428571439444, 0.0, -0.2857142857142676, -0.8571428571428028, -0.5714285714285352, -0.42857142857133795, -0.2857142857142676, -0.513513513513518, -0.43243243243243373, -0.35135135135134943, -0.9729729729729759, -1.0, -1.1081081081081083, -0.9729729729729759, -0.9189189189189276, -0.8648648648648675, -0.8108108108108193, -0.8108108108108193, -0.9189189189189276, -0.7297297297297349, -0.43243243243243373, -0.3783783783783855, -0.3783783783783855, -0.3783783783783855, -0.027027027027024107, 0.08108108108108432, -0.35135135135134943, -0.24324324324324098, -0.05405405405406022, -0.05405405405406022, 0.18918918918919275, 0.10810810810810843, -0.027027027027024107, -0.027027027027024107, 0.16216216216215665, 0.18918918918919275, 0.18918918918919275, 0.10810810810810843, 0.2972972972973012, 0.27027027027026507, 0.18918918918919275, 0.16216216216215665, 0.24324324324324098, 0.13513513513513253, 0.3243243243243253, 0.24324324324324098, 0.3243243243243253, 0.27027027027026507, 0.3783783783783735, 0.3243243243243253, 0.43243243243243373, 0.40540540540540965, 0.4594594594594578, 0.43243243243243373, 0.5675675675675663]}],\n",
              "                        {\"template\": {\"data\": {\"bar\": [{\"error_x\": {\"color\": \"#2a3f5f\"}, \"error_y\": {\"color\": \"#2a3f5f\"}, \"marker\": {\"line\": {\"color\": \"#E5ECF6\", \"width\": 0.5}}, \"type\": \"bar\"}], \"barpolar\": [{\"marker\": {\"line\": {\"color\": \"#E5ECF6\", \"width\": 0.5}}, \"type\": \"barpolar\"}], \"carpet\": [{\"aaxis\": {\"endlinecolor\": \"#2a3f5f\", \"gridcolor\": \"white\", \"linecolor\": \"white\", \"minorgridcolor\": \"white\", \"startlinecolor\": \"#2a3f5f\"}, \"baxis\": {\"endlinecolor\": \"#2a3f5f\", \"gridcolor\": \"white\", \"linecolor\": \"white\", \"minorgridcolor\": \"white\", \"startlinecolor\": \"#2a3f5f\"}, \"type\": \"carpet\"}], \"choropleth\": [{\"colorbar\": {\"outlinewidth\": 0, \"ticks\": \"\"}, \"type\": \"choropleth\"}], \"contour\": [{\"colorbar\": {\"outlinewidth\": 0, \"ticks\": \"\"}, \"colorscale\": [[0.0, \"#0d0887\"], [0.1111111111111111, \"#46039f\"], [0.2222222222222222, \"#7201a8\"], [0.3333333333333333, \"#9c179e\"], [0.4444444444444444, \"#bd3786\"], [0.5555555555555556, \"#d8576b\"], [0.6666666666666666, \"#ed7953\"], [0.7777777777777778, \"#fb9f3a\"], [0.8888888888888888, \"#fdca26\"], [1.0, \"#f0f921\"]], \"type\": \"contour\"}], \"contourcarpet\": [{\"colorbar\": {\"outlinewidth\": 0, \"ticks\": \"\"}, \"type\": \"contourcarpet\"}], \"heatmap\": [{\"colorbar\": {\"outlinewidth\": 0, \"ticks\": \"\"}, \"colorscale\": [[0.0, \"#0d0887\"], [0.1111111111111111, \"#46039f\"], [0.2222222222222222, \"#7201a8\"], [0.3333333333333333, \"#9c179e\"], [0.4444444444444444, \"#bd3786\"], [0.5555555555555556, \"#d8576b\"], [0.6666666666666666, \"#ed7953\"], [0.7777777777777778, \"#fb9f3a\"], [0.8888888888888888, \"#fdca26\"], [1.0, \"#f0f921\"]], \"type\": \"heatmap\"}], \"heatmapgl\": [{\"colorbar\": {\"outlinewidth\": 0, \"ticks\": \"\"}, \"colorscale\": [[0.0, \"#0d0887\"], [0.1111111111111111, \"#46039f\"], [0.2222222222222222, \"#7201a8\"], [0.3333333333333333, \"#9c179e\"], [0.4444444444444444, \"#bd3786\"], [0.5555555555555556, \"#d8576b\"], [0.6666666666666666, \"#ed7953\"], [0.7777777777777778, \"#fb9f3a\"], [0.8888888888888888, \"#fdca26\"], [1.0, \"#f0f921\"]], \"type\": \"heatmapgl\"}], \"histogram\": [{\"marker\": {\"colorbar\": {\"outlinewidth\": 0, \"ticks\": \"\"}}, \"type\": \"histogram\"}], \"histogram2d\": [{\"colorbar\": {\"outlinewidth\": 0, \"ticks\": \"\"}, \"colorscale\": [[0.0, \"#0d0887\"], [0.1111111111111111, \"#46039f\"], [0.2222222222222222, \"#7201a8\"], [0.3333333333333333, \"#9c179e\"], [0.4444444444444444, \"#bd3786\"], [0.5555555555555556, \"#d8576b\"], [0.6666666666666666, \"#ed7953\"], [0.7777777777777778, \"#fb9f3a\"], [0.8888888888888888, \"#fdca26\"], [1.0, \"#f0f921\"]], \"type\": \"histogram2d\"}], \"histogram2dcontour\": [{\"colorbar\": {\"outlinewidth\": 0, \"ticks\": \"\"}, \"colorscale\": [[0.0, \"#0d0887\"], [0.1111111111111111, \"#46039f\"], [0.2222222222222222, \"#7201a8\"], [0.3333333333333333, \"#9c179e\"], [0.4444444444444444, \"#bd3786\"], [0.5555555555555556, \"#d8576b\"], [0.6666666666666666, \"#ed7953\"], [0.7777777777777778, \"#fb9f3a\"], [0.8888888888888888, \"#fdca26\"], [1.0, \"#f0f921\"]], \"type\": \"histogram2dcontour\"}], \"mesh3d\": [{\"colorbar\": {\"outlinewidth\": 0, \"ticks\": \"\"}, \"type\": \"mesh3d\"}], \"parcoords\": [{\"line\": {\"colorbar\": {\"outlinewidth\": 0, \"ticks\": \"\"}}, \"type\": \"parcoords\"}], \"pie\": [{\"automargin\": true, \"type\": \"pie\"}], \"scatter\": [{\"marker\": {\"colorbar\": {\"outlinewidth\": 0, \"ticks\": \"\"}}, \"type\": \"scatter\"}], \"scatter3d\": [{\"line\": {\"colorbar\": {\"outlinewidth\": 0, \"ticks\": \"\"}}, \"marker\": {\"colorbar\": {\"outlinewidth\": 0, \"ticks\": \"\"}}, \"type\": \"scatter3d\"}], \"scattercarpet\": [{\"marker\": {\"colorbar\": {\"outlinewidth\": 0, \"ticks\": \"\"}}, \"type\": \"scattercarpet\"}], \"scattergeo\": [{\"marker\": {\"colorbar\": {\"outlinewidth\": 0, \"ticks\": \"\"}}, \"type\": \"scattergeo\"}], \"scattergl\": [{\"marker\": {\"colorbar\": {\"outlinewidth\": 0, \"ticks\": \"\"}}, \"type\": \"scattergl\"}], \"scattermapbox\": [{\"marker\": {\"colorbar\": {\"outlinewidth\": 0, \"ticks\": \"\"}}, \"type\": \"scattermapbox\"}], \"scatterpolar\": [{\"marker\": {\"colorbar\": {\"outlinewidth\": 0, \"ticks\": \"\"}}, \"type\": \"scatterpolar\"}], \"scatterpolargl\": [{\"marker\": {\"colorbar\": {\"outlinewidth\": 0, \"ticks\": \"\"}}, \"type\": \"scatterpolargl\"}], \"scatterternary\": [{\"marker\": {\"colorbar\": {\"outlinewidth\": 0, \"ticks\": \"\"}}, \"type\": \"scatterternary\"}], \"surface\": [{\"colorbar\": {\"outlinewidth\": 0, \"ticks\": \"\"}, \"colorscale\": [[0.0, \"#0d0887\"], [0.1111111111111111, \"#46039f\"], [0.2222222222222222, \"#7201a8\"], [0.3333333333333333, \"#9c179e\"], [0.4444444444444444, \"#bd3786\"], [0.5555555555555556, \"#d8576b\"], [0.6666666666666666, \"#ed7953\"], [0.7777777777777778, \"#fb9f3a\"], [0.8888888888888888, \"#fdca26\"], [1.0, \"#f0f921\"]], \"type\": \"surface\"}], \"table\": [{\"cells\": {\"fill\": {\"color\": \"#EBF0F8\"}, \"line\": {\"color\": \"white\"}}, \"header\": {\"fill\": {\"color\": \"#C8D4E3\"}, \"line\": {\"color\": \"white\"}}, \"type\": \"table\"}]}, \"layout\": {\"annotationdefaults\": {\"arrowcolor\": \"#2a3f5f\", \"arrowhead\": 0, \"arrowwidth\": 1}, \"coloraxis\": {\"colorbar\": {\"outlinewidth\": 0, \"ticks\": \"\"}}, \"colorscale\": {\"diverging\": [[0, \"#8e0152\"], [0.1, \"#c51b7d\"], [0.2, \"#de77ae\"], [0.3, \"#f1b6da\"], [0.4, \"#fde0ef\"], [0.5, \"#f7f7f7\"], [0.6, \"#e6f5d0\"], [0.7, \"#b8e186\"], [0.8, \"#7fbc41\"], [0.9, \"#4d9221\"], [1, \"#276419\"]], \"sequential\": [[0.0, \"#0d0887\"], [0.1111111111111111, \"#46039f\"], [0.2222222222222222, \"#7201a8\"], [0.3333333333333333, \"#9c179e\"], [0.4444444444444444, \"#bd3786\"], [0.5555555555555556, \"#d8576b\"], [0.6666666666666666, \"#ed7953\"], [0.7777777777777778, \"#fb9f3a\"], [0.8888888888888888, \"#fdca26\"], [1.0, \"#f0f921\"]], \"sequentialminus\": [[0.0, \"#0d0887\"], [0.1111111111111111, \"#46039f\"], [0.2222222222222222, \"#7201a8\"], [0.3333333333333333, \"#9c179e\"], [0.4444444444444444, \"#bd3786\"], [0.5555555555555556, \"#d8576b\"], [0.6666666666666666, \"#ed7953\"], [0.7777777777777778, \"#fb9f3a\"], [0.8888888888888888, \"#fdca26\"], [1.0, \"#f0f921\"]]}, \"colorway\": [\"#636efa\", \"#EF553B\", \"#00cc96\", \"#ab63fa\", \"#FFA15A\", \"#19d3f3\", \"#FF6692\", \"#B6E880\", \"#FF97FF\", \"#FECB52\"], \"font\": {\"color\": \"#2a3f5f\"}, \"geo\": {\"bgcolor\": \"white\", \"lakecolor\": \"white\", \"landcolor\": \"#E5ECF6\", \"showlakes\": true, \"showland\": true, \"subunitcolor\": \"white\"}, \"hoverlabel\": {\"align\": \"left\"}, \"hovermode\": \"closest\", \"mapbox\": {\"style\": \"light\"}, \"paper_bgcolor\": \"white\", \"plot_bgcolor\": \"#E5ECF6\", \"polar\": {\"angularaxis\": {\"gridcolor\": \"white\", \"linecolor\": \"white\", \"ticks\": \"\"}, \"bgcolor\": \"#E5ECF6\", \"radialaxis\": {\"gridcolor\": \"white\", \"linecolor\": \"white\", \"ticks\": \"\"}}, \"scene\": {\"xaxis\": {\"backgroundcolor\": \"#E5ECF6\", \"gridcolor\": \"white\", \"gridwidth\": 2, \"linecolor\": \"white\", \"showbackground\": true, \"ticks\": \"\", \"zerolinecolor\": \"white\"}, \"yaxis\": {\"backgroundcolor\": \"#E5ECF6\", \"gridcolor\": \"white\", \"gridwidth\": 2, \"linecolor\": \"white\", \"showbackground\": true, \"ticks\": \"\", \"zerolinecolor\": \"white\"}, \"zaxis\": {\"backgroundcolor\": \"#E5ECF6\", \"gridcolor\": \"white\", \"gridwidth\": 2, \"linecolor\": \"white\", \"showbackground\": true, \"ticks\": \"\", \"zerolinecolor\": \"white\"}}, \"shapedefaults\": {\"line\": {\"color\": \"#2a3f5f\"}}, \"ternary\": {\"aaxis\": {\"gridcolor\": \"white\", \"linecolor\": \"white\", \"ticks\": \"\"}, \"baxis\": {\"gridcolor\": \"white\", \"linecolor\": \"white\", \"ticks\": \"\"}, \"bgcolor\": \"#E5ECF6\", \"caxis\": {\"gridcolor\": \"white\", \"linecolor\": \"white\", \"ticks\": \"\"}}, \"title\": {\"x\": 0.05}, \"xaxis\": {\"automargin\": true, \"gridcolor\": \"white\", \"linecolor\": \"white\", \"ticks\": \"\", \"title\": {\"standoff\": 15}, \"zerolinecolor\": \"white\", \"zerolinewidth\": 2}, \"yaxis\": {\"automargin\": true, \"gridcolor\": \"white\", \"linecolor\": \"white\", \"ticks\": \"\", \"title\": {\"standoff\": 15}, \"zerolinecolor\": \"white\", \"zerolinewidth\": 2}}}},\n",
              "                        {\"responsive\": true}\n",
              "                    ).then(function(){\n",
              "                            \n",
              "var gd = document.getElementById('d1cd4be4-70ca-4a3a-a4cf-cbb90472f68e');\n",
              "var x = new MutationObserver(function (mutations, observer) {{\n",
              "        var display = window.getComputedStyle(gd).display;\n",
              "        if (!display || display === 'none') {{\n",
              "            console.log([gd, 'removed!']);\n",
              "            Plotly.purge(gd);\n",
              "            observer.disconnect();\n",
              "        }}\n",
              "}});\n",
              "\n",
              "// Listen for the removal of the full notebook cells\n",
              "var notebookContainer = gd.closest('#notebook-container');\n",
              "if (notebookContainer) {{\n",
              "    x.observe(notebookContainer, {childList: true});\n",
              "}}\n",
              "\n",
              "// Listen for the clearing of the current output cell\n",
              "var outputEl = gd.closest('.output');\n",
              "if (outputEl) {{\n",
              "    x.observe(outputEl, {childList: true});\n",
              "}}\n",
              "\n",
              "                        })\n",
              "                };\n",
              "                \n",
              "            </script>\n",
              "        </div>\n",
              "</body>\n",
              "</html>"
            ]
          },
          "metadata": {
            "tags": []
          }
        }
      ]
    },
    {
      "cell_type": "code",
      "metadata": {
        "colab": {
          "base_uri": "https://localhost:8080/"
        },
        "id": "z0L8T-BbhMO0",
        "outputId": "1b98ac41-ba31-4fc5-ce25-dfcadf3be63a"
      },
      "source": [
        "notNormal = pd.DataFrame(notNormal)\n",
        "notNormal.isnull().values.any() #TO FIND ANY NULL VALUE IN THE DATASET"
      ],
      "execution_count": null,
      "outputs": [
        {
          "output_type": "execute_result",
          "data": {
            "text/plain": [
              "False"
            ]
          },
          "metadata": {
            "tags": []
          },
          "execution_count": 381
        }
      ]
    },
    {
      "cell_type": "code",
      "metadata": {
        "colab": {
          "base_uri": "https://localhost:8080/",
          "height": 419
        },
        "id": "_ct2Kl4Jla_8",
        "outputId": "c05cc1f1-3b5f-4185-c105-81c4a0786708"
      },
      "source": [
        "notNormal"
      ],
      "execution_count": null,
      "outputs": [
        {
          "output_type": "execute_result",
          "data": {
            "text/html": [
              "<div>\n",
              "<style scoped>\n",
              "    .dataframe tbody tr th:only-of-type {\n",
              "        vertical-align: middle;\n",
              "    }\n",
              "\n",
              "    .dataframe tbody tr th {\n",
              "        vertical-align: top;\n",
              "    }\n",
              "\n",
              "    .dataframe thead th {\n",
              "        text-align: right;\n",
              "    }\n",
              "</style>\n",
              "<table border=\"1\" class=\"dataframe\">\n",
              "  <thead>\n",
              "    <tr style=\"text-align: right;\">\n",
              "      <th></th>\n",
              "      <th>Breath data</th>\n",
              "      <th>Label</th>\n",
              "    </tr>\n",
              "  </thead>\n",
              "  <tbody>\n",
              "    <tr>\n",
              "      <th>0</th>\n",
              "      <td>3.000000</td>\n",
              "      <td>Not Normal</td>\n",
              "    </tr>\n",
              "    <tr>\n",
              "      <th>1</th>\n",
              "      <td>2.857143</td>\n",
              "      <td>Not Normal</td>\n",
              "    </tr>\n",
              "    <tr>\n",
              "      <th>2</th>\n",
              "      <td>2.857143</td>\n",
              "      <td>Not Normal</td>\n",
              "    </tr>\n",
              "    <tr>\n",
              "      <th>3</th>\n",
              "      <td>2.714286</td>\n",
              "      <td>Not Normal</td>\n",
              "    </tr>\n",
              "    <tr>\n",
              "      <th>4</th>\n",
              "      <td>2.571429</td>\n",
              "      <td>Not Normal</td>\n",
              "    </tr>\n",
              "    <tr>\n",
              "      <th>...</th>\n",
              "      <td>...</td>\n",
              "      <td>...</td>\n",
              "    </tr>\n",
              "    <tr>\n",
              "      <th>27396</th>\n",
              "      <td>-0.764706</td>\n",
              "      <td>Not Normal</td>\n",
              "    </tr>\n",
              "    <tr>\n",
              "      <th>27397</th>\n",
              "      <td>-0.823529</td>\n",
              "      <td>Not Normal</td>\n",
              "    </tr>\n",
              "    <tr>\n",
              "      <th>27398</th>\n",
              "      <td>-0.823529</td>\n",
              "      <td>Not Normal</td>\n",
              "    </tr>\n",
              "    <tr>\n",
              "      <th>27399</th>\n",
              "      <td>-0.882353</td>\n",
              "      <td>Not Normal</td>\n",
              "    </tr>\n",
              "    <tr>\n",
              "      <th>27400</th>\n",
              "      <td>-0.941176</td>\n",
              "      <td>Not Normal</td>\n",
              "    </tr>\n",
              "  </tbody>\n",
              "</table>\n",
              "<p>27401 rows × 2 columns</p>\n",
              "</div>"
            ],
            "text/plain": [
              "       Breath data       Label\n",
              "0         3.000000  Not Normal\n",
              "1         2.857143  Not Normal\n",
              "2         2.857143  Not Normal\n",
              "3         2.714286  Not Normal\n",
              "4         2.571429  Not Normal\n",
              "...            ...         ...\n",
              "27396    -0.764706  Not Normal\n",
              "27397    -0.823529  Not Normal\n",
              "27398    -0.823529  Not Normal\n",
              "27399    -0.882353  Not Normal\n",
              "27400    -0.941176  Not Normal\n",
              "\n",
              "[27401 rows x 2 columns]"
            ]
          },
          "metadata": {
            "tags": []
          },
          "execution_count": 382
        }
      ]
    },
    {
      "cell_type": "markdown",
      "metadata": {
        "id": "Zb9CXrjQp_oE"
      },
      "source": [
        "# PEAK FINDING FROM DATASET"
      ]
    },
    {
      "cell_type": "markdown",
      "metadata": {
        "id": "8NTbbybdb34Z"
      },
      "source": [
        "NORMAL"
      ]
    },
    {
      "cell_type": "code",
      "metadata": {
        "id": "7itdgcrBdYeW"
      },
      "source": [
        "import plotly.graph_objects as go\n",
        "import pandas as pd\n",
        "from scipy.signal import find_peaks\n",
        "y = deep['Breath data'].reindex()\n",
        "peaks2, _ = find_peaks(y, prominence=0.1)  "
      ],
      "execution_count": null,
      "outputs": []
    },
    {
      "cell_type": "code",
      "metadata": {
        "id": "iW6dHE5MptQ9"
      },
      "source": [
        "y.reset_index(drop=True, inplace=True)"
      ],
      "execution_count": null,
      "outputs": []
    },
    {
      "cell_type": "markdown",
      "metadata": {
        "id": "Bw08AJWfb5ih"
      },
      "source": [
        "NOT NORMAL"
      ]
    },
    {
      "cell_type": "code",
      "metadata": {
        "id": "wygyu4mwuo2L"
      },
      "source": [
        "import plotly.graph_objects as go\n",
        "import pandas as pd\n",
        "from scipy.signal import find_peaks\n",
        "x = quick['Breath data'].reindex()\n",
        "peaks1, _ = find_peaks(x, prominence=0.1)  "
      ],
      "execution_count": null,
      "outputs": []
    },
    {
      "cell_type": "code",
      "metadata": {
        "id": "HmXvD2Lcuzw_"
      },
      "source": [
        "x.reset_index(drop=True, inplace=True)"
      ],
      "execution_count": null,
      "outputs": []
    },
    {
      "cell_type": "code",
      "metadata": {
        "colab": {
          "base_uri": "https://localhost:8080/",
          "height": 282
        },
        "id": "ztSrYhXPlgg_",
        "outputId": "0cb3da2d-e9b7-4741-fefb-8a417d84cde5"
      },
      "source": [
        "plt.subplot()\n",
        "plt.plot(peaks2, y[peaks2], \"ob\"); plt.plot(y); plt.legend(['prominence'])"
      ],
      "execution_count": null,
      "outputs": [
        {
          "output_type": "execute_result",
          "data": {
            "text/plain": [
              "<matplotlib.legend.Legend at 0x7ff9e70285d0>"
            ]
          },
          "metadata": {
            "tags": []
          },
          "execution_count": 460
        },
        {
          "output_type": "display_data",
          "data": {
            "image/png": "[encoded data removed]",
            "text/plain": [
              "<Figure size 432x288 with 1 Axes>"
            ]
          },
          "metadata": {
            "tags": [],
            "needs_background": "light"
          }
        }
      ]
    },
    {
      "cell_type": "code",
      "metadata": {
        "id": "txBy8kRXqoUN"
      },
      "source": [
        "y[peaks2] #deep\n"
      ],
      "execution_count": null,
      "outputs": []
    },
    {
      "cell_type": "code",
      "metadata": {
        "id": "80pgK9OW3BUB"
      },
      "source": [
        "deep = y[peaks2]"
      ],
      "execution_count": null,
      "outputs": []
    },
    {
      "cell_type": "code",
      "metadata": {
        "id": "9jd1Yb-_qqld"
      },
      "source": [
        "x[peaks1] # quick"
      ],
      "execution_count": null,
      "outputs": []
    },
    {
      "cell_type": "code",
      "metadata": {
        "id": "fG2Ul2c43DbK"
      },
      "source": [
        "quick = x[peaks1]"
      ],
      "execution_count": null,
      "outputs": []
    },
    {
      "cell_type": "code",
      "metadata": {
        "colab": {
          "base_uri": "https://localhost:8080/",
          "height": 297
        },
        "id": "JGWww4QU4J0k",
        "outputId": "9065926e-9ab5-4f50-ea7e-56fe2c424246"
      },
      "source": [
        "normal.describe()"
      ],
      "execution_count": null,
      "outputs": [
        {
          "output_type": "execute_result",
          "data": {
            "text/html": [
              "<div>\n",
              "<style scoped>\n",
              "    .dataframe tbody tr th:only-of-type {\n",
              "        vertical-align: middle;\n",
              "    }\n",
              "\n",
              "    .dataframe tbody tr th {\n",
              "        vertical-align: top;\n",
              "    }\n",
              "\n",
              "    .dataframe thead th {\n",
              "        text-align: right;\n",
              "    }\n",
              "</style>\n",
              "<table border=\"1\" class=\"dataframe\">\n",
              "  <thead>\n",
              "    <tr style=\"text-align: right;\">\n",
              "      <th></th>\n",
              "      <th>Breath data</th>\n",
              "    </tr>\n",
              "  </thead>\n",
              "  <tbody>\n",
              "    <tr>\n",
              "      <th>count</th>\n",
              "      <td>14734.000000</td>\n",
              "    </tr>\n",
              "    <tr>\n",
              "      <th>mean</th>\n",
              "      <td>0.055525</td>\n",
              "    </tr>\n",
              "    <tr>\n",
              "      <th>std</th>\n",
              "      <td>0.723030</td>\n",
              "    </tr>\n",
              "    <tr>\n",
              "      <th>min</th>\n",
              "      <td>-2.166667</td>\n",
              "    </tr>\n",
              "    <tr>\n",
              "      <th>25%</th>\n",
              "      <td>-0.466667</td>\n",
              "    </tr>\n",
              "    <tr>\n",
              "      <th>50%</th>\n",
              "      <td>0.000000</td>\n",
              "    </tr>\n",
              "    <tr>\n",
              "      <th>75%</th>\n",
              "      <td>0.533333</td>\n",
              "    </tr>\n",
              "    <tr>\n",
              "      <th>max</th>\n",
              "      <td>3.363636</td>\n",
              "    </tr>\n",
              "  </tbody>\n",
              "</table>\n",
              "</div>"
            ],
            "text/plain": [
              "        Breath data\n",
              "count  14734.000000\n",
              "mean       0.055525\n",
              "std        0.723030\n",
              "min       -2.166667\n",
              "25%       -0.466667\n",
              "50%        0.000000\n",
              "75%        0.533333\n",
              "max        3.363636"
            ]
          },
          "metadata": {
            "tags": []
          },
          "execution_count": 481
        }
      ]
    },
    {
      "cell_type": "code",
      "metadata": {
        "colab": {
          "base_uri": "https://localhost:8080/"
        },
        "id": "G3TGY59H3IFc",
        "outputId": "d2374c13-1e5e-4357-ca18-25df21ec3d7b"
      },
      "source": [
        "deep.describe()"
      ],
      "execution_count": null,
      "outputs": [
        {
          "output_type": "execute_result",
          "data": {
            "text/plain": [
              "count    270.000000\n",
              "mean       0.769907\n",
              "std        0.713238\n",
              "min       -0.827586\n",
              "25%        0.333333\n",
              "50%        0.715017\n",
              "75%        1.173913\n",
              "max        3.913043\n",
              "Name: Breath data, dtype: float64"
            ]
          },
          "metadata": {
            "tags": []
          },
          "execution_count": 477
        }
      ]
    },
    {
      "cell_type": "code",
      "metadata": {
        "colab": {
          "base_uri": "https://localhost:8080/"
        },
        "id": "g6Qtarrw3K42",
        "outputId": "19e041de-e8fc-41e2-9ea0-e7b7931d5fc1"
      },
      "source": [
        "quick.describe()"
      ],
      "execution_count": null,
      "outputs": [
        {
          "output_type": "execute_result",
          "data": {
            "text/plain": [
              "count    890.000000\n",
              "mean       0.322586\n",
              "std        0.776228\n",
              "min       -1.705882\n",
              "25%       -0.210526\n",
              "50%        0.239269\n",
              "75%        0.727273\n",
              "max        4.631579\n",
              "Name: Breath data, dtype: float64"
            ]
          },
          "metadata": {
            "tags": []
          },
          "execution_count": 478
        }
      ]
    },
    {
      "cell_type": "markdown",
      "metadata": {
        "id": "u0g5J-YTyGKj"
      },
      "source": [
        "DIVIDNG PEAKS FOR BINARY CLASSIF AND LABELLING THEM"
      ]
    },
    {
      "cell_type": "markdown",
      "metadata": {
        "id": "oUis1F9t3i3P"
      },
      "source": [
        "**Extracting the peak values**"
      ]
    },
    {
      "cell_type": "code",
      "metadata": {
        "colab": {
          "base_uri": "https://localhost:8080/"
        },
        "id": "Fhx3dB98dxcs",
        "outputId": "b61a2f30-e18a-4cfa-f000-5aab8c3199be"
      },
      "source": [
        "not_normal_peak = x[peaks1] # Peak2 has the index data of all the peaks, so putting it on x gives the required values of peaks # prominence filters the noisy values\n",
        "not_normal_peak.reset_index(drop=True, inplace=True)\n",
        "not_normal_peak"
      ],
      "execution_count": null,
      "outputs": [
        {
          "output_type": "execute_result",
          "data": {
            "text/plain": [
              "0      3.142857\n",
              "1      2.000000\n",
              "2      2.142857\n",
              "3      2.142857\n",
              "4      2.000000\n",
              "         ...   \n",
              "885   -0.500000\n",
              "886    0.000000\n",
              "887    0.000000\n",
              "888   -0.500000\n",
              "889    0.500000\n",
              "Name: Breath data, Length: 890, dtype: float64"
            ]
          },
          "metadata": {
            "tags": []
          },
          "execution_count": 467
        }
      ]
    },
    {
      "cell_type": "markdown",
      "metadata": {
        "id": "RyFoCFbM3oA2"
      },
      "source": [
        "**Extracting the Label values**"
      ]
    },
    {
      "cell_type": "code",
      "metadata": {
        "colab": {
          "base_uri": "https://localhost:8080/"
        },
        "id": "wU8r_Qey0aMh",
        "outputId": "ff1e844f-3866-4fc0-addc-4c63bf8a3a70"
      },
      "source": [
        "a = notNormal['Label'][:305]\n",
        "a"
      ],
      "execution_count": null,
      "outputs": [
        {
          "output_type": "execute_result",
          "data": {
            "text/plain": [
              "0      Not Normal\n",
              "1      Not Normal\n",
              "2      Not Normal\n",
              "3      Not Normal\n",
              "4      Not Normal\n",
              "          ...    \n",
              "300    Not Normal\n",
              "301    Not Normal\n",
              "302    Not Normal\n",
              "303    Not Normal\n",
              "304    Not Normal\n",
              "Name: Label, Length: 305, dtype: object"
            ]
          },
          "metadata": {
            "tags": []
          },
          "execution_count": 468
        }
      ]
    },
    {
      "cell_type": "markdown",
      "metadata": {
        "id": "rpV4vfj83GoQ"
      },
      "source": [
        "Creating a new dataframe of notNormal and forming the columns"
      ]
    },
    {
      "cell_type": "code",
      "metadata": {
        "colab": {
          "base_uri": "https://localhost:8080/",
          "height": 419
        },
        "id": "RIyzEbFE0xvb",
        "outputId": "7598f21f-2a1f-4688-b1cb-52678bd1102e"
      },
      "source": [
        "notNormal_val = []\n",
        "notNormal_val = pd.DataFrame(notNormal_val)\n",
        "notNormal_val['peaks'] = not_normal_peak\n",
        "notNormal_val['Label'] = a\n",
        "notNormal_val"
      ],
      "execution_count": null,
      "outputs": [
        {
          "output_type": "execute_result",
          "data": {
            "text/html": [
              "<div>\n",
              "<style scoped>\n",
              "    .dataframe tbody tr th:only-of-type {\n",
              "        vertical-align: middle;\n",
              "    }\n",
              "\n",
              "    .dataframe tbody tr th {\n",
              "        vertical-align: top;\n",
              "    }\n",
              "\n",
              "    .dataframe thead th {\n",
              "        text-align: right;\n",
              "    }\n",
              "</style>\n",
              "<table border=\"1\" class=\"dataframe\">\n",
              "  <thead>\n",
              "    <tr style=\"text-align: right;\">\n",
              "      <th></th>\n",
              "      <th>peaks</th>\n",
              "      <th>Label</th>\n",
              "    </tr>\n",
              "  </thead>\n",
              "  <tbody>\n",
              "    <tr>\n",
              "      <th>0</th>\n",
              "      <td>3.142857</td>\n",
              "      <td>Not Normal</td>\n",
              "    </tr>\n",
              "    <tr>\n",
              "      <th>1</th>\n",
              "      <td>2.000000</td>\n",
              "      <td>Not Normal</td>\n",
              "    </tr>\n",
              "    <tr>\n",
              "      <th>2</th>\n",
              "      <td>2.142857</td>\n",
              "      <td>Not Normal</td>\n",
              "    </tr>\n",
              "    <tr>\n",
              "      <th>3</th>\n",
              "      <td>2.142857</td>\n",
              "      <td>Not Normal</td>\n",
              "    </tr>\n",
              "    <tr>\n",
              "      <th>4</th>\n",
              "      <td>2.000000</td>\n",
              "      <td>Not Normal</td>\n",
              "    </tr>\n",
              "    <tr>\n",
              "      <th>...</th>\n",
              "      <td>...</td>\n",
              "      <td>...</td>\n",
              "    </tr>\n",
              "    <tr>\n",
              "      <th>885</th>\n",
              "      <td>-0.500000</td>\n",
              "      <td>NaN</td>\n",
              "    </tr>\n",
              "    <tr>\n",
              "      <th>886</th>\n",
              "      <td>0.000000</td>\n",
              "      <td>NaN</td>\n",
              "    </tr>\n",
              "    <tr>\n",
              "      <th>887</th>\n",
              "      <td>0.000000</td>\n",
              "      <td>NaN</td>\n",
              "    </tr>\n",
              "    <tr>\n",
              "      <th>888</th>\n",
              "      <td>-0.500000</td>\n",
              "      <td>NaN</td>\n",
              "    </tr>\n",
              "    <tr>\n",
              "      <th>889</th>\n",
              "      <td>0.500000</td>\n",
              "      <td>NaN</td>\n",
              "    </tr>\n",
              "  </tbody>\n",
              "</table>\n",
              "<p>890 rows × 2 columns</p>\n",
              "</div>"
            ],
            "text/plain": [
              "        peaks       Label\n",
              "0    3.142857  Not Normal\n",
              "1    2.000000  Not Normal\n",
              "2    2.142857  Not Normal\n",
              "3    2.142857  Not Normal\n",
              "4    2.000000  Not Normal\n",
              "..        ...         ...\n",
              "885 -0.500000         NaN\n",
              "886  0.000000         NaN\n",
              "887  0.000000         NaN\n",
              "888 -0.500000         NaN\n",
              "889  0.500000         NaN\n",
              "\n",
              "[890 rows x 2 columns]"
            ]
          },
          "metadata": {
            "tags": []
          },
          "execution_count": 469
        }
      ]
    },
    {
      "cell_type": "markdown",
      "metadata": {
        "id": "pZowzYO-4hOE"
      },
      "source": [
        "SAME FOR NORMAL PEAKS"
      ]
    },
    {
      "cell_type": "code",
      "metadata": {
        "id": "lePVXpSpuuVO"
      },
      "source": [
        "normal_peak = y[peaks2]\n",
        "normal_peak.reset_index(drop=True, inplace=True)"
      ],
      "execution_count": null,
      "outputs": []
    },
    {
      "cell_type": "code",
      "metadata": {
        "colab": {
          "base_uri": "https://localhost:8080/"
        },
        "id": "JyFIvX2Q0pG7",
        "outputId": "be7371ce-67d9-4ed6-c2f7-e609ff1af841"
      },
      "source": [
        "b = normal['Label'][:306]\n",
        "b"
      ],
      "execution_count": null,
      "outputs": [
        {
          "output_type": "execute_result",
          "data": {
            "text/plain": [
              "0      Normal\n",
              "1      Normal\n",
              "2      Normal\n",
              "3      Normal\n",
              "4      Normal\n",
              "        ...  \n",
              "301    Normal\n",
              "302    Normal\n",
              "303    Normal\n",
              "304    Normal\n",
              "305    Normal\n",
              "Name: Label, Length: 306, dtype: object"
            ]
          },
          "metadata": {
            "tags": []
          },
          "execution_count": 471
        }
      ]
    },
    {
      "cell_type": "code",
      "metadata": {
        "colab": {
          "base_uri": "https://localhost:8080/",
          "height": 419
        },
        "id": "2NBq4pQZ3Q2h",
        "outputId": "47f0c07e-dc88-4f61-9c10-a628ec669e57"
      },
      "source": [
        "normal_val = []\n",
        "normal_val = pd.DataFrame(normal_val)\n",
        "normal_val['peaks'] = normal_peak\n",
        "normal_val['Label'] = b\n",
        "normal_val"
      ],
      "execution_count": null,
      "outputs": [
        {
          "output_type": "execute_result",
          "data": {
            "text/html": [
              "<div>\n",
              "<style scoped>\n",
              "    .dataframe tbody tr th:only-of-type {\n",
              "        vertical-align: middle;\n",
              "    }\n",
              "\n",
              "    .dataframe tbody tr th {\n",
              "        vertical-align: top;\n",
              "    }\n",
              "\n",
              "    .dataframe thead th {\n",
              "        text-align: right;\n",
              "    }\n",
              "</style>\n",
              "<table border=\"1\" class=\"dataframe\">\n",
              "  <thead>\n",
              "    <tr style=\"text-align: right;\">\n",
              "      <th></th>\n",
              "      <th>peaks</th>\n",
              "      <th>Label</th>\n",
              "    </tr>\n",
              "  </thead>\n",
              "  <tbody>\n",
              "    <tr>\n",
              "      <th>0</th>\n",
              "      <td>1.132743</td>\n",
              "      <td>Normal</td>\n",
              "    </tr>\n",
              "    <tr>\n",
              "      <th>1</th>\n",
              "      <td>1.132743</td>\n",
              "      <td>Normal</td>\n",
              "    </tr>\n",
              "    <tr>\n",
              "      <th>2</th>\n",
              "      <td>1.415929</td>\n",
              "      <td>Normal</td>\n",
              "    </tr>\n",
              "    <tr>\n",
              "      <th>3</th>\n",
              "      <td>1.026549</td>\n",
              "      <td>Normal</td>\n",
              "    </tr>\n",
              "    <tr>\n",
              "      <th>4</th>\n",
              "      <td>1.380531</td>\n",
              "      <td>Normal</td>\n",
              "    </tr>\n",
              "    <tr>\n",
              "      <th>...</th>\n",
              "      <td>...</td>\n",
              "      <td>...</td>\n",
              "    </tr>\n",
              "    <tr>\n",
              "      <th>265</th>\n",
              "      <td>0.588235</td>\n",
              "      <td>Normal</td>\n",
              "    </tr>\n",
              "    <tr>\n",
              "      <th>266</th>\n",
              "      <td>1.411765</td>\n",
              "      <td>Normal</td>\n",
              "    </tr>\n",
              "    <tr>\n",
              "      <th>267</th>\n",
              "      <td>1.352941</td>\n",
              "      <td>Normal</td>\n",
              "    </tr>\n",
              "    <tr>\n",
              "      <th>268</th>\n",
              "      <td>1.000000</td>\n",
              "      <td>Normal</td>\n",
              "    </tr>\n",
              "    <tr>\n",
              "      <th>269</th>\n",
              "      <td>0.529412</td>\n",
              "      <td>Normal</td>\n",
              "    </tr>\n",
              "  </tbody>\n",
              "</table>\n",
              "<p>270 rows × 2 columns</p>\n",
              "</div>"
            ],
            "text/plain": [
              "        peaks   Label\n",
              "0    1.132743  Normal\n",
              "1    1.132743  Normal\n",
              "2    1.415929  Normal\n",
              "3    1.026549  Normal\n",
              "4    1.380531  Normal\n",
              "..        ...     ...\n",
              "265  0.588235  Normal\n",
              "266  1.411765  Normal\n",
              "267  1.352941  Normal\n",
              "268  1.000000  Normal\n",
              "269  0.529412  Normal\n",
              "\n",
              "[270 rows x 2 columns]"
            ]
          },
          "metadata": {
            "tags": []
          },
          "execution_count": 472
        }
      ]
    },
    {
      "cell_type": "code",
      "metadata": {
        "colab": {
          "base_uri": "https://localhost:8080/",
          "height": 297
        },
        "id": "EOCnYogr4sGt",
        "outputId": "4405d137-ec0e-4ca0-b627-ac40d0261415"
      },
      "source": [
        "normal_val.describe()"
      ],
      "execution_count": null,
      "outputs": [
        {
          "output_type": "execute_result",
          "data": {
            "text/html": [
              "<div>\n",
              "<style scoped>\n",
              "    .dataframe tbody tr th:only-of-type {\n",
              "        vertical-align: middle;\n",
              "    }\n",
              "\n",
              "    .dataframe tbody tr th {\n",
              "        vertical-align: top;\n",
              "    }\n",
              "\n",
              "    .dataframe thead th {\n",
              "        text-align: right;\n",
              "    }\n",
              "</style>\n",
              "<table border=\"1\" class=\"dataframe\">\n",
              "  <thead>\n",
              "    <tr style=\"text-align: right;\">\n",
              "      <th></th>\n",
              "      <th>peaks</th>\n",
              "    </tr>\n",
              "  </thead>\n",
              "  <tbody>\n",
              "    <tr>\n",
              "      <th>count</th>\n",
              "      <td>270.000000</td>\n",
              "    </tr>\n",
              "    <tr>\n",
              "      <th>mean</th>\n",
              "      <td>0.769907</td>\n",
              "    </tr>\n",
              "    <tr>\n",
              "      <th>std</th>\n",
              "      <td>0.713238</td>\n",
              "    </tr>\n",
              "    <tr>\n",
              "      <th>min</th>\n",
              "      <td>-0.827586</td>\n",
              "    </tr>\n",
              "    <tr>\n",
              "      <th>25%</th>\n",
              "      <td>0.333333</td>\n",
              "    </tr>\n",
              "    <tr>\n",
              "      <th>50%</th>\n",
              "      <td>0.715017</td>\n",
              "    </tr>\n",
              "    <tr>\n",
              "      <th>75%</th>\n",
              "      <td>1.173913</td>\n",
              "    </tr>\n",
              "    <tr>\n",
              "      <th>max</th>\n",
              "      <td>3.913043</td>\n",
              "    </tr>\n",
              "  </tbody>\n",
              "</table>\n",
              "</div>"
            ],
            "text/plain": [
              "            peaks\n",
              "count  270.000000\n",
              "mean     0.769907\n",
              "std      0.713238\n",
              "min     -0.827586\n",
              "25%      0.333333\n",
              "50%      0.715017\n",
              "75%      1.173913\n",
              "max      3.913043"
            ]
          },
          "metadata": {
            "tags": []
          },
          "execution_count": 473
        }
      ]
    },
    {
      "cell_type": "code",
      "metadata": {
        "colab": {
          "base_uri": "https://localhost:8080/",
          "height": 297
        },
        "id": "tWK4xWbpuKU2",
        "outputId": "99f7c502-42f9-44ec-e8a9-5583ec2b85ac"
      },
      "source": [
        "notNormal.describe()"
      ],
      "execution_count": null,
      "outputs": [
        {
          "output_type": "execute_result",
          "data": {
            "text/html": [
              "<div>\n",
              "<style scoped>\n",
              "    .dataframe tbody tr th:only-of-type {\n",
              "        vertical-align: middle;\n",
              "    }\n",
              "\n",
              "    .dataframe tbody tr th {\n",
              "        vertical-align: top;\n",
              "    }\n",
              "\n",
              "    .dataframe thead th {\n",
              "        text-align: right;\n",
              "    }\n",
              "</style>\n",
              "<table border=\"1\" class=\"dataframe\">\n",
              "  <thead>\n",
              "    <tr style=\"text-align: right;\">\n",
              "      <th></th>\n",
              "      <th>Breath data</th>\n",
              "    </tr>\n",
              "  </thead>\n",
              "  <tbody>\n",
              "    <tr>\n",
              "      <th>count</th>\n",
              "      <td>27401.000000</td>\n",
              "    </tr>\n",
              "    <tr>\n",
              "      <th>mean</th>\n",
              "      <td>0.074948</td>\n",
              "    </tr>\n",
              "    <tr>\n",
              "      <th>std</th>\n",
              "      <td>0.756304</td>\n",
              "    </tr>\n",
              "    <tr>\n",
              "      <th>min</th>\n",
              "      <td>-2.588235</td>\n",
              "    </tr>\n",
              "    <tr>\n",
              "      <th>25%</th>\n",
              "      <td>-0.454545</td>\n",
              "    </tr>\n",
              "    <tr>\n",
              "      <th>50%</th>\n",
              "      <td>0.000000</td>\n",
              "    </tr>\n",
              "    <tr>\n",
              "      <th>75%</th>\n",
              "      <td>0.500000</td>\n",
              "    </tr>\n",
              "    <tr>\n",
              "      <th>max</th>\n",
              "      <td>4.631579</td>\n",
              "    </tr>\n",
              "  </tbody>\n",
              "</table>\n",
              "</div>"
            ],
            "text/plain": [
              "        Breath data\n",
              "count  27401.000000\n",
              "mean       0.074948\n",
              "std        0.756304\n",
              "min       -2.588235\n",
              "25%       -0.454545\n",
              "50%        0.000000\n",
              "75%        0.500000\n",
              "max        4.631579"
            ]
          },
          "metadata": {
            "tags": []
          },
          "execution_count": 474
        }
      ]
    },
    {
      "cell_type": "code",
      "metadata": {
        "colab": {
          "base_uri": "https://localhost:8080/"
        },
        "id": "JLZu8RHYuEQD",
        "outputId": "1adf42de-b840-4bbc-ee6b-5c22f21488fa"
      },
      "source": [
        "(523/14734)*100"
      ],
      "execution_count": null,
      "outputs": [
        {
          "output_type": "execute_result",
          "data": {
            "text/plain": [
              "3.5496131396769375"
            ]
          },
          "metadata": {
            "tags": []
          },
          "execution_count": 439
        }
      ]
    },
    {
      "cell_type": "code",
      "metadata": {
        "colab": {
          "base_uri": "https://localhost:8080/"
        },
        "id": "Phmnoy6OuROL",
        "outputId": "9e4893ec-e8a3-48d2-ef11-1ba378f593b9"
      },
      "source": [
        "(1160/27401)*100"
      ],
      "execution_count": null,
      "outputs": [
        {
          "output_type": "execute_result",
          "data": {
            "text/plain": [
              "4.23342213787818"
            ]
          },
          "metadata": {
            "tags": []
          },
          "execution_count": 441
        }
      ]
    },
    {
      "cell_type": "code",
      "metadata": {
        "colab": {
          "base_uri": "https://localhost:8080/",
          "height": 297
        },
        "id": "A5em3g0q4wSw",
        "outputId": "07c1e38f-3064-46c3-ea31-42006072ea6b"
      },
      "source": [
        "notNormal_val.describe()"
      ],
      "execution_count": null,
      "outputs": [
        {
          "output_type": "execute_result",
          "data": {
            "text/html": [
              "<div>\n",
              "<style scoped>\n",
              "    .dataframe tbody tr th:only-of-type {\n",
              "        vertical-align: middle;\n",
              "    }\n",
              "\n",
              "    .dataframe tbody tr th {\n",
              "        vertical-align: top;\n",
              "    }\n",
              "\n",
              "    .dataframe thead th {\n",
              "        text-align: right;\n",
              "    }\n",
              "</style>\n",
              "<table border=\"1\" class=\"dataframe\">\n",
              "  <thead>\n",
              "    <tr style=\"text-align: right;\">\n",
              "      <th></th>\n",
              "      <th>peaks</th>\n",
              "    </tr>\n",
              "  </thead>\n",
              "  <tbody>\n",
              "    <tr>\n",
              "      <th>count</th>\n",
              "      <td>1160.000000</td>\n",
              "    </tr>\n",
              "    <tr>\n",
              "      <th>mean</th>\n",
              "      <td>0.426704</td>\n",
              "    </tr>\n",
              "    <tr>\n",
              "      <th>std</th>\n",
              "      <td>0.784856</td>\n",
              "    </tr>\n",
              "    <tr>\n",
              "      <th>min</th>\n",
              "      <td>-1.705882</td>\n",
              "    </tr>\n",
              "    <tr>\n",
              "      <th>25%</th>\n",
              "      <td>-0.111111</td>\n",
              "    </tr>\n",
              "    <tr>\n",
              "      <th>50%</th>\n",
              "      <td>0.400000</td>\n",
              "    </tr>\n",
              "    <tr>\n",
              "      <th>75%</th>\n",
              "      <td>0.888889</td>\n",
              "    </tr>\n",
              "    <tr>\n",
              "      <th>max</th>\n",
              "      <td>4.631579</td>\n",
              "    </tr>\n",
              "  </tbody>\n",
              "</table>\n",
              "</div>"
            ],
            "text/plain": [
              "             peaks\n",
              "count  1160.000000\n",
              "mean      0.426704\n",
              "std       0.784856\n",
              "min      -1.705882\n",
              "25%      -0.111111\n",
              "50%       0.400000\n",
              "75%       0.888889\n",
              "max       4.631579"
            ]
          },
          "metadata": {
            "tags": []
          },
          "execution_count": 435
        }
      ]
    },
    {
      "cell_type": "code",
      "metadata": {
        "colab": {
          "base_uri": "https://localhost:8080/",
          "height": 282
        },
        "id": "90I8g7Yb3r9d",
        "outputId": "8db786d8-e9ff-433b-9a5a-7b3239a04fa9"
      },
      "source": [
        "total2 = normal_val.append(notNormal_val)\n",
        "total2.reset_index(drop=True, inplace=True)\n",
        "total2.plot()"
      ],
      "execution_count": null,
      "outputs": [
        {
          "output_type": "execute_result",
          "data": {
            "text/plain": [
              "<matplotlib.axes._subplots.AxesSubplot at 0x7ff9e0cde0d0>"
            ]
          },
          "metadata": {
            "tags": []
          },
          "execution_count": 394
        },
        {
          "output_type": "display_data",
          "data": {
            "image/png": "[encoded data removed]",
            "text/plain": [
              "<Figure size 432x288 with 1 Axes>"
            ]
          },
          "metadata": {
            "tags": [],
            "needs_background": "light"
          }
        }
      ]
    },
    {
      "cell_type": "code",
      "metadata": {
        "colab": {
          "base_uri": "https://localhost:8080/"
        },
        "id": "-nrdLXaf4HcP",
        "outputId": "b8e3666e-2757-4902-eed7-eb2d1f0e2b94"
      },
      "source": [
        "total2['Label'].unique()"
      ],
      "execution_count": null,
      "outputs": [
        {
          "output_type": "execute_result",
          "data": {
            "text/plain": [
              "array([0])"
            ]
          },
          "metadata": {
            "tags": []
          },
          "execution_count": 86
        }
      ]
    },
    {
      "cell_type": "code",
      "metadata": {
        "id": "vzp19fMtpw7R"
      },
      "source": [
        "from sklearn.preprocessing import LabelEncoder\n",
        "le = LabelEncoder() # make an object of the class\n",
        "total2['Label'] = le.fit_transform(total2['Label']) # replace the class with transformed column"
      ],
      "execution_count": null,
      "outputs": []
    },
    {
      "cell_type": "code",
      "metadata": {
        "colab": {
          "base_uri": "https://localhost:8080/",
          "height": 419
        },
        "id": "sQrulPWGp4Qq",
        "outputId": "d8e75f18-1402-4603-8c68-274726e895f9"
      },
      "source": [
        "total2"
      ],
      "execution_count": null,
      "outputs": [
        {
          "output_type": "execute_result",
          "data": {
            "text/html": [
              "<div>\n",
              "<style scoped>\n",
              "    .dataframe tbody tr th:only-of-type {\n",
              "        vertical-align: middle;\n",
              "    }\n",
              "\n",
              "    .dataframe tbody tr th {\n",
              "        vertical-align: top;\n",
              "    }\n",
              "\n",
              "    .dataframe thead th {\n",
              "        text-align: right;\n",
              "    }\n",
              "</style>\n",
              "<table border=\"1\" class=\"dataframe\">\n",
              "  <thead>\n",
              "    <tr style=\"text-align: right;\">\n",
              "      <th></th>\n",
              "      <th>peaks</th>\n",
              "      <th>Label</th>\n",
              "    </tr>\n",
              "  </thead>\n",
              "  <tbody>\n",
              "    <tr>\n",
              "      <th>0</th>\n",
              "      <td>2.666667</td>\n",
              "      <td>0</td>\n",
              "    </tr>\n",
              "    <tr>\n",
              "      <th>1</th>\n",
              "      <td>2.619048</td>\n",
              "      <td>0</td>\n",
              "    </tr>\n",
              "    <tr>\n",
              "      <th>2</th>\n",
              "      <td>0.523810</td>\n",
              "      <td>0</td>\n",
              "    </tr>\n",
              "    <tr>\n",
              "      <th>3</th>\n",
              "      <td>1.190476</td>\n",
              "      <td>0</td>\n",
              "    </tr>\n",
              "    <tr>\n",
              "      <th>4</th>\n",
              "      <td>0.666667</td>\n",
              "      <td>0</td>\n",
              "    </tr>\n",
              "    <tr>\n",
              "      <th>...</th>\n",
              "      <td>...</td>\n",
              "      <td>...</td>\n",
              "    </tr>\n",
              "    <tr>\n",
              "      <th>527</th>\n",
              "      <td>0.588235</td>\n",
              "      <td>1</td>\n",
              "    </tr>\n",
              "    <tr>\n",
              "      <th>528</th>\n",
              "      <td>1.411765</td>\n",
              "      <td>1</td>\n",
              "    </tr>\n",
              "    <tr>\n",
              "      <th>529</th>\n",
              "      <td>1.352941</td>\n",
              "      <td>1</td>\n",
              "    </tr>\n",
              "    <tr>\n",
              "      <th>530</th>\n",
              "      <td>1.000000</td>\n",
              "      <td>1</td>\n",
              "    </tr>\n",
              "    <tr>\n",
              "      <th>531</th>\n",
              "      <td>0.529412</td>\n",
              "      <td>1</td>\n",
              "    </tr>\n",
              "  </tbody>\n",
              "</table>\n",
              "<p>532 rows × 2 columns</p>\n",
              "</div>"
            ],
            "text/plain": [
              "        peaks  Label\n",
              "0    2.666667      0\n",
              "1    2.619048      0\n",
              "2    0.523810      0\n",
              "3    1.190476      0\n",
              "4    0.666667      0\n",
              "..        ...    ...\n",
              "527  0.588235      1\n",
              "528  1.411765      1\n",
              "529  1.352941      1\n",
              "530  1.000000      1\n",
              "531  0.529412      1\n",
              "\n",
              "[532 rows x 2 columns]"
            ]
          },
          "metadata": {
            "tags": []
          },
          "execution_count": 397
        }
      ]
    },
    {
      "cell_type": "markdown",
      "metadata": {
        "id": "7gnKg2thUPHG"
      },
      "source": [
        "# Windowing"
      ]
    },
    {
      "cell_type": "code",
      "metadata": {
        "id": "64o167kJS1v3"
      },
      "source": [
        "total.values"
      ],
      "execution_count": null,
      "outputs": []
    },
    {
      "cell_type": "markdown",
      "metadata": {
        "id": "CxEjYkIcYYOw"
      },
      "source": [
        "Rolling window stats"
      ]
    },
    {
      "cell_type": "code",
      "metadata": {
        "id": "FhcmfMreUuMO"
      },
      "source": [
        "temps = pd.DataFrame(total.values)\n",
        "shifted = temps.shift(1)\n",
        "window = shifted.rolling(window=10)\n",
        "means = window.mean()\n",
        "dataframe = pd.concat([means], axis=1)\n",
        "dataframe.columns = ['mean(t-2,t-1)', 't+1']\n",
        "dataframe.head(30) # DATAFRAME IS THE ROLLING WINDOW DATA\n",
        "total['mean(t-2,t-1)'] = dataframe['mean(t-2,t-1)']\n",
        "total = total[['Breath data', 'mean(t-2,t-1)']]"
      ],
      "execution_count": null,
      "outputs": []
    },
    {
      "cell_type": "code",
      "metadata": {
        "id": "DIqpxvYb8GFh"
      },
      "source": [
        "total = total[['Breath data', 'mean(t-2,t-1)']]\n",
        "total"
      ],
      "execution_count": null,
      "outputs": []
    },
    {
      "cell_type": "code",
      "metadata": {
        "id": "As9SX08PGsrJ"
      },
      "source": [
        "total['mean(t-2,t-1)'].plot()"
      ],
      "execution_count": null,
      "outputs": []
    },
    {
      "cell_type": "code",
      "metadata": {
        "id": "Wb70YAviG0J7"
      },
      "source": [
        "total.plot()"
      ],
      "execution_count": null,
      "outputs": []
    },
    {
      "cell_type": "markdown",
      "metadata": {
        "id": "fUjnSuXWntA5"
      },
      "source": [
        ""
      ]
    },
    {
      "cell_type": "markdown",
      "metadata": {
        "id": "rpTir4MQGPXH"
      },
      "source": [
        "# Taking mean of deep breath as base, i calculated the height from it's mean at each data."
      ]
    },
    {
      "cell_type": "code",
      "metadata": {
        "colab": {
          "base_uri": "https://localhost:8080/",
          "height": 419
        },
        "id": "D6TL_8DlJowq",
        "outputId": "892406be-806f-4f10-cbd9-c53024d42f73"
      },
      "source": [
        "total"
      ],
      "execution_count": null,
      "outputs": [
        {
          "output_type": "execute_result",
          "data": {
            "text/html": [
              "<div>\n",
              "<style scoped>\n",
              "    .dataframe tbody tr th:only-of-type {\n",
              "        vertical-align: middle;\n",
              "    }\n",
              "\n",
              "    .dataframe tbody tr th {\n",
              "        vertical-align: top;\n",
              "    }\n",
              "\n",
              "    .dataframe thead th {\n",
              "        text-align: right;\n",
              "    }\n",
              "</style>\n",
              "<table border=\"1\" class=\"dataframe\">\n",
              "  <thead>\n",
              "    <tr style=\"text-align: right;\">\n",
              "      <th></th>\n",
              "      <th>Breath data</th>\n",
              "      <th>mean(t-2,t-1)</th>\n",
              "    </tr>\n",
              "  </thead>\n",
              "  <tbody>\n",
              "    <tr>\n",
              "      <th>0</th>\n",
              "      <td>1.476190</td>\n",
              "      <td>NaN</td>\n",
              "    </tr>\n",
              "    <tr>\n",
              "      <th>1</th>\n",
              "      <td>1.571429</td>\n",
              "      <td>NaN</td>\n",
              "    </tr>\n",
              "    <tr>\n",
              "      <th>2</th>\n",
              "      <td>1.571429</td>\n",
              "      <td>NaN</td>\n",
              "    </tr>\n",
              "    <tr>\n",
              "      <th>3</th>\n",
              "      <td>1.666667</td>\n",
              "      <td>NaN</td>\n",
              "    </tr>\n",
              "    <tr>\n",
              "      <th>4</th>\n",
              "      <td>1.714286</td>\n",
              "      <td>NaN</td>\n",
              "    </tr>\n",
              "    <tr>\n",
              "      <th>...</th>\n",
              "      <td>...</td>\n",
              "      <td>...</td>\n",
              "    </tr>\n",
              "    <tr>\n",
              "      <th>42130</th>\n",
              "      <td>0.500000</td>\n",
              "      <td>-0.40</td>\n",
              "    </tr>\n",
              "    <tr>\n",
              "      <th>42131</th>\n",
              "      <td>-0.500000</td>\n",
              "      <td>-0.35</td>\n",
              "    </tr>\n",
              "    <tr>\n",
              "      <th>42132</th>\n",
              "      <td>-0.500000</td>\n",
              "      <td>-0.40</td>\n",
              "    </tr>\n",
              "    <tr>\n",
              "      <th>42133</th>\n",
              "      <td>-0.500000</td>\n",
              "      <td>-0.40</td>\n",
              "    </tr>\n",
              "    <tr>\n",
              "      <th>42134</th>\n",
              "      <td>-0.500000</td>\n",
              "      <td>-0.35</td>\n",
              "    </tr>\n",
              "  </tbody>\n",
              "</table>\n",
              "<p>42135 rows × 2 columns</p>\n",
              "</div>"
            ],
            "text/plain": [
              "       Breath data  mean(t-2,t-1)\n",
              "0         1.476190            NaN\n",
              "1         1.571429            NaN\n",
              "2         1.571429            NaN\n",
              "3         1.666667            NaN\n",
              "4         1.714286            NaN\n",
              "...            ...            ...\n",
              "42130     0.500000          -0.40\n",
              "42131    -0.500000          -0.35\n",
              "42132    -0.500000          -0.40\n",
              "42133    -0.500000          -0.40\n",
              "42134    -0.500000          -0.35\n",
              "\n",
              "[42135 rows x 2 columns]"
            ]
          },
          "metadata": {
            "tags": []
          },
          "execution_count": 185
        }
      ]
    },
    {
      "cell_type": "code",
      "metadata": {
        "colab": {
          "base_uri": "https://localhost:8080/"
        },
        "id": "_m8rqhbLBmF3",
        "outputId": "2ce46cca-5fde-4372-b20b-b02658b89471"
      },
      "source": [
        "DeepData = deep.describe()\n",
        "DeepData.loc['mean']\n"
      ],
      "execution_count": null,
      "outputs": [
        {
          "output_type": "execute_result",
          "data": {
            "text/plain": [
              "Breath data    0.078436\n",
              "Name: mean, dtype: float64"
            ]
          },
          "metadata": {
            "tags": []
          },
          "execution_count": 97
        }
      ]
    },
    {
      "cell_type": "code",
      "metadata": {
        "id": "X5ww7RWeELNb"
      },
      "source": [
        "label1 = []\n",
        "\n",
        "for i in range(len(total)):\n",
        "\n",
        "  if total['Breath data'][i] < 0:\n",
        "    z = -(-(total['Breath data'][i]) - 0.079596)\n",
        "  else:\n",
        "    z = total['Breath data'][i] - 0.079596\n",
        "\n",
        "  label1.append(z) \n",
        "\n",
        "total['Height'] = label1"
      ],
      "execution_count": null,
      "outputs": []
    },
    {
      "cell_type": "code",
      "metadata": {
        "colab": {
          "base_uri": "https://localhost:8080/",
          "height": 204
        },
        "id": "oLf26pm2G03w",
        "outputId": "0bbc01ba-072c-447a-9824-5858329253f6"
      },
      "source": [
        "total[:5]"
      ],
      "execution_count": null,
      "outputs": [
        {
          "output_type": "execute_result",
          "data": {
            "text/html": [
              "<div>\n",
              "<style scoped>\n",
              "    .dataframe tbody tr th:only-of-type {\n",
              "        vertical-align: middle;\n",
              "    }\n",
              "\n",
              "    .dataframe tbody tr th {\n",
              "        vertical-align: top;\n",
              "    }\n",
              "\n",
              "    .dataframe thead th {\n",
              "        text-align: right;\n",
              "    }\n",
              "</style>\n",
              "<table border=\"1\" class=\"dataframe\">\n",
              "  <thead>\n",
              "    <tr style=\"text-align: right;\">\n",
              "      <th></th>\n",
              "      <th>Breath data</th>\n",
              "      <th>mean(t-2,t-1)</th>\n",
              "      <th>Label</th>\n",
              "      <th>Height</th>\n",
              "    </tr>\n",
              "  </thead>\n",
              "  <tbody>\n",
              "    <tr>\n",
              "      <th>0</th>\n",
              "      <td>1.476190</td>\n",
              "      <td>NaN</td>\n",
              "      <td>0</td>\n",
              "      <td>1.396594</td>\n",
              "    </tr>\n",
              "    <tr>\n",
              "      <th>1</th>\n",
              "      <td>1.571429</td>\n",
              "      <td>NaN</td>\n",
              "      <td>0</td>\n",
              "      <td>1.491833</td>\n",
              "    </tr>\n",
              "    <tr>\n",
              "      <th>2</th>\n",
              "      <td>1.571429</td>\n",
              "      <td>NaN</td>\n",
              "      <td>0</td>\n",
              "      <td>1.491833</td>\n",
              "    </tr>\n",
              "    <tr>\n",
              "      <th>3</th>\n",
              "      <td>1.666667</td>\n",
              "      <td>NaN</td>\n",
              "      <td>0</td>\n",
              "      <td>1.587071</td>\n",
              "    </tr>\n",
              "    <tr>\n",
              "      <th>4</th>\n",
              "      <td>1.714286</td>\n",
              "      <td>NaN</td>\n",
              "      <td>0</td>\n",
              "      <td>1.634690</td>\n",
              "    </tr>\n",
              "  </tbody>\n",
              "</table>\n",
              "</div>"
            ],
            "text/plain": [
              "   Breath data  mean(t-2,t-1)  Label    Height\n",
              "0     1.476190            NaN      0  1.396594\n",
              "1     1.571429            NaN      0  1.491833\n",
              "2     1.571429            NaN      0  1.491833\n",
              "3     1.666667            NaN      0  1.587071\n",
              "4     1.714286            NaN      0  1.634690"
            ]
          },
          "metadata": {
            "tags": []
          },
          "execution_count": 105
        }
      ]
    },
    {
      "cell_type": "code",
      "metadata": {
        "colab": {
          "base_uri": "https://localhost:8080/",
          "height": 282
        },
        "id": "ejKOMJF_G-GO",
        "outputId": "ba49e171-8542-466c-9fcb-0173b5509385"
      },
      "source": [
        "total['Height'].plot(kind='kde')"
      ],
      "execution_count": null,
      "outputs": [
        {
          "output_type": "execute_result",
          "data": {
            "text/plain": [
              "<matplotlib.axes._subplots.AxesSubplot at 0x7f09ec4a2250>"
            ]
          },
          "metadata": {
            "tags": []
          },
          "execution_count": 106
        },
        {
          "output_type": "display_data",
          "data": {
            "image/png": "[encoded data removed]",
            "text/plain": [
              "<Figure size 432x288 with 1 Axes>"
            ]
          },
          "metadata": {
            "tags": [],
            "needs_background": "light"
          }
        }
      ]
    },
    {
      "cell_type": "code",
      "metadata": {
        "colab": {
          "base_uri": "https://localhost:8080/",
          "height": 282
        },
        "id": "KUWA1dM_KQXW",
        "outputId": "7cfbe007-a792-41e2-bd12-a3cd151647a0"
      },
      "source": [
        "# TO SHOW TOGETHER, FIRST DO INDIVIDUALLY AND THEN DO plt.show()\n",
        "normal['Breath data'].plot(kind='kde', Label='normal')\n",
        "notNormal['Breath data'].plot(kind='kde', Label='Not Normal')\n",
        "plt.xlabel('Breath data')\n",
        "plt.ylabel('Probability Density')\n",
        "plt.show()"
      ],
      "execution_count": null,
      "outputs": [
        {
          "output_type": "display_data",
          "data": {
            "image/png": "[encoded data removed]",
            "text/plain": [
              "<Figure size 432x288 with 1 Axes>"
            ]
          },
          "metadata": {
            "tags": [],
            "needs_background": "light"
          }
        }
      ]
    },
    {
      "cell_type": "code",
      "metadata": {
        "id": "Yt4pKLsTKSoY"
      },
      "source": [
        "notNorma"
      ],
      "execution_count": null,
      "outputs": []
    },
    {
      "cell_type": "markdown",
      "metadata": {
        "id": "itp3hptAGvnp"
      },
      "source": [
        "***Rearranging the columns ***"
      ]
    },
    {
      "cell_type": "code",
      "metadata": {
        "colab": {
          "base_uri": "https://localhost:8080/",
          "height": 419
        },
        "id": "K7iESAD468ls",
        "outputId": "7e054786-c7a3-4f19-98b4-a7888ebbfd08"
      },
      "source": [
        "total"
      ],
      "execution_count": null,
      "outputs": [
        {
          "output_type": "execute_result",
          "data": {
            "text/html": [
              "<div>\n",
              "<style scoped>\n",
              "    .dataframe tbody tr th:only-of-type {\n",
              "        vertical-align: middle;\n",
              "    }\n",
              "\n",
              "    .dataframe tbody tr th {\n",
              "        vertical-align: top;\n",
              "    }\n",
              "\n",
              "    .dataframe thead th {\n",
              "        text-align: right;\n",
              "    }\n",
              "</style>\n",
              "<table border=\"1\" class=\"dataframe\">\n",
              "  <thead>\n",
              "    <tr style=\"text-align: right;\">\n",
              "      <th></th>\n",
              "      <th>Breath data</th>\n",
              "      <th>Label</th>\n",
              "      <th>mean(t-2,t-1)</th>\n",
              "      <th>Height</th>\n",
              "    </tr>\n",
              "  </thead>\n",
              "  <tbody>\n",
              "    <tr>\n",
              "      <th>0</th>\n",
              "      <td>1.476190</td>\n",
              "      <td>0</td>\n",
              "      <td>NaN</td>\n",
              "      <td>1.396594</td>\n",
              "    </tr>\n",
              "    <tr>\n",
              "      <th>1</th>\n",
              "      <td>1.571429</td>\n",
              "      <td>0</td>\n",
              "      <td>NaN</td>\n",
              "      <td>1.491833</td>\n",
              "    </tr>\n",
              "    <tr>\n",
              "      <th>2</th>\n",
              "      <td>1.571429</td>\n",
              "      <td>0</td>\n",
              "      <td>NaN</td>\n",
              "      <td>1.491833</td>\n",
              "    </tr>\n",
              "    <tr>\n",
              "      <th>3</th>\n",
              "      <td>1.666667</td>\n",
              "      <td>0</td>\n",
              "      <td>NaN</td>\n",
              "      <td>1.587071</td>\n",
              "    </tr>\n",
              "    <tr>\n",
              "      <th>4</th>\n",
              "      <td>1.714286</td>\n",
              "      <td>0</td>\n",
              "      <td>NaN</td>\n",
              "      <td>1.634690</td>\n",
              "    </tr>\n",
              "    <tr>\n",
              "      <th>...</th>\n",
              "      <td>...</td>\n",
              "      <td>...</td>\n",
              "      <td>...</td>\n",
              "      <td>...</td>\n",
              "    </tr>\n",
              "    <tr>\n",
              "      <th>42130</th>\n",
              "      <td>0.500000</td>\n",
              "      <td>1</td>\n",
              "      <td>-0.40</td>\n",
              "      <td>0.420404</td>\n",
              "    </tr>\n",
              "    <tr>\n",
              "      <th>42131</th>\n",
              "      <td>-0.500000</td>\n",
              "      <td>1</td>\n",
              "      <td>-0.35</td>\n",
              "      <td>-0.420404</td>\n",
              "    </tr>\n",
              "    <tr>\n",
              "      <th>42132</th>\n",
              "      <td>-0.500000</td>\n",
              "      <td>1</td>\n",
              "      <td>-0.40</td>\n",
              "      <td>-0.420404</td>\n",
              "    </tr>\n",
              "    <tr>\n",
              "      <th>42133</th>\n",
              "      <td>-0.500000</td>\n",
              "      <td>1</td>\n",
              "      <td>-0.40</td>\n",
              "      <td>-0.420404</td>\n",
              "    </tr>\n",
              "    <tr>\n",
              "      <th>42134</th>\n",
              "      <td>-0.500000</td>\n",
              "      <td>1</td>\n",
              "      <td>-0.35</td>\n",
              "      <td>-0.420404</td>\n",
              "    </tr>\n",
              "  </tbody>\n",
              "</table>\n",
              "<p>42135 rows × 4 columns</p>\n",
              "</div>"
            ],
            "text/plain": [
              "       Breath data  Label  mean(t-2,t-1)    Height\n",
              "0         1.476190      0            NaN  1.396594\n",
              "1         1.571429      0            NaN  1.491833\n",
              "2         1.571429      0            NaN  1.491833\n",
              "3         1.666667      0            NaN  1.587071\n",
              "4         1.714286      0            NaN  1.634690\n",
              "...            ...    ...            ...       ...\n",
              "42130     0.500000      1          -0.40  0.420404\n",
              "42131    -0.500000      1          -0.35 -0.420404\n",
              "42132    -0.500000      1          -0.40 -0.420404\n",
              "42133    -0.500000      1          -0.40 -0.420404\n",
              "42134    -0.500000      1          -0.35 -0.420404\n",
              "\n",
              "[42135 rows x 4 columns]"
            ]
          },
          "metadata": {
            "tags": []
          },
          "execution_count": 100
        }
      ]
    },
    {
      "cell_type": "code",
      "metadata": {
        "id": "p2Hw7NK-FucQ"
      },
      "source": [
        "total = total[['Breath data', 'Height','mean(t-2,t-1)', 'Label']]\n"
      ],
      "execution_count": null,
      "outputs": []
    },
    {
      "cell_type": "code",
      "metadata": {
        "colab": {
          "base_uri": "https://localhost:8080/",
          "height": 419
        },
        "id": "b6o06t6P8T1l",
        "outputId": "9f46a1fb-7d43-47d2-f41c-db97f652f7f2"
      },
      "source": [
        "total"
      ],
      "execution_count": null,
      "outputs": [
        {
          "output_type": "execute_result",
          "data": {
            "text/html": [
              "<div>\n",
              "<style scoped>\n",
              "    .dataframe tbody tr th:only-of-type {\n",
              "        vertical-align: middle;\n",
              "    }\n",
              "\n",
              "    .dataframe tbody tr th {\n",
              "        vertical-align: top;\n",
              "    }\n",
              "\n",
              "    .dataframe thead th {\n",
              "        text-align: right;\n",
              "    }\n",
              "</style>\n",
              "<table border=\"1\" class=\"dataframe\">\n",
              "  <thead>\n",
              "    <tr style=\"text-align: right;\">\n",
              "      <th></th>\n",
              "      <th>Breath data</th>\n",
              "      <th>Height</th>\n",
              "      <th>mean(t-2,t-1)</th>\n",
              "      <th>Label</th>\n",
              "    </tr>\n",
              "  </thead>\n",
              "  <tbody>\n",
              "    <tr>\n",
              "      <th>0</th>\n",
              "      <td>1.476190</td>\n",
              "      <td>1.396594</td>\n",
              "      <td>NaN</td>\n",
              "      <td>0</td>\n",
              "    </tr>\n",
              "    <tr>\n",
              "      <th>1</th>\n",
              "      <td>1.571429</td>\n",
              "      <td>1.491833</td>\n",
              "      <td>NaN</td>\n",
              "      <td>0</td>\n",
              "    </tr>\n",
              "    <tr>\n",
              "      <th>2</th>\n",
              "      <td>1.571429</td>\n",
              "      <td>1.491833</td>\n",
              "      <td>NaN</td>\n",
              "      <td>0</td>\n",
              "    </tr>\n",
              "    <tr>\n",
              "      <th>3</th>\n",
              "      <td>1.666667</td>\n",
              "      <td>1.587071</td>\n",
              "      <td>NaN</td>\n",
              "      <td>0</td>\n",
              "    </tr>\n",
              "    <tr>\n",
              "      <th>4</th>\n",
              "      <td>1.714286</td>\n",
              "      <td>1.634690</td>\n",
              "      <td>NaN</td>\n",
              "      <td>0</td>\n",
              "    </tr>\n",
              "    <tr>\n",
              "      <th>...</th>\n",
              "      <td>...</td>\n",
              "      <td>...</td>\n",
              "      <td>...</td>\n",
              "      <td>...</td>\n",
              "    </tr>\n",
              "    <tr>\n",
              "      <th>42130</th>\n",
              "      <td>0.500000</td>\n",
              "      <td>0.420404</td>\n",
              "      <td>-0.40</td>\n",
              "      <td>1</td>\n",
              "    </tr>\n",
              "    <tr>\n",
              "      <th>42131</th>\n",
              "      <td>-0.500000</td>\n",
              "      <td>-0.420404</td>\n",
              "      <td>-0.35</td>\n",
              "      <td>1</td>\n",
              "    </tr>\n",
              "    <tr>\n",
              "      <th>42132</th>\n",
              "      <td>-0.500000</td>\n",
              "      <td>-0.420404</td>\n",
              "      <td>-0.40</td>\n",
              "      <td>1</td>\n",
              "    </tr>\n",
              "    <tr>\n",
              "      <th>42133</th>\n",
              "      <td>-0.500000</td>\n",
              "      <td>-0.420404</td>\n",
              "      <td>-0.40</td>\n",
              "      <td>1</td>\n",
              "    </tr>\n",
              "    <tr>\n",
              "      <th>42134</th>\n",
              "      <td>-0.500000</td>\n",
              "      <td>-0.420404</td>\n",
              "      <td>-0.35</td>\n",
              "      <td>1</td>\n",
              "    </tr>\n",
              "  </tbody>\n",
              "</table>\n",
              "<p>42135 rows × 4 columns</p>\n",
              "</div>"
            ],
            "text/plain": [
              "       Breath data    Height  mean(t-2,t-1)  Label\n",
              "0         1.476190  1.396594            NaN      0\n",
              "1         1.571429  1.491833            NaN      0\n",
              "2         1.571429  1.491833            NaN      0\n",
              "3         1.666667  1.587071            NaN      0\n",
              "4         1.714286  1.634690            NaN      0\n",
              "...            ...       ...            ...    ...\n",
              "42130     0.500000  0.420404          -0.40      1\n",
              "42131    -0.500000 -0.420404          -0.35      1\n",
              "42132    -0.500000 -0.420404          -0.40      1\n",
              "42133    -0.500000 -0.420404          -0.40      1\n",
              "42134    -0.500000 -0.420404          -0.35      1\n",
              "\n",
              "[42135 rows x 4 columns]"
            ]
          },
          "metadata": {
            "tags": []
          },
          "execution_count": 108
        }
      ]
    },
    {
      "cell_type": "markdown",
      "metadata": {
        "id": "bWOAH_L28Rw6"
      },
      "source": [
        "Drop height\n"
      ]
    },
    {
      "cell_type": "code",
      "metadata": {
        "id": "1D2XJ70q6g7-"
      },
      "source": [
        "total = total.drop(['Height'], axis = 1)"
      ],
      "execution_count": null,
      "outputs": []
    },
    {
      "cell_type": "markdown",
      "metadata": {
        "id": "AAoVuk93Vfi2"
      },
      "source": [
        "# ROLLING WINDOOW"
      ]
    },
    {
      "cell_type": "code",
      "metadata": {
        "id": "vSOeuU66V60l"
      },
      "source": [
        "total1 = []\n",
        "total1 = pd.DataFrame(total1)"
      ],
      "execution_count": 258,
      "outputs": []
    },
    {
      "cell_type": "code",
      "metadata": {
        "id": "b3TIYlVIViof"
      },
      "source": [
        "total1 = total['Breath data'].rolling(15).mean().shift()"
      ],
      "execution_count": 260,
      "outputs": []
    },
    {
      "cell_type": "code",
      "metadata": {
        "id": "XjisoKH-Wjai"
      },
      "source": [
        "total1.reset_index(inplace=True, drop=True)\n",
        "total.reset_index(inplace=True, drop=True)"
      ],
      "execution_count": 265,
      "outputs": []
    },
    {
      "cell_type": "code",
      "metadata": {
        "colab": {
          "base_uri": "https://localhost:8080/",
          "height": 609
        },
        "id": "l8QaziOXWsIW",
        "outputId": "6fd9ed08-0b96-4c35-a00d-0840549a18fc"
      },
      "source": [
        "plt.figure(figsize=(15,10))\n",
        "plt.grid(True)\n",
        "plt.plot(total['Breath data'], label='Total')\n",
        "plt.plot(total1, label='Rolling Windows')\n",
        "plt.legend(loc=2)"
      ],
      "execution_count": 266,
      "outputs": [
        {
          "output_type": "execute_result",
          "data": {
            "text/plain": [
              "<matplotlib.legend.Legend at 0x7f8900903fd0>"
            ]
          },
          "metadata": {},
          "execution_count": 266
        },
        {
          "output_type": "display_data",
          "data": {
            "image/png": "[encoded data removed]",
            "text/plain": [
              "<Figure size 1080x720 with 1 Axes>"
            ]
          },
          "metadata": {
            "needs_background": "light"
          }
        }
      ]
    },
    {
      "cell_type": "markdown",
      "metadata": {
        "id": "OvdF4EiNnrE5"
      },
      "source": [
        "# SLIDING WINDOW TECHNIQUE TO DETECT ANOMALIES\n",
        "\n",
        "Check out this [Website](https://medium.com/@krzysztofdrelczuk/time-series-anomaly-detection-with-python-example-a92ef262f09a) on how i did it. Info about the [List Comprehensions](https://www.w3schools.com/python/python_lists_comprehension.asp) i used."
      ]
    },
    {
      "cell_type": "code",
      "metadata": {
        "id": "m5LqWUxq7ilO"
      },
      "source": [
        "normal.describe()"
      ],
      "execution_count": null,
      "outputs": []
    },
    {
      "cell_type": "code",
      "metadata": {
        "colab": {
          "base_uri": "https://localhost:8080/",
          "height": 419
        },
        "id": "dLXwXcq27sHr",
        "outputId": "5bfed3e9-31b2-425b-e19e-8b9622a5b372"
      },
      "source": [
        "notNormal = quick.append(deep)\n",
        "notNormal.reset_index(inplace=True, drop=True)\n",
        "notNormal"
      ],
      "execution_count": 23,
      "outputs": [
        {
          "output_type": "execute_result",
          "data": {
            "text/html": [
              "<div>\n",
              "<style scoped>\n",
              "    .dataframe tbody tr th:only-of-type {\n",
              "        vertical-align: middle;\n",
              "    }\n",
              "\n",
              "    .dataframe tbody tr th {\n",
              "        vertical-align: top;\n",
              "    }\n",
              "\n",
              "    .dataframe thead th {\n",
              "        text-align: right;\n",
              "    }\n",
              "</style>\n",
              "<table border=\"1\" class=\"dataframe\">\n",
              "  <thead>\n",
              "    <tr style=\"text-align: right;\">\n",
              "      <th></th>\n",
              "      <th>Breath data</th>\n",
              "      <th>Label</th>\n",
              "    </tr>\n",
              "  </thead>\n",
              "  <tbody>\n",
              "    <tr>\n",
              "      <th>0</th>\n",
              "      <td>3.000000</td>\n",
              "      <td>Not Normal</td>\n",
              "    </tr>\n",
              "    <tr>\n",
              "      <th>1</th>\n",
              "      <td>2.857143</td>\n",
              "      <td>Not Normal</td>\n",
              "    </tr>\n",
              "    <tr>\n",
              "      <th>2</th>\n",
              "      <td>2.857143</td>\n",
              "      <td>Not Normal</td>\n",
              "    </tr>\n",
              "    <tr>\n",
              "      <th>3</th>\n",
              "      <td>2.714286</td>\n",
              "      <td>Not Normal</td>\n",
              "    </tr>\n",
              "    <tr>\n",
              "      <th>4</th>\n",
              "      <td>2.571429</td>\n",
              "      <td>Not Normal</td>\n",
              "    </tr>\n",
              "    <tr>\n",
              "      <th>...</th>\n",
              "      <td>...</td>\n",
              "      <td>...</td>\n",
              "    </tr>\n",
              "    <tr>\n",
              "      <th>27396</th>\n",
              "      <td>-0.764706</td>\n",
              "      <td>Not Normal</td>\n",
              "    </tr>\n",
              "    <tr>\n",
              "      <th>27397</th>\n",
              "      <td>-0.823529</td>\n",
              "      <td>Not Normal</td>\n",
              "    </tr>\n",
              "    <tr>\n",
              "      <th>27398</th>\n",
              "      <td>-0.823529</td>\n",
              "      <td>Not Normal</td>\n",
              "    </tr>\n",
              "    <tr>\n",
              "      <th>27399</th>\n",
              "      <td>-0.882353</td>\n",
              "      <td>Not Normal</td>\n",
              "    </tr>\n",
              "    <tr>\n",
              "      <th>27400</th>\n",
              "      <td>-0.941176</td>\n",
              "      <td>Not Normal</td>\n",
              "    </tr>\n",
              "  </tbody>\n",
              "</table>\n",
              "<p>27401 rows × 2 columns</p>\n",
              "</div>"
            ],
            "text/plain": [
              "       Breath data       Label\n",
              "0         3.000000  Not Normal\n",
              "1         2.857143  Not Normal\n",
              "2         2.857143  Not Normal\n",
              "3         2.714286  Not Normal\n",
              "4         2.571429  Not Normal\n",
              "...            ...         ...\n",
              "27396    -0.764706  Not Normal\n",
              "27397    -0.823529  Not Normal\n",
              "27398    -0.823529  Not Normal\n",
              "27399    -0.882353  Not Normal\n",
              "27400    -0.941176  Not Normal\n",
              "\n",
              "[27401 rows x 2 columns]"
            ]
          },
          "metadata": {},
          "execution_count": 23
        }
      ]
    },
    {
      "cell_type": "markdown",
      "metadata": {
        "id": "fvPoZTjx7OYb"
      },
      "source": [
        "- **The actual size is being computed based on percentage value assigned to window_percentage variable. Smaller number will make bands more ‘tight’ compared to the main data. Larger numbers will give more smoother bands.**\n",
        "\n",
        "- **k is the window size and N is a length of data.** \n"
      ]
    },
    {
      "cell_type": "code",
      "metadata": {
        "id": "PINMjjlvn1Fo"
      },
      "source": [
        "# anomalee = []\n",
        "normal_column = normal['Breath data']\n",
        "\n",
        "window_percentage = 20 # percentage to make window\n",
        "k = int(len(normal_column) * (window_percentage/2/100)) \n",
        "N = len(normal_column)\n",
        "get_bands = lambda data : (np.mean(data) + 1.5*np.std(data),np.mean(data) - 1.5*np.std(data))\n",
        "bands = [get_bands(normal_column[range(0 if i - k < 0 else i-k ,i + k if i + k < N else N)]) for i in range(0,N)]\n",
        "upper, lower = zip(*bands)\n"
      ],
      "execution_count": 24,
      "outputs": []
    },
    {
      "cell_type": "markdown",
      "metadata": {
        "id": "1GYqVdZXzPSB"
      },
      "source": [
        "\n",
        "\n",
        "```\n",
        "zip(list1, list2) - maps similar list index of different lists together\n",
        "\n",
        "zip(*list) - The * operator can be used in conjunction with zip() to unzip the list.\n",
        "```\n",
        "\n"
      ]
    },
    {
      "cell_type": "code",
      "metadata": {
        "id": "iDRtVlMm7Jqq"
      },
      "source": [
        "anomalies = (normal_column > upper) | (normal_column < lower)"
      ],
      "execution_count": 25,
      "outputs": []
    },
    {
      "cell_type": "code",
      "metadata": {
        "id": "120_nG1105qT"
      },
      "source": [
        "# for i in range(len(column)):   \n",
        "#     x = column[i] > upper\n",
        "#     y = column[i] < upper\n",
        "\n",
        "#     if x[0] == True:\n",
        "#        anomalee.append('Not Normal')\n",
        "#     elif y[0] == True:\n",
        "#        anomalee.append('Not Normal')\n",
        "#     else:\n",
        "#        anomalee.append('Normal')\n",
        "                "
      ],
      "execution_count": null,
      "outputs": []
    },
    {
      "cell_type": "code",
      "metadata": {
        "id": "qayEg2ilthwb"
      },
      "source": [
        "# for not normal feed 'not normal' alagse on bands trained on 'Normal' for"
      ],
      "execution_count": null,
      "outputs": []
    },
    {
      "cell_type": "code",
      "metadata": {
        "id": "3EET7hFDpT-Z"
      },
      "source": [
        "N = len(normal_column)\n",
        "time = np.arange(0,N)\n",
        "\n",
        "\n",
        "plt.figure(figsize=(20,10))\n",
        "plt.plot(time,normal_column,'k',label='Data')\n",
        "plt.plot(time,upper,'r-',label='Bands',alpha=0.3)\n",
        "plt.plot(time,lower,'r-',alpha=0.3)\n",
        "\n",
        "plt.plot(time[anomalies],normal_column[anomalies],'ro',label='Anomalies')\n",
        "plt.fill_between(time, upper, lower,facecolor='red',alpha=0.1)\n",
        "plt.legend()\n",
        "\n",
        "plt.show()"
      ],
      "execution_count": null,
      "outputs": []
    },
    {
      "cell_type": "markdown",
      "metadata": {
        "id": "-uLGH-hNZibE"
      },
      "source": [
        "TRYING OVER Not Normal"
      ]
    },
    {
      "cell_type": "code",
      "metadata": {
        "id": "JNxqe1FTZ-Sc"
      },
      "source": [
        "\n",
        "notNormal_column = notNormal['Breath data']\n",
        "\n",
        "window_percentage = 20\n",
        "k = int(len(notNormal_column) * (window_percentage/2/100))\n",
        "N = len(notNormal_column)\n",
        "get_bands = lambda data : (np.mean(data) + 1.5*np.std(data),np.mean(data) - 1.5*np.std(data))\n",
        "bands = [get_bands(notNormal_column[range(0 if i - k < 0 else i-k ,i + k if i + k < N else N)]) for i in range(0,N)]\n",
        "upper, lower = zip(*bands)\n"
      ],
      "execution_count": null,
      "outputs": []
    },
    {
      "cell_type": "code",
      "metadata": {
        "id": "l-RvDm0iZ_8J"
      },
      "source": [
        "anomalies = (notNormal_column > upper) | (notNormal_column < lower)"
      ],
      "execution_count": null,
      "outputs": []
    },
    {
      "cell_type": "code",
      "metadata": {
        "id": "jyK3DmF0ZEew"
      },
      "source": [
        "N = len(notNormal_column)\n",
        "time = np.arange(0,N)\n",
        "\n",
        "\n",
        "plt.figure(figsize=(20,10))\n",
        "plt.plot(time,notNormal_column,'k',label='Data')\n",
        "plt.plot(time,upper,'r-',label='Bands',alpha=0.3)\n",
        "plt.plot(time,lower,'r-',alpha=0.3)\n",
        "\n",
        "plt.plot(time[anomalies],notNormal_column[anomalies],'ro',label='Anomalies')\n",
        "plt.fill_between(time, upper, lower,facecolor='red',alpha=0.1)\n",
        "plt.legend()\n",
        "\n",
        "plt.show()"
      ],
      "execution_count": null,
      "outputs": []
    },
    {
      "cell_type": "code",
      "metadata": {
        "id": "tZpRvfWwPQRv"
      },
      "source": [
        "f = pd.DataFrame(anomalies)\n",
        "\n",
        "u = pd.DataFrame(upper)\n",
        "\n",
        "l = pd.DataFrame(lower)"
      ],
      "execution_count": null,
      "outputs": []
    },
    {
      "cell_type": "code",
      "metadata": {
        "id": "REy2pQeLPhZn"
      },
      "source": [
        "l.describe()"
      ],
      "execution_count": null,
      "outputs": []
    },
    {
      "cell_type": "code",
      "metadata": {
        "id": "tRSlgYb6QHH9"
      },
      "source": [
        "label1 = []\n",
        "\n",
        "for i in range(len(total)):\n",
        "\n",
        "  if total['Breath data'][i] < -1.9:\n",
        "      z = 'Not Normal'\n",
        "  elif total['Breath data'][i] > 2.1:\n",
        "      z = 'Not Normal'\n",
        "  else: \n",
        "      z = 'Normal'\n",
        "  \n",
        "  label1.append(z) \n",
        "    \n",
        "total['Label'] = label1"
      ],
      "execution_count": null,
      "outputs": []
    },
    {
      "cell_type": "code",
      "metadata": {
        "id": "qhObet3IRXHh"
      },
      "source": [
        "total.plot()"
      ],
      "execution_count": null,
      "outputs": []
    },
    {
      "cell_type": "code",
      "metadata": {
        "id": "ySz4kBo7Rg97"
      },
      "source": [
        "total"
      ],
      "execution_count": null,
      "outputs": []
    },
    {
      "cell_type": "markdown",
      "metadata": {
        "id": "EJOAngyAEG12"
      },
      "source": [
        "# MODEL WORK START (ungrouped data)"
      ]
    },
    {
      "cell_type": "code",
      "metadata": {
        "colab": {
          "base_uri": "https://localhost:8080/"
        },
        "id": "6zb0Tmm9oT5x",
        "outputId": "26b78eca-b62b-4220-c67d-5fefdae03f70"
      },
      "source": [
        "total['Label'].unique()"
      ],
      "execution_count": 151,
      "outputs": [
        {
          "output_type": "execute_result",
          "data": {
            "text/plain": [
              "array([0, 1])"
            ]
          },
          "metadata": {},
          "execution_count": 151
        }
      ]
    },
    {
      "cell_type": "markdown",
      "metadata": {
        "id": "F2PTJ-jWR6i8"
      },
      "source": [
        "IF REQUIRED, ENCODE"
      ]
    },
    {
      "cell_type": "code",
      "metadata": {
        "id": "Lsb5BHUGR5op"
      },
      "source": [
        "from sklearn.preprocessing import LabelEncoder\n",
        "le = LabelEncoder() # make an object of the class\n",
        "total['Label'] = le.fit_transform(total['Label']) # replace the class with transformed column"
      ],
      "execution_count": 150,
      "outputs": []
    },
    {
      "cell_type": "markdown",
      "metadata": {
        "id": "j394cATdh2Js"
      },
      "source": [
        "Extracting rows from dataframe and put to another another, then delete those rows in previous dataframe\n",
        "\n",
        "OR\n",
        "\n",
        "FOR LOOP TO EXTRACT FROM PARENT DATASET TO TEST, TRAIN DATASET.\n",
        "\n"
      ]
    },
    {
      "cell_type": "code",
      "metadata": {
        "id": "SjHISplMlbjD"
      },
      "source": [
        "# Creating empty dataframes\n",
        "\n",
        "test = []\n",
        "test = pd.DataFrame(test)\n",
        "\n",
        "val = []\n",
        "val = pd.DataFrame(val)\n",
        "\n",
        "train = []\n",
        "train = pd.DataFrame(train)"
      ],
      "execution_count": 152,
      "outputs": []
    },
    {
      "cell_type": "code",
      "metadata": {
        "colab": {
          "base_uri": "https://localhost:8080/"
        },
        "id": "gVbYGkVFJjMc",
        "outputId": "2136e9b1-ecef-4de2-ae6d-8893acda1a17"
      },
      "source": [
        "total.shape[0] "
      ],
      "execution_count": 153,
      "outputs": [
        {
          "output_type": "execute_result",
          "data": {
            "text/plain": [
              "42135"
            ]
          },
          "metadata": {},
          "execution_count": 153
        }
      ]
    },
    {
      "cell_type": "code",
      "metadata": {
        "colab": {
          "base_uri": "https://localhost:8080/"
        },
        "id": "ip2sZKl5kVVj",
        "outputId": "963ef963-e808-43f2-a238-f31242bf1564"
      },
      "source": [
        "total['Label'].unique()"
      ],
      "execution_count": 154,
      "outputs": [
        {
          "output_type": "execute_result",
          "data": {
            "text/plain": [
              "array([0, 1])"
            ]
          },
          "metadata": {},
          "execution_count": 154
        }
      ]
    },
    {
      "cell_type": "code",
      "metadata": {
        "id": "lnDgTgYueSiW"
      },
      "source": [
        "for i in range(len(total)):\n",
        "  if i% 15 ==0:\n",
        "    k = total.loc[[i]] # extracting rows from dataframe to another\n",
        "    test = pd.concat([test, k]) # concat joins the dataframes, here row of dataframe is added one by one to empty train dataset\n",
        "  \n",
        "  elif i% 10 == 0:\n",
        "    v = total.loc[[i]]\n",
        "    val = pd.concat([val,v])\n",
        "  else:\n",
        "    p = total.loc[[i]]\n",
        "    train = pd.concat([train, p])"
      ],
      "execution_count": 155,
      "outputs": []
    },
    {
      "cell_type": "code",
      "metadata": {
        "id": "2w9UsgXFk6r5"
      },
      "source": [
        "total"
      ],
      "execution_count": null,
      "outputs": []
    },
    {
      "cell_type": "markdown",
      "metadata": {
        "id": "RC11RT790CWP"
      },
      "source": [
        "# MAIN METHOD: GROUP, SHUFFLE, SLIDING WINDOWS AND MODEL"
      ]
    },
    {
      "cell_type": "markdown",
      "metadata": {
        "id": "K0oI_2rz-xBV"
      },
      "source": [
        "## GROUPING DATA AND SHUFFLING THEM IN DATASET ! "
      ]
    },
    {
      "cell_type": "markdown",
      "metadata": {
        "id": "1v7VkA28_AYy"
      },
      "source": [
        "1- First we convert the dataset to list\n",
        "\n",
        "2- then we create 'Blocks' of the data and randomly shuffle them.\n",
        "\n",
        "3- then we make a new dataframe and append the values into it by looping through each block in shuffled block list"
      ]
    },
    {
      "cell_type": "code",
      "metadata": {
        "id": "m19BkyHE6o8R"
      },
      "source": [
        "total1 = []"
      ],
      "execution_count": 19,
      "outputs": []
    },
    {
      "cell_type": "code",
      "metadata": {
        "id": "3hp-GARMuJ34"
      },
      "source": [
        "import random\n",
        "\n",
        "listdata = total.values.tolist()\n",
        "\n",
        "blocks = [listdata[x:x+20] for x in range(0, len(total), 20)] # Change both vales in listdata and range\n",
        "random.shuffle(blocks)\n",
        "\n",
        "total1 = pd.DataFrame()  # new empty dataframe\n",
        "\n",
        "for b in blocks: # each block \n",
        "   total1 = total1.append(b)\n",
        "\n",
        "total1.reset_index(inplace=True, drop=True)\n",
        "total1.columns = ['Breath data','Label']"
      ],
      "execution_count": 20,
      "outputs": []
    },
    {
      "cell_type": "code",
      "metadata": {
        "id": "_3L7XCZ2y0DR",
        "colab": {
          "base_uri": "https://localhost:8080/",
          "height": 0
        },
        "outputId": "0bf329bf-c084-42d1-97a7-a9f696bafe3c"
      },
      "source": [
        "total1[:60]"
      ],
      "execution_count": 21,
      "outputs": [
        {
          "output_type": "execute_result",
          "data": {
            "text/html": [
              "<div>\n",
              "<style scoped>\n",
              "    .dataframe tbody tr th:only-of-type {\n",
              "        vertical-align: middle;\n",
              "    }\n",
              "\n",
              "    .dataframe tbody tr th {\n",
              "        vertical-align: top;\n",
              "    }\n",
              "\n",
              "    .dataframe thead th {\n",
              "        text-align: right;\n",
              "    }\n",
              "</style>\n",
              "<table border=\"1\" class=\"dataframe\">\n",
              "  <thead>\n",
              "    <tr style=\"text-align: right;\">\n",
              "      <th></th>\n",
              "      <th>Breath data</th>\n",
              "      <th>Label</th>\n",
              "    </tr>\n",
              "  </thead>\n",
              "  <tbody>\n",
              "    <tr>\n",
              "      <th>0</th>\n",
              "      <td>-0.615385</td>\n",
              "      <td>1.0</td>\n",
              "    </tr>\n",
              "    <tr>\n",
              "      <th>1</th>\n",
              "      <td>-0.523077</td>\n",
              "      <td>1.0</td>\n",
              "    </tr>\n",
              "    <tr>\n",
              "      <th>2</th>\n",
              "      <td>-0.461538</td>\n",
              "      <td>1.0</td>\n",
              "    </tr>\n",
              "    <tr>\n",
              "      <th>3</th>\n",
              "      <td>-0.369231</td>\n",
              "      <td>1.0</td>\n",
              "    </tr>\n",
              "    <tr>\n",
              "      <th>4</th>\n",
              "      <td>-0.276923</td>\n",
              "      <td>1.0</td>\n",
              "    </tr>\n",
              "    <tr>\n",
              "      <th>5</th>\n",
              "      <td>-0.153846</td>\n",
              "      <td>1.0</td>\n",
              "    </tr>\n",
              "    <tr>\n",
              "      <th>6</th>\n",
              "      <td>-0.030769</td>\n",
              "      <td>1.0</td>\n",
              "    </tr>\n",
              "    <tr>\n",
              "      <th>7</th>\n",
              "      <td>0.030769</td>\n",
              "      <td>1.0</td>\n",
              "    </tr>\n",
              "    <tr>\n",
              "      <th>8</th>\n",
              "      <td>0.123077</td>\n",
              "      <td>1.0</td>\n",
              "    </tr>\n",
              "    <tr>\n",
              "      <th>9</th>\n",
              "      <td>0.184615</td>\n",
              "      <td>1.0</td>\n",
              "    </tr>\n",
              "    <tr>\n",
              "      <th>10</th>\n",
              "      <td>0.276923</td>\n",
              "      <td>1.0</td>\n",
              "    </tr>\n",
              "    <tr>\n",
              "      <th>11</th>\n",
              "      <td>0.369231</td>\n",
              "      <td>1.0</td>\n",
              "    </tr>\n",
              "    <tr>\n",
              "      <th>12</th>\n",
              "      <td>0.492308</td>\n",
              "      <td>1.0</td>\n",
              "    </tr>\n",
              "    <tr>\n",
              "      <th>13</th>\n",
              "      <td>0.584615</td>\n",
              "      <td>1.0</td>\n",
              "    </tr>\n",
              "    <tr>\n",
              "      <th>14</th>\n",
              "      <td>0.738462</td>\n",
              "      <td>1.0</td>\n",
              "    </tr>\n",
              "    <tr>\n",
              "      <th>15</th>\n",
              "      <td>0.892308</td>\n",
              "      <td>1.0</td>\n",
              "    </tr>\n",
              "    <tr>\n",
              "      <th>16</th>\n",
              "      <td>1.015385</td>\n",
              "      <td>1.0</td>\n",
              "    </tr>\n",
              "    <tr>\n",
              "      <th>17</th>\n",
              "      <td>1.138462</td>\n",
              "      <td>1.0</td>\n",
              "    </tr>\n",
              "    <tr>\n",
              "      <th>18</th>\n",
              "      <td>1.200000</td>\n",
              "      <td>1.0</td>\n",
              "    </tr>\n",
              "    <tr>\n",
              "      <th>19</th>\n",
              "      <td>1.292308</td>\n",
              "      <td>1.0</td>\n",
              "    </tr>\n",
              "    <tr>\n",
              "      <th>20</th>\n",
              "      <td>-0.500000</td>\n",
              "      <td>0.0</td>\n",
              "    </tr>\n",
              "    <tr>\n",
              "      <th>21</th>\n",
              "      <td>-0.500000</td>\n",
              "      <td>0.0</td>\n",
              "    </tr>\n",
              "    <tr>\n",
              "      <th>22</th>\n",
              "      <td>-0.666667</td>\n",
              "      <td>0.0</td>\n",
              "    </tr>\n",
              "    <tr>\n",
              "      <th>23</th>\n",
              "      <td>-0.666667</td>\n",
              "      <td>0.0</td>\n",
              "    </tr>\n",
              "    <tr>\n",
              "      <th>24</th>\n",
              "      <td>-0.666667</td>\n",
              "      <td>0.0</td>\n",
              "    </tr>\n",
              "    <tr>\n",
              "      <th>25</th>\n",
              "      <td>-0.666667</td>\n",
              "      <td>0.0</td>\n",
              "    </tr>\n",
              "    <tr>\n",
              "      <th>26</th>\n",
              "      <td>-0.833333</td>\n",
              "      <td>0.0</td>\n",
              "    </tr>\n",
              "    <tr>\n",
              "      <th>27</th>\n",
              "      <td>-0.833333</td>\n",
              "      <td>0.0</td>\n",
              "    </tr>\n",
              "    <tr>\n",
              "      <th>28</th>\n",
              "      <td>-0.833333</td>\n",
              "      <td>0.0</td>\n",
              "    </tr>\n",
              "    <tr>\n",
              "      <th>29</th>\n",
              "      <td>-0.833333</td>\n",
              "      <td>0.0</td>\n",
              "    </tr>\n",
              "    <tr>\n",
              "      <th>30</th>\n",
              "      <td>-0.833333</td>\n",
              "      <td>0.0</td>\n",
              "    </tr>\n",
              "    <tr>\n",
              "      <th>31</th>\n",
              "      <td>-0.833333</td>\n",
              "      <td>0.0</td>\n",
              "    </tr>\n",
              "    <tr>\n",
              "      <th>32</th>\n",
              "      <td>-0.833333</td>\n",
              "      <td>0.0</td>\n",
              "    </tr>\n",
              "    <tr>\n",
              "      <th>33</th>\n",
              "      <td>-0.666667</td>\n",
              "      <td>0.0</td>\n",
              "    </tr>\n",
              "    <tr>\n",
              "      <th>34</th>\n",
              "      <td>-0.500000</td>\n",
              "      <td>0.0</td>\n",
              "    </tr>\n",
              "    <tr>\n",
              "      <th>35</th>\n",
              "      <td>-0.500000</td>\n",
              "      <td>0.0</td>\n",
              "    </tr>\n",
              "    <tr>\n",
              "      <th>36</th>\n",
              "      <td>-0.500000</td>\n",
              "      <td>0.0</td>\n",
              "    </tr>\n",
              "    <tr>\n",
              "      <th>37</th>\n",
              "      <td>-0.333333</td>\n",
              "      <td>0.0</td>\n",
              "    </tr>\n",
              "    <tr>\n",
              "      <th>38</th>\n",
              "      <td>-0.333333</td>\n",
              "      <td>0.0</td>\n",
              "    </tr>\n",
              "    <tr>\n",
              "      <th>39</th>\n",
              "      <td>-0.333333</td>\n",
              "      <td>0.0</td>\n",
              "    </tr>\n",
              "    <tr>\n",
              "      <th>40</th>\n",
              "      <td>0.733333</td>\n",
              "      <td>0.0</td>\n",
              "    </tr>\n",
              "    <tr>\n",
              "      <th>41</th>\n",
              "      <td>0.688889</td>\n",
              "      <td>0.0</td>\n",
              "    </tr>\n",
              "    <tr>\n",
              "      <th>42</th>\n",
              "      <td>0.644444</td>\n",
              "      <td>0.0</td>\n",
              "    </tr>\n",
              "    <tr>\n",
              "      <th>43</th>\n",
              "      <td>0.577778</td>\n",
              "      <td>0.0</td>\n",
              "    </tr>\n",
              "    <tr>\n",
              "      <th>44</th>\n",
              "      <td>0.555556</td>\n",
              "      <td>0.0</td>\n",
              "    </tr>\n",
              "    <tr>\n",
              "      <th>45</th>\n",
              "      <td>0.533333</td>\n",
              "      <td>0.0</td>\n",
              "    </tr>\n",
              "    <tr>\n",
              "      <th>46</th>\n",
              "      <td>0.488889</td>\n",
              "      <td>0.0</td>\n",
              "    </tr>\n",
              "    <tr>\n",
              "      <th>47</th>\n",
              "      <td>0.466667</td>\n",
              "      <td>0.0</td>\n",
              "    </tr>\n",
              "    <tr>\n",
              "      <th>48</th>\n",
              "      <td>0.444444</td>\n",
              "      <td>0.0</td>\n",
              "    </tr>\n",
              "    <tr>\n",
              "      <th>49</th>\n",
              "      <td>0.400000</td>\n",
              "      <td>0.0</td>\n",
              "    </tr>\n",
              "    <tr>\n",
              "      <th>50</th>\n",
              "      <td>0.400000</td>\n",
              "      <td>0.0</td>\n",
              "    </tr>\n",
              "    <tr>\n",
              "      <th>51</th>\n",
              "      <td>0.400000</td>\n",
              "      <td>0.0</td>\n",
              "    </tr>\n",
              "    <tr>\n",
              "      <th>52</th>\n",
              "      <td>0.422222</td>\n",
              "      <td>0.0</td>\n",
              "    </tr>\n",
              "    <tr>\n",
              "      <th>53</th>\n",
              "      <td>0.444444</td>\n",
              "      <td>0.0</td>\n",
              "    </tr>\n",
              "    <tr>\n",
              "      <th>54</th>\n",
              "      <td>0.488889</td>\n",
              "      <td>0.0</td>\n",
              "    </tr>\n",
              "    <tr>\n",
              "      <th>55</th>\n",
              "      <td>0.533333</td>\n",
              "      <td>0.0</td>\n",
              "    </tr>\n",
              "    <tr>\n",
              "      <th>56</th>\n",
              "      <td>0.600000</td>\n",
              "      <td>0.0</td>\n",
              "    </tr>\n",
              "    <tr>\n",
              "      <th>57</th>\n",
              "      <td>0.666667</td>\n",
              "      <td>0.0</td>\n",
              "    </tr>\n",
              "    <tr>\n",
              "      <th>58</th>\n",
              "      <td>0.711111</td>\n",
              "      <td>0.0</td>\n",
              "    </tr>\n",
              "    <tr>\n",
              "      <th>59</th>\n",
              "      <td>0.777778</td>\n",
              "      <td>0.0</td>\n",
              "    </tr>\n",
              "  </tbody>\n",
              "</table>\n",
              "</div>"
            ],
            "text/plain": [
              "    Breath data  Label\n",
              "0     -0.615385    1.0\n",
              "1     -0.523077    1.0\n",
              "2     -0.461538    1.0\n",
              "3     -0.369231    1.0\n",
              "4     -0.276923    1.0\n",
              "5     -0.153846    1.0\n",
              "6     -0.030769    1.0\n",
              "7      0.030769    1.0\n",
              "8      0.123077    1.0\n",
              "9      0.184615    1.0\n",
              "10     0.276923    1.0\n",
              "11     0.369231    1.0\n",
              "12     0.492308    1.0\n",
              "13     0.584615    1.0\n",
              "14     0.738462    1.0\n",
              "15     0.892308    1.0\n",
              "16     1.015385    1.0\n",
              "17     1.138462    1.0\n",
              "18     1.200000    1.0\n",
              "19     1.292308    1.0\n",
              "20    -0.500000    0.0\n",
              "21    -0.500000    0.0\n",
              "22    -0.666667    0.0\n",
              "23    -0.666667    0.0\n",
              "24    -0.666667    0.0\n",
              "25    -0.666667    0.0\n",
              "26    -0.833333    0.0\n",
              "27    -0.833333    0.0\n",
              "28    -0.833333    0.0\n",
              "29    -0.833333    0.0\n",
              "30    -0.833333    0.0\n",
              "31    -0.833333    0.0\n",
              "32    -0.833333    0.0\n",
              "33    -0.666667    0.0\n",
              "34    -0.500000    0.0\n",
              "35    -0.500000    0.0\n",
              "36    -0.500000    0.0\n",
              "37    -0.333333    0.0\n",
              "38    -0.333333    0.0\n",
              "39    -0.333333    0.0\n",
              "40     0.733333    0.0\n",
              "41     0.688889    0.0\n",
              "42     0.644444    0.0\n",
              "43     0.577778    0.0\n",
              "44     0.555556    0.0\n",
              "45     0.533333    0.0\n",
              "46     0.488889    0.0\n",
              "47     0.466667    0.0\n",
              "48     0.444444    0.0\n",
              "49     0.400000    0.0\n",
              "50     0.400000    0.0\n",
              "51     0.400000    0.0\n",
              "52     0.422222    0.0\n",
              "53     0.444444    0.0\n",
              "54     0.488889    0.0\n",
              "55     0.533333    0.0\n",
              "56     0.600000    0.0\n",
              "57     0.666667    0.0\n",
              "58     0.711111    0.0\n",
              "59     0.777778    0.0"
            ]
          },
          "metadata": {},
          "execution_count": 21
        }
      ]
    },
    {
      "cell_type": "code",
      "metadata": {
        "colab": {
          "base_uri": "https://localhost:8080/",
          "height": 0
        },
        "id": "jThJANsLAQm8",
        "outputId": "eec644b4-5edc-4998-999f-a9c71d962182"
      },
      "source": [
        "total1.plot()"
      ],
      "execution_count": 22,
      "outputs": [
        {
          "output_type": "execute_result",
          "data": {
            "text/plain": [
              "<matplotlib.axes._subplots.AxesSubplot at 0x7f28b3f119d0>"
            ]
          },
          "metadata": {},
          "execution_count": 22
        },
        {
          "output_type": "display_data",
          "data": {
            "image/png": "[encoded data removed]",
            "text/plain": [
              "<Figure size 432x288 with 1 Axes>"
            ]
          },
          "metadata": {
            "needs_background": "light"
          }
        }
      ]
    },
    {
      "cell_type": "code",
      "metadata": {
        "colab": {
          "base_uri": "https://localhost:8080/"
        },
        "id": "IXhU118Og7E9",
        "outputId": "5a8f9a89-ccf8-4c54-ed06-4d330e8b4320"
      },
      "source": [
        "total1.shape"
      ],
      "execution_count": 23,
      "outputs": [
        {
          "output_type": "execute_result",
          "data": {
            "text/plain": [
              "(42135, 2)"
            ]
          },
          "metadata": {},
          "execution_count": 23
        }
      ]
    },
    {
      "cell_type": "markdown",
      "metadata": {
        "id": "CgsYAIuwbpwa"
      },
      "source": [
        "## **IF YOU WANT TO ADD SLIDING WINDOWS TO GROUPED DATA**"
      ]
    },
    {
      "cell_type": "markdown",
      "metadata": {
        "id": "D04b4nwcoGng"
      },
      "source": [
        "The more percentage of window_percentage increase window size. As a result of which we're able to see smoother bands as nead and std. dev. was taken on larger set of data."
      ]
    },
    {
      "cell_type": "markdown",
      "metadata": {
        "id": "hEwWW3NiokoV"
      },
      "source": [
        "k is the window size and N is a length of data."
      ]
    },
    {
      "cell_type": "code",
      "metadata": {
        "id": "64PVjtS3cGaO"
      },
      "source": [
        "total_column = total1['Breath data']\n",
        "\n",
        "window_percentage = 30\n",
        "k = int(len(total_column) * (window_percentage/2/100)) # according to the percent %age of window it slides through the data\n",
        "N = len(total_column)\n",
        "get_bands = lambda data : (np.mean(data) + 1.5*np.std(data),np.mean(data) - 1.5*np.std(data))\n",
        "bands = [get_bands(total_column[range(0 if i - k < 0 else i-k ,i + k if i + k < N else N)]) for i in range(0,N)]\n",
        "upper, lower = zip(*bands) # unzips, seperates the list attached lists and is set equal to the variables"
      ],
      "execution_count": 24,
      "outputs": []
    },
    {
      "cell_type": "code",
      "metadata": {
        "id": "kkNx8BdVfRG4"
      },
      "source": [
        "anomalies = (total_column > upper) | (total_column < lower)"
      ],
      "execution_count": 25,
      "outputs": []
    },
    {
      "cell_type": "code",
      "metadata": {
        "colab": {
          "base_uri": "https://localhost:8080/",
          "height": 592
        },
        "id": "zeGbiFAwfd1n",
        "outputId": "55d0894e-ae9c-410e-8327-aa38f2b805c4"
      },
      "source": [
        "N = len(total_column)\n",
        "time = np.arange(0,N)\n",
        "\n",
        "\n",
        "plt.figure(figsize=(20,10))\n",
        "plt.plot(time,total_column,'k',label='Data')\n",
        "plt.plot(time,upper,'r-',label='Bands',alpha=0.3)\n",
        "plt.plot(time,lower,'r-',alpha=0.3)\n",
        "\n",
        "plt.plot(time[anomalies],total_column[anomalies],'ro',label='Anomalies')\n",
        "plt.fill_between(time, upper, lower,facecolor='red',alpha=0.1)\n",
        "plt.legend()\n",
        "\n",
        "plt.show()"
      ],
      "execution_count": 26,
      "outputs": [
        {
          "output_type": "display_data",
          "data": {
            "image/png": "[encoded data removed]",
            "text/plain": [
              "<Figure size 1440x720 with 1 Axes>"
            ]
          },
          "metadata": {
            "needs_background": "light"
          }
        }
      ]
    },
    {
      "cell_type": "code",
      "metadata": {
        "colab": {
          "base_uri": "https://localhost:8080/",
          "height": 419
        },
        "id": "65BwJfc35J7b",
        "outputId": "a11aba79-1137-4138-a8b2-663c4561972d"
      },
      "source": [
        ""
      ],
      "execution_count": 61,
      "outputs": [
        {
          "output_type": "execute_result",
          "data": {
            "text/html": [
              "<div>\n",
              "<style scoped>\n",
              "    .dataframe tbody tr th:only-of-type {\n",
              "        vertical-align: middle;\n",
              "    }\n",
              "\n",
              "    .dataframe tbody tr th {\n",
              "        vertical-align: top;\n",
              "    }\n",
              "\n",
              "    .dataframe thead th {\n",
              "        text-align: right;\n",
              "    }\n",
              "</style>\n",
              "<table border=\"1\" class=\"dataframe\">\n",
              "  <thead>\n",
              "    <tr style=\"text-align: right;\">\n",
              "      <th></th>\n",
              "      <th>Breath data</th>\n",
              "    </tr>\n",
              "  </thead>\n",
              "  <tbody>\n",
              "    <tr>\n",
              "      <th>0</th>\n",
              "      <td>False</td>\n",
              "    </tr>\n",
              "    <tr>\n",
              "      <th>1</th>\n",
              "      <td>False</td>\n",
              "    </tr>\n",
              "    <tr>\n",
              "      <th>2</th>\n",
              "      <td>False</td>\n",
              "    </tr>\n",
              "    <tr>\n",
              "      <th>3</th>\n",
              "      <td>False</td>\n",
              "    </tr>\n",
              "    <tr>\n",
              "      <th>4</th>\n",
              "      <td>False</td>\n",
              "    </tr>\n",
              "    <tr>\n",
              "      <th>...</th>\n",
              "      <td>...</td>\n",
              "    </tr>\n",
              "    <tr>\n",
              "      <th>42130</th>\n",
              "      <td>False</td>\n",
              "    </tr>\n",
              "    <tr>\n",
              "      <th>42131</th>\n",
              "      <td>False</td>\n",
              "    </tr>\n",
              "    <tr>\n",
              "      <th>42132</th>\n",
              "      <td>False</td>\n",
              "    </tr>\n",
              "    <tr>\n",
              "      <th>42133</th>\n",
              "      <td>False</td>\n",
              "    </tr>\n",
              "    <tr>\n",
              "      <th>42134</th>\n",
              "      <td>False</td>\n",
              "    </tr>\n",
              "  </tbody>\n",
              "</table>\n",
              "<p>42135 rows × 1 columns</p>\n",
              "</div>"
            ],
            "text/plain": [
              "       Breath data\n",
              "0            False\n",
              "1            False\n",
              "2            False\n",
              "3            False\n",
              "4            False\n",
              "...            ...\n",
              "42130        False\n",
              "42131        False\n",
              "42132        False\n",
              "42133        False\n",
              "42134        False\n",
              "\n",
              "[42135 rows x 1 columns]"
            ]
          },
          "metadata": {},
          "execution_count": 61
        }
      ]
    },
    {
      "cell_type": "code",
      "metadata": {
        "id": "3YDtwRNIgrxM"
      },
      "source": [
        "anomalies = pd.DataFrame(anomalies)"
      ],
      "execution_count": 27,
      "outputs": []
    },
    {
      "cell_type": "markdown",
      "metadata": {
        "id": "9qCukbzS5fQB"
      },
      "source": [
        "NOW PUTTING THE ANOMALIES FROM \"**TRUE**\" & \"**FALSE**\" TO \"**NOT NORMAL**\" & \"**NORMAL**\" INTO THE TOTAL DATAFRAME LABEL AND **LABELENCODING** THEM."
      ]
    },
    {
      "cell_type": "code",
      "metadata": {
        "id": "fkWAxZGkg4Yj"
      },
      "source": [
        "Label = []\n",
        "for i in range(len(anomalies)):\n",
        "  if anomalies['Breath data'][i] == False:\n",
        "    Label.append('Normal')\n",
        "  else:\n",
        "    Label.append('Not Normal')"
      ],
      "execution_count": 28,
      "outputs": []
    },
    {
      "cell_type": "code",
      "metadata": {
        "id": "rLXC12bNhapY"
      },
      "source": [
        "Label = pd.DataFrame(Label)"
      ],
      "execution_count": 29,
      "outputs": []
    },
    {
      "cell_type": "code",
      "metadata": {
        "id": "McVRmyK4g9LS"
      },
      "source": [
        "total1['Label'] = Label"
      ],
      "execution_count": 30,
      "outputs": []
    },
    {
      "cell_type": "markdown",
      "metadata": {
        "id": "4LxYBxPWAORH"
      },
      "source": [
        "SHOWING THE SIZE OF EACH LABEL"
      ]
    },
    {
      "cell_type": "code",
      "metadata": {
        "colab": {
          "base_uri": "https://localhost:8080/"
        },
        "id": "5Ko_glRG_vLf",
        "outputId": "15814cb8-27b2-4388-deb6-4b86bfa10860"
      },
      "source": [
        "total1.groupby('Label').size()"
      ],
      "execution_count": 69,
      "outputs": [
        {
          "output_type": "execute_result",
          "data": {
            "text/plain": [
              "Label\n",
              "0    37711\n",
              "1     4424\n",
              "dtype: int64"
            ]
          },
          "metadata": {},
          "execution_count": 69
        }
      ]
    },
    {
      "cell_type": "code",
      "metadata": {
        "id": "Dz45fRYMhh9C"
      },
      "source": [
        "from sklearn.preprocessing import LabelEncoder\n",
        "le = LabelEncoder() # make an object of the class\n",
        "total1['Label'] = le.fit_transform(total1['Label']) # replace the class with transformed column"
      ],
      "execution_count": 31,
      "outputs": []
    },
    {
      "cell_type": "code",
      "metadata": {
        "colab": {
          "base_uri": "https://localhost:8080/"
        },
        "id": "Wzco8ESdhr8M",
        "outputId": "03bbeb8c-7822-47e8-82c2-76090fb0e8f5"
      },
      "source": [
        "total1['Label'].unique()"
      ],
      "execution_count": 32,
      "outputs": [
        {
          "output_type": "execute_result",
          "data": {
            "text/plain": [
              "array([0, 1])"
            ]
          },
          "metadata": {},
          "execution_count": 32
        }
      ]
    },
    {
      "cell_type": "code",
      "metadata": {
        "id": "9tUzK05hhx8j"
      },
      "source": [
        "# NORMAL = 0\n",
        "# NOT NORMAL = 1"
      ],
      "execution_count": 33,
      "outputs": []
    },
    {
      "cell_type": "markdown",
      "metadata": {
        "id": "IkMqVnFLb_uB"
      },
      "source": [
        "# CONTINUE USING SHUFFLED GROUP DATASET TO MODEL"
      ]
    },
    {
      "cell_type": "code",
      "metadata": {
        "id": "cXVnwdMsBbnC"
      },
      "source": [
        "x1 = total1['Breath data']\n",
        "y1 = total1['Label']\n",
        "\n",
        "X = x1.values.reshape(x1.shape[0],1, 1)\n",
        "\n",
        "y = np.asarray(y1).reshape((-1,1))"
      ],
      "execution_count": 38,
      "outputs": []
    },
    {
      "cell_type": "code",
      "metadata": {
        "colab": {
          "base_uri": "https://localhost:8080/"
        },
        "id": "EmLYIQ06EeR6",
        "outputId": "5063b382-daed-420c-e07e-75c3cad96fd4"
      },
      "source": [
        "X.shape"
      ],
      "execution_count": 39,
      "outputs": [
        {
          "output_type": "execute_result",
          "data": {
            "text/plain": [
              "(42135, 1, 1)"
            ]
          },
          "metadata": {},
          "execution_count": 39
        }
      ]
    },
    {
      "cell_type": "code",
      "metadata": {
        "colab": {
          "base_uri": "https://localhost:8080/"
        },
        "id": "H1xH9FHlFGjv",
        "outputId": "282f4a35-f351-4948-c165-05cb889cabc1"
      },
      "source": [
        "y.shape"
      ],
      "execution_count": 40,
      "outputs": [
        {
          "output_type": "execute_result",
          "data": {
            "text/plain": [
              "(42135, 1)"
            ]
          },
          "metadata": {},
          "execution_count": 40
        }
      ]
    },
    {
      "cell_type": "code",
      "metadata": {
        "id": "uSusn_xNA2BK"
      },
      "source": [
        "from sklearn.model_selection import train_test_split\n",
        "# split into train test sets\n",
        "X_train, X_test, y_train, y_test = train_test_split(X, y, test_size=0.20, shuffle=False)"
      ],
      "execution_count": 41,
      "outputs": []
    },
    {
      "cell_type": "code",
      "metadata": {
        "colab": {
          "base_uri": "https://localhost:8080/"
        },
        "id": "8cSU1fQXFJuH",
        "outputId": "1947d6b8-2f5f-46a8-9310-afe9241e28e7"
      },
      "source": [
        "X_train.shape"
      ],
      "execution_count": 42,
      "outputs": [
        {
          "output_type": "execute_result",
          "data": {
            "text/plain": [
              "(33708, 1, 1)"
            ]
          },
          "metadata": {},
          "execution_count": 42
        }
      ]
    },
    {
      "cell_type": "code",
      "metadata": {
        "colab": {
          "base_uri": "https://localhost:8080/"
        },
        "id": "mS9qPV-dFNC6",
        "outputId": "13513ab6-ad14-408b-d74a-a5b398d25864"
      },
      "source": [
        "y_test.shape"
      ],
      "execution_count": 43,
      "outputs": [
        {
          "output_type": "execute_result",
          "data": {
            "text/plain": [
              "(8427, 1)"
            ]
          },
          "metadata": {},
          "execution_count": 43
        }
      ]
    },
    {
      "cell_type": "markdown",
      "metadata": {
        "id": "6yTX97__Et06"
      },
      "source": [
        "# CREME LIVE STREAM MODEL"
      ]
    },
    {
      "cell_type": "code",
      "metadata": {
        "id": "AjZR2FjFL-DV"
      },
      "source": [
        "total.to_csv('stream.csv')"
      ],
      "execution_count": null,
      "outputs": []
    },
    {
      "cell_type": "code",
      "metadata": {
        "id": "Xb-UPSWvEvVQ"
      },
      "source": [
        "pip install creme"
      ],
      "execution_count": null,
      "outputs": []
    },
    {
      "cell_type": "code",
      "metadata": {
        "id": "Kct7TYeFE9Sx"
      },
      "source": [
        "from creme import compose\n",
        "from creme import linear_model\n",
        "from creme import metrics\n",
        "from creme import preprocessing\n",
        "from creme import stream\n",
        "from creme import linear_model\n",
        "\n",
        "X_y = stream.iter_csv('stream.csv')\n",
        "\n",
        "metric = metrics.Accuracy()\n",
        "\n",
        "model = linear_model.LogisticRegression()\n",
        "for x, y in X_y:\n",
        "  # y_pred = model.predict_one(x)      # make a prediction\n",
        "  # metric = metric.update(y, y_pred)  # update the metric\n",
        "  model = model.fit_one(x, y) "
      ],
      "execution_count": null,
      "outputs": []
    },
    {
      "cell_type": "markdown",
      "metadata": {
        "id": "Dv9s7kOp9zgk"
      },
      "source": [
        "# FOR PEAK TOTAL2"
      ]
    },
    {
      "cell_type": "code",
      "metadata": {
        "id": "nOK9BUce-LLz"
      },
      "source": [
        "total2"
      ],
      "execution_count": null,
      "outputs": []
    },
    {
      "cell_type": "code",
      "metadata": {
        "id": "QC0WRWmz-hDr"
      },
      "source": [
        "test = []\n",
        "test = pd.DataFrame(test)\n",
        "\n",
        "val = []\n",
        "val = pd.DataFrame(val)\n",
        "\n",
        "train = []\n",
        "train = pd.DataFrame(train)"
      ],
      "execution_count": null,
      "outputs": []
    },
    {
      "cell_type": "code",
      "metadata": {
        "id": "mCkA5Jma9r1l"
      },
      "source": [
        "for i in range(len(total2)):\n",
        "    if i% 10 ==0:\n",
        "        k = total2.loc[[i]] # extracting rows from dataframe to another\n",
        "        test = pd.concat([test, k]) # concat joins the dataframes, here row of dataframe is added one by one to empty train dataset\n",
        "              \n",
        "    elif i% 15 == 0:\n",
        "        v = total2.loc[[i]]\n",
        "        val = pd.concat([val,v])\n",
        "    else:\n",
        "        p = total2.loc[[i]]\n",
        "        train = pd.concat([train, p])"
      ],
      "execution_count": null,
      "outputs": []
    },
    {
      "cell_type": "code",
      "metadata": {
        "colab": {
          "base_uri": "https://localhost:8080/"
        },
        "id": "qQ2J93FnKjZM",
        "outputId": "70e09b61-3db4-4d8b-f8c7-626d42eee0cd"
      },
      "source": [
        "test.shape"
      ],
      "execution_count": null,
      "outputs": [
        {
          "output_type": "execute_result",
          "data": {
            "text/plain": [
              "(54, 2)"
            ]
          },
          "metadata": {
            "tags": []
          },
          "execution_count": 400
        }
      ]
    },
    {
      "cell_type": "code",
      "metadata": {
        "colab": {
          "base_uri": "https://localhost:8080/"
        },
        "id": "hNp-NvX3UhFm",
        "outputId": "ce0a5298-36d5-411e-f771-9dd247305221"
      },
      "source": [
        "val.shape"
      ],
      "execution_count": null,
      "outputs": [
        {
          "output_type": "execute_result",
          "data": {
            "text/plain": [
              "(18, 2)"
            ]
          },
          "metadata": {
            "tags": []
          },
          "execution_count": 401
        }
      ]
    },
    {
      "cell_type": "code",
      "metadata": {
        "colab": {
          "base_uri": "https://localhost:8080/"
        },
        "id": "FsrnFZig-jrj",
        "outputId": "29469e56-cd0b-4553-b4c0-c41c28ebc7d6"
      },
      "source": [
        "train.shape"
      ],
      "execution_count": null,
      "outputs": [
        {
          "output_type": "execute_result",
          "data": {
            "text/plain": [
              "(460, 2)"
            ]
          },
          "metadata": {
            "tags": []
          },
          "execution_count": 402
        }
      ]
    },
    {
      "cell_type": "markdown",
      "metadata": {
        "id": "ZLozjmz5RyMU"
      },
      "source": [
        "TRAIN & TEST DATASETS MADE FROM TOTAL DATASET."
      ]
    },
    {
      "cell_type": "code",
      "metadata": {
        "colab": {
          "base_uri": "https://localhost:8080/"
        },
        "id": "-vUZp2zNmCFS",
        "outputId": "894bc79d-f16d-4c1a-cc18-904d921b2d4b"
      },
      "source": [
        "train['Label'].unique()"
      ],
      "execution_count": null,
      "outputs": [
        {
          "output_type": "execute_result",
          "data": {
            "text/plain": [
              "array([0, 1])"
            ]
          },
          "metadata": {
            "tags": []
          },
          "execution_count": 110
        }
      ]
    },
    {
      "cell_type": "code",
      "metadata": {
        "colab": {
          "base_uri": "https://localhost:8080/"
        },
        "id": "14oNRWjjufEM",
        "outputId": "07ee5e3a-9825-45be-854f-146d83096ac9"
      },
      "source": [
        "len(train)"
      ],
      "execution_count": null,
      "outputs": [
        {
          "output_type": "execute_result",
          "data": {
            "text/plain": [
              "461"
            ]
          },
          "metadata": {
            "tags": []
          },
          "execution_count": 111
        }
      ]
    },
    {
      "cell_type": "code",
      "metadata": {
        "colab": {
          "base_uri": "https://localhost:8080/",
          "height": 419
        },
        "id": "_PKKLZGd-9pu",
        "outputId": "fddc74be-682c-42bf-dacf-76db9309040d"
      },
      "source": [
        "total2"
      ],
      "execution_count": null,
      "outputs": [
        {
          "output_type": "execute_result",
          "data": {
            "text/html": [
              "<div>\n",
              "<style scoped>\n",
              "    .dataframe tbody tr th:only-of-type {\n",
              "        vertical-align: middle;\n",
              "    }\n",
              "\n",
              "    .dataframe tbody tr th {\n",
              "        vertical-align: top;\n",
              "    }\n",
              "\n",
              "    .dataframe thead th {\n",
              "        text-align: right;\n",
              "    }\n",
              "</style>\n",
              "<table border=\"1\" class=\"dataframe\">\n",
              "  <thead>\n",
              "    <tr style=\"text-align: right;\">\n",
              "      <th></th>\n",
              "      <th>peaks</th>\n",
              "      <th>Label</th>\n",
              "    </tr>\n",
              "  </thead>\n",
              "  <tbody>\n",
              "    <tr>\n",
              "      <th>0</th>\n",
              "      <td>1.132743</td>\n",
              "      <td>0</td>\n",
              "    </tr>\n",
              "    <tr>\n",
              "      <th>1</th>\n",
              "      <td>1.132743</td>\n",
              "      <td>0</td>\n",
              "    </tr>\n",
              "    <tr>\n",
              "      <th>2</th>\n",
              "      <td>1.415929</td>\n",
              "      <td>0</td>\n",
              "    </tr>\n",
              "    <tr>\n",
              "      <th>3</th>\n",
              "      <td>1.026549</td>\n",
              "      <td>0</td>\n",
              "    </tr>\n",
              "    <tr>\n",
              "      <th>4</th>\n",
              "      <td>1.380531</td>\n",
              "      <td>0</td>\n",
              "    </tr>\n",
              "    <tr>\n",
              "      <th>...</th>\n",
              "      <td>...</td>\n",
              "      <td>...</td>\n",
              "    </tr>\n",
              "    <tr>\n",
              "      <th>528</th>\n",
              "      <td>0.406780</td>\n",
              "      <td>1</td>\n",
              "    </tr>\n",
              "    <tr>\n",
              "      <th>529</th>\n",
              "      <td>0.745763</td>\n",
              "      <td>1</td>\n",
              "    </tr>\n",
              "    <tr>\n",
              "      <th>530</th>\n",
              "      <td>0.677966</td>\n",
              "      <td>1</td>\n",
              "    </tr>\n",
              "    <tr>\n",
              "      <th>531</th>\n",
              "      <td>1.355932</td>\n",
              "      <td>1</td>\n",
              "    </tr>\n",
              "    <tr>\n",
              "      <th>532</th>\n",
              "      <td>0.745763</td>\n",
              "      <td>1</td>\n",
              "    </tr>\n",
              "  </tbody>\n",
              "</table>\n",
              "<p>533 rows × 2 columns</p>\n",
              "</div>"
            ],
            "text/plain": [
              "        peaks  Label\n",
              "0    1.132743      0\n",
              "1    1.132743      0\n",
              "2    1.415929      0\n",
              "3    1.026549      0\n",
              "4    1.380531      0\n",
              "..        ...    ...\n",
              "528  0.406780      1\n",
              "529  0.745763      1\n",
              "530  0.677966      1\n",
              "531  1.355932      1\n",
              "532  0.745763      1\n",
              "\n",
              "[533 rows x 2 columns]"
            ]
          },
          "metadata": {
            "tags": []
          },
          "execution_count": 113
        }
      ]
    },
    {
      "cell_type": "markdown",
      "metadata": {
        "id": "ewWKKFVP-tb6"
      },
      "source": [
        "FOR BINARY PEAKS  TOTAL2 "
      ]
    },
    {
      "cell_type": "code",
      "metadata": {
        "id": "8XhEF9Xf-t6U"
      },
      "source": [
        "x_train = train['peaks']\n",
        "y_train = train['Label']\n",
        "\n",
        "x_val = val['peaks']\n",
        "y_val = val['Label']\n",
        "\n",
        "x_test = test['peaks']\n",
        "y_test = test['Label']"
      ],
      "execution_count": null,
      "outputs": []
    },
    {
      "cell_type": "markdown",
      "metadata": {
        "id": "FKZFh-Np-10d"
      },
      "source": [
        "# NOT for SHUFFLED / GROUPED DATA\n",
        "\n",
        "# FOR BINARY ( NON PEAK ) or 3-Class PEAKS ( TOTAL )\n",
        "\n",
        "\n",
        "\n",
        "\n"
      ]
    },
    {
      "cell_type": "code",
      "metadata": {
        "id": "WNfmLmoHvi0Q"
      },
      "source": [
        "x_train = train['Breath data']\n",
        "y_train = train['Label']\n",
        "\n",
        "x_val = val['Breath data']\n",
        "y_val = val['Label']\n",
        "\n",
        "x_test = test['Breath data']\n",
        "y_test = test['Label']"
      ],
      "execution_count": null,
      "outputs": []
    },
    {
      "cell_type": "code",
      "metadata": {
        "colab": {
          "base_uri": "https://localhost:8080/"
        },
        "id": "fyr0PGcNxs87",
        "outputId": "9a4d5a54-b243-47ed-b81d-bf7319789dc3"
      },
      "source": [
        "q = x_train.values.reshape(x_train.shape[0],1, 1) # ( no. of items or 1 batch = whole dataset | no. of features = 1 | columns = 1 )\n",
        "\n",
        "X_val = x_val.values.reshape(x_val.shape[0],1, 1) # ( no. of items or 1 batch = whole dataset | no. of features = 1 | columns = 1 )\n",
        "\n",
        "t = x_test.values.reshape(x_test.shape[0],1, 1) # ( no. of items or 1 batch = whole dataset | no. of features = 1 | columns = 1 )\n",
        "t.shape"
      ],
      "execution_count": 162,
      "outputs": [
        {
          "output_type": "execute_result",
          "data": {
            "text/plain": [
              "(2809, 1, 1)"
            ]
          },
          "metadata": {},
          "execution_count": 162
        }
      ]
    },
    {
      "cell_type": "code",
      "metadata": {
        "colab": {
          "base_uri": "https://localhost:8080/"
        },
        "id": "gRcVgd36Ix7h",
        "outputId": "95315343-4aa2-4913-c522-5ea9ab31b588"
      },
      "source": [
        "q.shape"
      ],
      "execution_count": 163,
      "outputs": [
        {
          "output_type": "execute_result",
          "data": {
            "text/plain": [
              "(36517, 1, 1)"
            ]
          },
          "metadata": {},
          "execution_count": 163
        }
      ]
    },
    {
      "cell_type": "markdown",
      "metadata": {
        "id": "dTV8nSPdNc9r"
      },
      "source": [
        "You should reshape your labels as 2d-tensor (the first dimension will be the batch dimension and the second the scalar label):"
      ]
    },
    {
      "cell_type": "code",
      "metadata": {
        "id": "L5XSyh0LMv57"
      },
      "source": [
        "Y_train = np.asarray(y_train).reshape((-1,1))\n",
        "Y_val = np.asarray(y_val).reshape((-1,1))\n",
        "Y_test = np.asarray(y_test).reshape((-1,1))"
      ],
      "execution_count": 164,
      "outputs": []
    },
    {
      "cell_type": "code",
      "metadata": {
        "colab": {
          "base_uri": "https://localhost:8080/"
        },
        "id": "SdqoRjwSw8j5",
        "outputId": "e40c7e11-3174-4751-af8a-89c9c1e4e48e"
      },
      "source": [
        "Y_train"
      ],
      "execution_count": 165,
      "outputs": [
        {
          "output_type": "execute_result",
          "data": {
            "text/plain": [
              "array([[0],\n",
              "       [0],\n",
              "       [0],\n",
              "       ...,\n",
              "       [0],\n",
              "       [0],\n",
              "       [0]])"
            ]
          },
          "metadata": {},
          "execution_count": 165
        }
      ]
    },
    {
      "cell_type": "code",
      "metadata": {
        "colab": {
          "base_uri": "https://localhost:8080/"
        },
        "id": "YpvvpvYsNSPo",
        "outputId": "01d5732d-9ac2-4b36-840d-7bce7e98ead2"
      },
      "source": [
        "Y_train.shape"
      ],
      "execution_count": 166,
      "outputs": [
        {
          "output_type": "execute_result",
          "data": {
            "text/plain": [
              "(36517, 1)"
            ]
          },
          "metadata": {},
          "execution_count": 166
        }
      ]
    },
    {
      "cell_type": "markdown",
      "metadata": {
        "id": "flAAL_2guVpO"
      },
      "source": [
        "1. ***Random Under-Sampling:***\n",
        "Undersampling can be defined as removing some observations of the majority class. This is done until the majority and minority class is balanced out.\n",
        "\n",
        "2. ***Random Over-Sampling:***\n",
        "Oversampling can be defined as adding more copies to the minority class. Oversampling can be a good choice when you don’t have a ton of data to work with."
      ]
    },
    {
      "cell_type": "markdown",
      "metadata": {
        "id": "uAVNRUI5oQPs"
      },
      "source": [
        "# Model 1"
      ]
    },
    {
      "cell_type": "code",
      "metadata": {
        "id": "I5oaofJgG7Kr"
      },
      "source": [
        "model = Sequential()\n",
        "model.add(Conv1D(64, 1, activation=\"relu\", input_shape=(1,1))) # 64 neurons, kernel size = 1 | input_shape = ( 1 feature, 1 column )\n",
        "model.add(Dense(16, activation=\"relu\")) # 16 neurons\n",
        "model.add(MaxPooling1D(padding='same')) # Used maxpooling to choose max values from the kernel.\n",
        "\n",
        "# padding = 'same' instead of default 'valid' as our feature didnt have enough space around it for kernel to filter as feature is only 1.\n",
        "\n",
        "model.add(Flatten()) \n",
        "\n",
        "# We'll add Dense, MaxPooling1D, and Flatten layers into the model. The output layer contains the number of output classes and 'softmax' activation.\n",
        "\n",
        "model.add(Dense(3, activation = 'softmax')) # we need 3 outputs, so we put 3 neurons\n",
        "model.compile(loss = 'sparse_categorical_crossentropy', optimizer = \"adam\", metrics = ['accuracy'])\n",
        "model.summary()"
      ],
      "execution_count": null,
      "outputs": []
    },
    {
      "cell_type": "markdown",
      "metadata": {
        "id": "261V0_PnLeEJ"
      },
      "source": [
        "# ***Model 2***"
      ]
    },
    {
      "cell_type": "code",
      "metadata": {
        "id": "8czHCYgowvNi"
      },
      "source": [
        "from keras.models import Sequential\n",
        "from keras.layers import Dense, Conv1D, Flatten, MaxPooling1D\n",
        "from sklearn.model_selection import train_test_split\n",
        "from sklearn.metrics import confusion_matrix\n",
        "from sklearn.datasets import load_iris\n",
        "from numpy import unique\n",
        "from keras.layers.wrappers import TimeDistributed\n",
        "from keras.layers import Dense,LSTM"
      ],
      "execution_count": 44,
      "outputs": []
    },
    {
      "cell_type": "code",
      "metadata": {
        "colab": {
          "base_uri": "https://localhost:8080/"
        },
        "id": "ERS-h88sofCr",
        "outputId": "33897fcc-38cd-49d2-f4a9-8cad5cf6afe3"
      },
      "source": [
        "import keras\n",
        "from keras.layers import Dense\n",
        "from keras.regularizers import l2\n",
        "from keras.layers import Activation, Dense, Dropout # importing dropout layer\n",
        "from keras.layers import BatchNormalization\n",
        "\n",
        "keras.regularizers.l1(0.01)\n",
        "keras.regularizers.l2(0.01)\n",
        "keras.regularizers.l1_l2(l1=0.01, l2=0.01)\n"
      ],
      "execution_count": 45,
      "outputs": [
        {
          "output_type": "execute_result",
          "data": {
            "text/plain": [
              "<keras.regularizers.L1L2 at 0x7f286a6156d0>"
            ]
          },
          "metadata": {},
          "execution_count": 45
        }
      ]
    },
    {
      "cell_type": "markdown",
      "metadata": {
        "id": "iYlU2YFPpGxA"
      },
      "source": [
        "Like the Dense layer, the Convolutional layers (e.g. Conv1D and Conv2D) also use the kernel_regularizer and bias_regularizer arguments to define a regularizer.\n",
        "\n",
        "The example below sets an l2 regularizer on a Conv2D convolutional layer:"
      ]
    },
    {
      "cell_type": "code",
      "metadata": {
        "id": "vlFQ0htG8ZP_"
      },
      "source": [
        "from tensorflow.keras.optimizers import SGD\n",
        "# opt = SGD(learning_rate=0.01)\n",
        "sgd = SGD(learning_rate=0.01, decay=1e-6, momentum=0.9, nesterov=True) # 10E-2"
      ],
      "execution_count": 47,
      "outputs": []
    },
    {
      "cell_type": "code",
      "metadata": {
        "colab": {
          "base_uri": "https://localhost:8080/"
        },
        "id": "s3wQTjSMxI06",
        "outputId": "d18f88f4-3c21-497d-dac1-f42a5c3b7c88"
      },
      "source": [
        "model = Sequential()\n",
        "model.add(Conv1D(filters = 64, kernel_size=3,padding = 'same' ,activation='relu', input_shape=(1,1)))\n",
        "model.add(MaxPooling1D(pool_size=2, padding='same'))\n",
        "model.add(Conv1D(filters=32, kernel_size=3, padding  = 'same' ,activation='relu', kernel_regularizer=l2(0.1), bias_regularizer=l2(0.1)))\n",
        "model.add((MaxPooling1D(pool_size=2, padding='same')))\n",
        "model.add(Conv1D(filters=12, kernel_size=3, padding  = 'same' ,activation='relu', kernel_regularizer=l2(0.1), bias_regularizer=l2(0.1)))\n",
        "model.add(Flatten())\n",
        "# Regularisers are penalties applied on bias and kernel to optimise them.\n",
        "# model.add((MaxPooling1D(pool_size=2, padding='same')))\n",
        "# model.add(Flatten())\n",
        "model.add(Dense(200, activation='relu'))\n",
        "model.add(Dropout(0.10)) # 10% of neurons being removed\n",
        "model.add(Dense(2, activation='sigmoid')) # 3 for three category prediction, 2 for binary classification\n",
        "model.compile(loss='sparse_categorical_crossentropy', optimizer= 'adam', metrics=['accuracy']) # metrics=['accuracy']\n",
        "model.summary()"
      ],
      "execution_count": 52,
      "outputs": [
        {
          "output_type": "stream",
          "text": [
            "Model: \"sequential_3\"\n",
            "_________________________________________________________________\n",
            "Layer (type)                 Output Shape              Param #   \n",
            "=================================================================\n",
            "conv1d_9 (Conv1D)            (None, 1, 64)             256       \n",
            "_________________________________________________________________\n",
            "max_pooling1d_6 (MaxPooling1 (None, 1, 64)             0         \n",
            "_________________________________________________________________\n",
            "conv1d_10 (Conv1D)           (None, 1, 32)             6176      \n",
            "_________________________________________________________________\n",
            "max_pooling1d_7 (MaxPooling1 (None, 1, 32)             0         \n",
            "_________________________________________________________________\n",
            "conv1d_11 (Conv1D)           (None, 1, 12)             1164      \n",
            "_________________________________________________________________\n",
            "flatten_3 (Flatten)          (None, 12)                0         \n",
            "_________________________________________________________________\n",
            "dense_6 (Dense)              (None, 200)               2600      \n",
            "_________________________________________________________________\n",
            "dropout_2 (Dropout)          (None, 200)               0         \n",
            "_________________________________________________________________\n",
            "dense_7 (Dense)              (None, 2)                 402       \n",
            "=================================================================\n",
            "Total params: 10,598\n",
            "Trainable params: 10,598\n",
            "Non-trainable params: 0\n",
            "_________________________________________________________________\n"
          ],
          "name": "stdout"
        }
      ]
    },
    {
      "cell_type": "code",
      "metadata": {
        "id": "Ib7059kGNYyt"
      },
      "source": [
        "# modelfeatured1 = model.Model(\n",
        "    # inputs=model1.input,\n",
        "    # outputs=model1.get_layer('dense').output)"
      ],
      "execution_count": null,
      "outputs": []
    },
    {
      "cell_type": "code",
      "metadata": {
        "id": "wbuj7OoyLu9E"
      },
      "source": [
        "# model.build(input_shape = (40028,1))\n",
        "# model = Sequential()\n",
        "# model.add(TimeDistributed(cnn))\n",
        "# model.add(LSTM(32, input_shape=(1,1))) # , return_sequences=True)"
      ],
      "execution_count": null,
      "outputs": []
    },
    {
      "cell_type": "markdown",
      "metadata": {
        "id": "zRf6NbfdLi-s"
      },
      "source": [
        "# Model 3"
      ]
    },
    {
      "cell_type": "markdown",
      "metadata": {
        "id": "gSnU0WucU_Mu"
      },
      "source": [
        "***input_shape (120, 3)***, represents 120 time-steps with 3 data points in each time step"
      ]
    },
    {
      "cell_type": "code",
      "metadata": {
        "id": "5VsQIb1mLk6_",
        "colab": {
          "base_uri": "https://localhost:8080/"
        },
        "outputId": "e50a5201-d226-4a94-92d1-8393f8abf4e1"
      },
      "source": [
        "model = Sequential()\n",
        "model.add(Conv1D(filters=10, kernel_size=100,padding = 'same' ,activation='relu', input_shape=(1,1)))\n",
        "model.add(MaxPooling1D(pool_size=2, padding='same'))\n",
        "model.add(Conv1D(filters=5, kernel_size=100, padding  = 'same' ,activation='relu'))\n",
        "model.add(MaxPooling1D(pool_size=2, padding='same'))\n",
        "model.add(Conv1D(filters=5, kernel_size=64,padding = 'same' ,activation='relu', input_shape=(1,1)))\n",
        "model.add(MaxPooling1D(pool_size=2, padding='same'))\n",
        "model.add(Conv1D(filters=5, kernel_size=64, padding  = 'same' ,activation='relu'))\n",
        "model.add(MaxPooling1D(pool_size=2, padding='same'))\n",
        "model.add(Conv1D(filters=5, kernel_size=64, padding  = 'same' ,activation='relu'))\n",
        "model.add(MaxPooling1D(pool_size=2, padding='same'))\n",
        "model.add(Flatten())\n",
        "model.add(Dense(50, activation='relu'))\n",
        "model.add(Dense(3, activation='relu'))\n",
        "model.compile(loss='binary_crossentropy', optimizer='adam', metrics=['accuracy'])\n",
        "model.summary()"
      ],
      "execution_count": null,
      "outputs": [
        {
          "output_type": "stream",
          "text": [
            "Model: \"sequential_2\"\n",
            "_________________________________________________________________\n",
            "Layer (type)                 Output Shape              Param #   \n",
            "=================================================================\n",
            "conv1d_8 (Conv1D)            (None, 1, 10)             1010      \n",
            "_________________________________________________________________\n",
            "max_pooling1d_8 (MaxPooling1 (None, 1, 10)             0         \n",
            "_________________________________________________________________\n",
            "conv1d_9 (Conv1D)            (None, 1, 5)              5005      \n",
            "_________________________________________________________________\n",
            "max_pooling1d_9 (MaxPooling1 (None, 1, 5)              0         \n",
            "_________________________________________________________________\n",
            "conv1d_10 (Conv1D)           (None, 1, 5)              1605      \n",
            "_________________________________________________________________\n",
            "max_pooling1d_10 (MaxPooling (None, 1, 5)              0         \n",
            "_________________________________________________________________\n",
            "conv1d_11 (Conv1D)           (None, 1, 5)              1605      \n",
            "_________________________________________________________________\n",
            "max_pooling1d_11 (MaxPooling (None, 1, 5)              0         \n",
            "_________________________________________________________________\n",
            "conv1d_12 (Conv1D)           (None, 1, 5)              1605      \n",
            "_________________________________________________________________\n",
            "max_pooling1d_12 (MaxPooling (None, 1, 5)              0         \n",
            "_________________________________________________________________\n",
            "flatten_2 (Flatten)          (None, 5)                 0         \n",
            "_________________________________________________________________\n",
            "dense_4 (Dense)              (None, 50)                300       \n",
            "_________________________________________________________________\n",
            "dense_5 (Dense)              (None, 3)                 153       \n",
            "=================================================================\n",
            "Total params: 11,283\n",
            "Trainable params: 11,283\n",
            "Non-trainable params: 0\n",
            "_________________________________________________________________\n"
          ],
          "name": "stdout"
        }
      ]
    },
    {
      "cell_type": "markdown",
      "metadata": {
        "id": "r6Vn5BQUoa5G"
      },
      "source": [
        "#  Prediction"
      ]
    },
    {
      "cell_type": "markdown",
      "metadata": {
        "id": "iUCeddPexYuC"
      },
      "source": [
        "# Using Class weights"
      ]
    },
    {
      "cell_type": "code",
      "metadata": {
        "id": "CFSHq3sA4mCr"
      },
      "source": [
        "Y = total['Label']"
      ],
      "execution_count": null,
      "outputs": []
    },
    {
      "cell_type": "code",
      "metadata": {
        "id": "do1RCkEi2RFk"
      },
      "source": [
        "class_weights = class_weight.compute_class_weight('balanced', np.unique(np.ravel( Y ,order='C')), np.ravel(Y ,order='C'))"
      ],
      "execution_count": null,
      "outputs": []
    },
    {
      "cell_type": "code",
      "metadata": {
        "colab": {
          "base_uri": "https://localhost:8080/"
        },
        "id": "I9kET8-e2b2G",
        "outputId": "e80a74b6-106e-4736-8b85-4410dcc2320d"
      },
      "source": [
        "class_weights"
      ],
      "execution_count": null,
      "outputs": [
        {
          "output_type": "execute_result",
          "data": {
            "text/plain": [
              "array([1.42985612, 0.7688588 ])"
            ]
          },
          "metadata": {},
          "execution_count": 233
        }
      ]
    },
    {
      "cell_type": "code",
      "metadata": {
        "id": "CxW50e_B4RW1"
      },
      "source": [
        "class_weight_dict = dict(enumerate(class_weights)) # CLASS WEIGHTS NEED TO BE FED AS DICTIONARY"
      ],
      "execution_count": null,
      "outputs": []
    },
    {
      "cell_type": "code",
      "metadata": {
        "colab": {
          "base_uri": "https://localhost:8080/"
        },
        "id": "gnxkf9GK4gVa",
        "outputId": "5f394b98-261b-47c2-c71e-5cd6809e8910"
      },
      "source": [
        "class_weight_dict"
      ],
      "execution_count": null,
      "outputs": [
        {
          "output_type": "execute_result",
          "data": {
            "text/plain": [
              "{0: 1.4298561151079137, 1: 0.7688588007736944}"
            ]
          },
          "metadata": {},
          "execution_count": 235
        }
      ]
    },
    {
      "cell_type": "markdown",
      "metadata": {
        "id": "DBSFEM1W5NVf"
      },
      "source": [
        "# **MODEL**"
      ]
    },
    {
      "cell_type": "code",
      "metadata": {
        "id": "fVR-ygWvxP2F",
        "colab": {
          "base_uri": "https://localhost:8080/"
        },
        "outputId": "2573b3fe-bb38-44b0-f009-b68654ce7559"
      },
      "source": [
        "# Ungrouped, Unshuffled Data\n",
        "# history = model.fit(q, Y_train, batch_size = 100, epochs= 20, verbose=1, validation_data = (X_val, Y_val)) # , class_weight = class_weight_dict\n",
        "\n",
        "# SHUFFLED GROUP DATA\n",
        "history = model.fit(X_train, y_train, batch_size = 100, epochs= 20, verbose=2, validation_split=0.1) # FOR GROUP SHUFFLE DATA\n",
        "\n",
        "# saves the metrics like loss, accuracy in history object.\n",
        "# model.fit calculates all the things of the model."
      ],
      "execution_count": 53,
      "outputs": [
        {
          "output_type": "stream",
          "text": [
            "Epoch 1/20\n",
            "304/304 - 2s - loss: 1.2146 - accuracy: 0.9363 - val_loss: 0.1217 - val_accuracy: 0.9846\n",
            "Epoch 2/20\n",
            "304/304 - 1s - loss: 0.0891 - accuracy: 0.9856 - val_loss: 0.0805 - val_accuracy: 0.9828\n",
            "Epoch 3/20\n",
            "304/304 - 1s - loss: 0.0695 - accuracy: 0.9867 - val_loss: 0.0668 - val_accuracy: 0.9950\n",
            "Epoch 4/20\n",
            "304/304 - 1s - loss: 0.0610 - accuracy: 0.9873 - val_loss: 0.0596 - val_accuracy: 0.9914\n",
            "Epoch 5/20\n",
            "304/304 - 1s - loss: 0.0539 - accuracy: 0.9895 - val_loss: 0.0559 - val_accuracy: 0.9890\n",
            "Epoch 6/20\n",
            "304/304 - 1s - loss: 0.0489 - accuracy: 0.9901 - val_loss: 0.0631 - val_accuracy: 0.9804\n",
            "Epoch 7/20\n",
            "304/304 - 1s - loss: 0.0458 - accuracy: 0.9902 - val_loss: 0.0488 - val_accuracy: 0.9920\n",
            "Epoch 8/20\n",
            "304/304 - 1s - loss: 0.0453 - accuracy: 0.9898 - val_loss: 0.0409 - val_accuracy: 0.9970\n",
            "Epoch 9/20\n",
            "304/304 - 1s - loss: 0.0436 - accuracy: 0.9897 - val_loss: 0.0457 - val_accuracy: 0.9890\n",
            "Epoch 10/20\n",
            "304/304 - 1s - loss: 0.0435 - accuracy: 0.9890 - val_loss: 0.0391 - val_accuracy: 0.9938\n",
            "Epoch 11/20\n",
            "304/304 - 1s - loss: 0.0404 - accuracy: 0.9901 - val_loss: 0.0362 - val_accuracy: 0.9950\n",
            "Epoch 12/20\n",
            "304/304 - 1s - loss: 0.0382 - accuracy: 0.9910 - val_loss: 0.0512 - val_accuracy: 0.9816\n",
            "Epoch 13/20\n",
            "304/304 - 1s - loss: 0.0380 - accuracy: 0.9905 - val_loss: 0.0356 - val_accuracy: 0.9884\n",
            "Epoch 14/20\n",
            "304/304 - 1s - loss: 0.0360 - accuracy: 0.9913 - val_loss: 0.0466 - val_accuracy: 0.9840\n",
            "Epoch 15/20\n",
            "304/304 - 1s - loss: 0.0360 - accuracy: 0.9910 - val_loss: 0.0370 - val_accuracy: 0.9881\n",
            "Epoch 16/20\n",
            "304/304 - 1s - loss: 0.0386 - accuracy: 0.9899 - val_loss: 0.0530 - val_accuracy: 0.9810\n",
            "Epoch 17/20\n",
            "304/304 - 1s - loss: 0.0353 - accuracy: 0.9909 - val_loss: 0.0327 - val_accuracy: 0.9941\n",
            "Epoch 18/20\n",
            "304/304 - 1s - loss: 0.0345 - accuracy: 0.9909 - val_loss: 0.0350 - val_accuracy: 0.9926\n",
            "Epoch 19/20\n",
            "304/304 - 1s - loss: 0.0357 - accuracy: 0.9903 - val_loss: 0.0490 - val_accuracy: 0.9828\n",
            "Epoch 20/20\n",
            "304/304 - 1s - loss: 0.0332 - accuracy: 0.9913 - val_loss: 0.0301 - val_accuracy: 0.9932\n"
          ],
          "name": "stdout"
        }
      ]
    },
    {
      "cell_type": "code",
      "metadata": {
        "colab": {
          "base_uri": "https://localhost:8080/"
        },
        "id": "NGz7-0nfuKh5",
        "outputId": "34085b7b-3ec5-4c60-f318-5194416ec374"
      },
      "source": [
        "history.history.keys() # accessing the keys saved in history."
      ],
      "execution_count": null,
      "outputs": [
        {
          "output_type": "execute_result",
          "data": {
            "text/plain": [
              "dict_keys(['loss', 'mean_absolute_error', 'val_loss', 'val_mean_absolute_error'])"
            ]
          },
          "metadata": {},
          "execution_count": 150
        }
      ]
    },
    {
      "cell_type": "code",
      "metadata": {
        "id": "Q4TWC2ioC96j"
      },
      "source": [
        "# for TypeError: 'NoneType' object is not callable, i changed the no. of neurons and it worked."
      ],
      "execution_count": null,
      "outputs": []
    },
    {
      "cell_type": "markdown",
      "metadata": {
        "id": "tXrmoNlKe8X9"
      },
      "source": [
        "To evaluate models accuracy on test set"
      ]
    },
    {
      "cell_type": "code",
      "metadata": {
        "colab": {
          "base_uri": "https://localhost:8080/"
        },
        "id": "kKN3HU5BC5vI",
        "outputId": "59710951-1a68-4690-9d04-d12b4abb60f3"
      },
      "source": [
        "# acc = model.evaluate(t, Y_test) # FOR BINARY UNSHUFLED\n",
        "acc = model.evaluate(X_test, y_test)\n",
        "print(\"Loss:\", acc[0], \" Accuracy:\", acc[1])"
      ],
      "execution_count": 54,
      "outputs": [
        {
          "output_type": "stream",
          "text": [
            "264/264 [==============================] - 0s 1ms/step - loss: 0.0374 - accuracy: 0.9886\n",
            "Loss: 0.037421539425849915  Accuracy: 0.9886080622673035\n"
          ],
          "name": "stdout"
        }
      ]
    },
    {
      "cell_type": "code",
      "metadata": {
        "id": "9Tumm410nEMD"
      },
      "source": [
        "acc = model.evaluate(t, Y_test)\n",
        "print(\"Loss:\", acc[0], \" Accuracy:\", acc[1])"
      ],
      "execution_count": null,
      "outputs": []
    },
    {
      "cell_type": "markdown",
      "metadata": {
        "id": "NS-H5D9Fe10e"
      },
      "source": [
        "To Predict on Anything new, i fed test here tho"
      ]
    },
    {
      "cell_type": "code",
      "metadata": {
        "id": "aJr1RPsHayHW"
      },
      "source": [
        "y_pred = model.predict(t)\n",
        "y_pred[:5]"
      ],
      "execution_count": null,
      "outputs": []
    },
    {
      "cell_type": "code",
      "metadata": {
        "colab": {
          "base_uri": "https://localhost:8080/"
        },
        "id": "4Fk2YChs2iiS",
        "outputId": "e372cef4-3abe-406d-827f-f26df52bcb7f"
      },
      "source": [
        "y_pred = model.predict(X_test)\n",
        "y_pred[:5]"
      ],
      "execution_count": 55,
      "outputs": [
        {
          "output_type": "execute_result",
          "data": {
            "text/plain": [
              "array([[9.9992746e-01, 4.3421180e-05],\n",
              "       [9.9992746e-01, 4.3421180e-05],\n",
              "       [9.9992746e-01, 4.3421180e-05],\n",
              "       [9.9992746e-01, 4.3421180e-05],\n",
              "       [9.9992746e-01, 4.3421180e-05]], dtype=float32)"
            ]
          },
          "metadata": {},
          "execution_count": 55
        }
      ]
    },
    {
      "cell_type": "code",
      "metadata": {
        "id": "viG9_MvYX4aN"
      },
      "source": [
        "listdata = total.values"
      ],
      "execution_count": null,
      "outputs": []
    },
    {
      "cell_type": "code",
      "metadata": {
        "colab": {
          "base_uri": "https://localhost:8080/"
        },
        "id": "QP_t95UEaPhQ",
        "outputId": "eb9a4c2a-e904-4586-deb8-27958e86c425"
      },
      "source": [
        "total.values"
      ],
      "execution_count": 56,
      "outputs": [
        {
          "output_type": "execute_result",
          "data": {
            "text/plain": [
              "array([[ 1.47619048,  0.        ],\n",
              "       [ 1.57142857,  0.        ],\n",
              "       [ 1.57142857,  0.        ],\n",
              "       ...,\n",
              "       [-0.5       ,  1.        ],\n",
              "       [-0.5       ,  1.        ],\n",
              "       [-0.5       ,  1.        ]])"
            ]
          },
          "metadata": {},
          "execution_count": 56
        }
      ]
    },
    {
      "cell_type": "markdown",
      "metadata": {
        "id": "WWfJdeezNpUX"
      },
      "source": [
        "Loss value implies how well or poorly a certain model behaves after each iteration of optimization. Ideally, one would expect the reduction of loss after each, or several, iteration(s).\n",
        "\n"
      ]
    },
    {
      "cell_type": "code",
      "metadata": {
        "colab": {
          "base_uri": "https://localhost:8080/",
          "height": 295
        },
        "id": "rhEyXq52uBru",
        "outputId": "db6ff9f5-f9bd-4d2d-a3cf-910c9d06f240"
      },
      "source": [
        "plt.plot(history.history['loss'])\n",
        "plt.plot(history.history['val_loss'])\n",
        "plt.title('model loss')\n",
        "plt.ylabel('loss')\n",
        "plt.xlabel('epoch')\n",
        "plt.legend(['train', 'test'], loc='upper left')\n",
        "plt.show()"
      ],
      "execution_count": 56,
      "outputs": [
        {
          "output_type": "display_data",
          "data": {
            "image/png": "[encoded data removed]",
            "text/plain": [
              "<Figure size 432x288 with 1 Axes>"
            ]
          },
          "metadata": {
            "needs_background": "light"
          }
        }
      ]
    },
    {
      "cell_type": "code",
      "metadata": {
        "colab": {
          "base_uri": "https://localhost:8080/",
          "height": 295
        },
        "id": "7VkZJjvXtRED",
        "outputId": "6a7760a4-e0e3-4057-f541-c6e5982430de"
      },
      "source": [
        "plt.plot(history.history['accuracy'])\n",
        "plt.plot(history.history['val_accuracy'])\n",
        "plt.title('model accuracy')\n",
        "plt.ylabel('accuracy')\n",
        "plt.xlabel('epoch')\n",
        "plt.legend(['train'], loc='upper left')\n",
        "plt.show()"
      ],
      "execution_count": 57,
      "outputs": [
        {
          "output_type": "display_data",
          "data": {
            "image/png": "[encoded data removed]",
            "text/plain": [
              "<Figure size 432x288 with 1 Axes>"
            ]
          },
          "metadata": {
            "needs_background": "light"
          }
        }
      ]
    },
    {
      "cell_type": "code",
      "metadata": {
        "id": "6o1IS03Fnbae"
      },
      "source": [
        "plt.plot(history.history['mean_absolute_error'])\n",
        "# plt.plot(history.history['val_accuracy'])\n",
        "plt.title('mean Error')\n",
        "plt.ylabel('Mean Error')\n",
        "plt.xlabel('epoch')\n",
        "plt.legend(['train'], loc='upper left')\n",
        "plt.show()"
      ],
      "execution_count": null,
      "outputs": []
    },
    {
      "cell_type": "code",
      "metadata": {
        "id": "-KENbHkmWc_x"
      },
      "source": [
        "from sklearn import metrics\n",
        "roc_auc = metrics.roc_auc_score\n",
        "\n",
        "roc_auc(Y_train, )"
      ],
      "execution_count": null,
      "outputs": []
    },
    {
      "cell_type": "markdown",
      "metadata": {
        "id": "L-eSLFFhv-ho"
      },
      "source": [
        "True Positive (TP) \n",
        "\n",
        "- The predicted value matches the actual value\n",
        "- The actual value was positive and the model predicted a positive value\n",
        "\n",
        "True Negative (TN) \n",
        "\n",
        "- The predicted value matches the actual value\n",
        "- The actual value was negative and the model predicted a negative value\n",
        "\n",
        "False Positive (FP) – Type 1 error ***( Predicted positive for false value )***\n",
        "\n",
        "- The predicted value was falsely predicted\n",
        "- The actual value was negative but the model predicted a positive value.\n",
        "Also known as the Type 1 error\n",
        "\n",
        "False Negative (FN) – Type 2 error ***( Predicted Negative for Positive value )***\n",
        "\n",
        "- The predicted value was falsely predicted\n",
        "- The actual value was positive but the model predicted a negative value.\n",
        "Also known as the Type 2 error"
      ]
    },
    {
      "cell_type": "code",
      "metadata": {
        "id": "QgLBaQz3vxFp"
      },
      "source": [
        "from sklearn.metrics import confusion_matrix\n",
        "confusion_matrix(y_train_5, y_train_pred)"
      ],
      "execution_count": null,
      "outputs": []
    },
    {
      "cell_type": "markdown",
      "metadata": {
        "id": "Ua8WAKTzPmLt"
      },
      "source": [
        "## **LSTM**"
      ]
    },
    {
      "cell_type": "code",
      "metadata": {
        "id": "EY8-HZUyQO84"
      },
      "source": [
        "from keras.layers.convolutional import MaxPooling1D\n",
        "from keras.layers import Dropout\n",
        "from keras.utils.np_utils import to_categorical\n",
        "from keras.layers import LSTM"
      ],
      "execution_count": null,
      "outputs": []
    },
    {
      "cell_type": "code",
      "metadata": {
        "colab": {
          "base_uri": "https://localhost:8080/"
        },
        "id": "xpfzjkwcDZpA",
        "outputId": "fc09cda1-5651-4d90-8ae8-d6c13f873f56"
      },
      "source": [
        "#Model3\n",
        "verbose, epochs, batch_size = 0, 100, 64\n",
        "model = Sequential()\n",
        "model.add(LSTM(128, input_shape=(1,1)))\n",
        "model.add(Dropout(0.5))\n",
        "model.add(Dense(100, activation='relu'))\n",
        "model.add(Dense(3, activation='sigmoid'))\n",
        "model.compile(loss='sparse_categorical_crossentropy', optimizer='adam', metrics=['accuracy'])\n",
        "model.summary()"
      ],
      "execution_count": null,
      "outputs": [
        {
          "output_type": "stream",
          "text": [
            "Model: \"sequential_32\"\n",
            "_________________________________________________________________\n",
            "Layer (type)                 Output Shape              Param #   \n",
            "=================================================================\n",
            "lstm (LSTM)                  (None, 128)               66560     \n",
            "_________________________________________________________________\n",
            "dropout_46 (Dropout)         (None, 128)               0         \n",
            "_________________________________________________________________\n",
            "dense_74 (Dense)             (None, 100)               12900     \n",
            "_________________________________________________________________\n",
            "dense_75 (Dense)             (None, 3)                 303       \n",
            "=================================================================\n",
            "Total params: 79,763\n",
            "Trainable params: 79,763\n",
            "Non-trainable params: 0\n",
            "_________________________________________________________________\n"
          ],
          "name": "stdout"
        }
      ]
    },
    {
      "cell_type": "code",
      "metadata": {
        "colab": {
          "base_uri": "https://localhost:8080/"
        },
        "id": "wANNf12_TZCs",
        "outputId": "5f32771e-6368-45c9-a359-100a97c9a3b2"
      },
      "source": [
        "# fit network\n",
        "model.fit(q, Y_train, epochs=epochs, batch_size=batch_size, verbose=verbose)\n",
        "# evaluate model\n",
        "_, accuracy = model.evaluate(t, Y_test, batch_size=batch_size, verbose=1)\n",
        "accuracy"
      ],
      "execution_count": null,
      "outputs": [
        {
          "output_type": "stream",
          "text": [
            "17/17 [==============================] - 1s 2ms/step - loss: 0.6463 - accuracy: 0.6499 \n"
          ],
          "name": "stdout"
        },
        {
          "output_type": "execute_result",
          "data": {
            "text/plain": [
              "0.6499051451683044"
            ]
          },
          "metadata": {
            "tags": []
          },
          "execution_count": 231
        }
      ]
    },
    {
      "cell_type": "markdown",
      "metadata": {
        "id": "kSS7barRv7th"
      },
      "source": [
        "## CONV1D: OLDER MODEL ON SHUFFLED DATASET"
      ]
    },
    {
      "cell_type": "markdown",
      "metadata": {
        "id": "x78HhMuLK0IJ"
      },
      "source": [
        "To avoid excessive sharp transitions between normal and injected data, we need to replace the endpoints of each injected segment\n",
        "\n",
        "( a group of synthetic data ) with their average; adjacent to normal breathing.  "
      ]
    },
    {
      "cell_type": "markdown",
      "metadata": {
        "id": "MebHgthbBaGQ"
      },
      "source": [
        "***Shuffling Data***"
      ]
    },
    {
      "cell_type": "code",
      "metadata": {
        "id": "FRXik78ZLfoa"
      },
      "source": [
        "k = z.sample(frac = 1) \n",
        "x = k.iloc[:,0]\n",
        "y = k.iloc[:,1]"
      ],
      "execution_count": null,
      "outputs": []
    },
    {
      "cell_type": "markdown",
      "metadata": {
        "id": "cfOy2falQCnC"
      },
      "source": [
        "Conv1D input array shape = (No. of items in a batch , no. of rows / Features , no. of columns)\n",
        "\n",
        "\n"
      ]
    },
    {
      "cell_type": "code",
      "metadata": {
        "colab": {
          "base_uri": "https://localhost:8080/"
        },
        "id": "uArX3X451yQ_",
        "outputId": "0924221e-1d64-403e-8a3f-03b330eba9a4"
      },
      "source": [
        "q = x.values.reshape(x.shape[0],1, 1) # ( no. of items, 1 batch = whole dataset | no. of features = 1 | columns = 1 )\n",
        "q.shape"
      ],
      "execution_count": null,
      "outputs": [
        {
          "output_type": "execute_result",
          "data": {
            "text/plain": [
              "(1566, 1, 1)"
            ]
          },
          "metadata": {
            "tags": []
          },
          "execution_count": 12
        }
      ]
    },
    {
      "cell_type": "markdown",
      "metadata": {
        "id": "8qEr_fipNF1y"
      },
      "source": [
        "1D Convolution layer accepts inputs of the form Batchsize x Width x Channels. "
      ]
    },
    {
      "cell_type": "code",
      "metadata": {
        "colab": {
          "base_uri": "https://localhost:8080/"
        },
        "id": "1tNbpv71MR_1",
        "outputId": "3ccbde90-93a8-408f-ba39-e777cb2ba2ac"
      },
      "source": [
        "q"
      ],
      "execution_count": null,
      "outputs": [
        {
          "output_type": "execute_result",
          "data": {
            "text/plain": [
              "array([[[3.784]],\n",
              "\n",
              "       [[4.708]],\n",
              "\n",
              "       [[3.789]],\n",
              "\n",
              "       ...,\n",
              "\n",
              "       [[3.779]],\n",
              "\n",
              "       [[3.582]],\n",
              "\n",
              "       [[3.589]]])"
            ]
          },
          "metadata": {
            "tags": []
          },
          "execution_count": 13
        }
      ]
    },
    {
      "cell_type": "code",
      "metadata": {
        "colab": {
          "base_uri": "https://localhost:8080/"
        },
        "id": "0aVojAwvN3TH",
        "outputId": "8e0298d4-a104-4fa6-fd3c-6d57a367dcae"
      },
      "source": [
        "y"
      ],
      "execution_count": null,
      "outputs": [
        {
          "output_type": "execute_result",
          "data": {
            "text/plain": [
              "377    2\n",
              "316    0\n",
              "54     2\n",
              "160    2\n",
              "24     1\n",
              "      ..\n",
              "509    1\n",
              "472    2\n",
              "264    2\n",
              "339    1\n",
              "499    1\n",
              "Name: Label, Length: 1566, dtype: int64"
            ]
          },
          "metadata": {
            "tags": []
          },
          "execution_count": 14
        }
      ]
    },
    {
      "cell_type": "code",
      "metadata": {
        "colab": {
          "base_uri": "https://localhost:8080/"
        },
        "id": "rFLWSU4SQgXt",
        "outputId": "fbc85162-bcd0-4627-94da-7298849df9d0"
      },
      "source": [
        "y.unique()"
      ],
      "execution_count": null,
      "outputs": [
        {
          "output_type": "execute_result",
          "data": {
            "text/plain": [
              "array([2, 0, 1])"
            ]
          },
          "metadata": {
            "tags": []
          },
          "execution_count": 15
        }
      ]
    },
    {
      "cell_type": "markdown",
      "metadata": {
        "id": "7qnCR1OOCD6Z"
      },
      "source": [
        "WHAT CAN BE APPROACH FOR DATASET:\n",
        "\n",
        "- Create small groups of the given datasets.\n",
        "- join these groups and randomise them.\n",
        "- go on to create a model."
      ]
    },
    {
      "cell_type": "markdown",
      "metadata": {
        "id": "0UcpdQqd2Bap"
      },
      "source": [
        "- The model learns to extract features from sequences of observations and how to map the internal features to different activity types."
      ]
    },
    {
      "cell_type": "markdown",
      "metadata": {
        "id": "nRuN2fVQMI_x"
      },
      "source": [
        "- numpy arrays and not pandas dataframes. Numpy arrays have no attribute named columns. Hence iloc works on pandas dataframes and not nympy array.\n"
      ]
    },
    {
      "cell_type": "markdown",
      "metadata": {
        "id": "-DWcl54NPx2d"
      },
      "source": [
        "***SPLIT x , y INTO TRAINING AND TEST DATASET.***"
      ]
    },
    {
      "cell_type": "code",
      "metadata": {
        "id": "WaMbfTO87CtT"
      },
      "source": [
        "from sklearn.model_selection import train_test_split\n",
        "q_train, q_test, y_train, y_test = train_test_split(q,y,test_size =  0.3, random_state = 0) # 0.3 = 30%"
      ],
      "execution_count": null,
      "outputs": []
    },
    {
      "cell_type": "code",
      "metadata": {
        "colab": {
          "base_uri": "https://localhost:8080/"
        },
        "id": "CWzZaSy_WlZk",
        "outputId": "6ab68247-a3e0-4c18-d095-38dd811073c4"
      },
      "source": [
        "q_train.shape"
      ],
      "execution_count": null,
      "outputs": [
        {
          "output_type": "execute_result",
          "data": {
            "text/plain": [
              "(1096, 1, 1)"
            ]
          },
          "metadata": {
            "tags": []
          },
          "execution_count": 17
        }
      ]
    },
    {
      "cell_type": "markdown",
      "metadata": {
        "id": "y4vgqmfMPauY"
      },
      "source": [
        ".\n",
        "\n",
        ".\n",
        "\n",
        "."
      ]
    },
    {
      "cell_type": "code",
      "metadata": {
        "id": "pMcg5tLERYFe"
      },
      "source": [
        "from keras.models import Sequential\n",
        "from keras.layers import Dense, Conv1D, Flatten, MaxPooling1D\n",
        "from sklearn.model_selection import train_test_split\n",
        "from sklearn.metrics import confusion_matrix\n",
        "from sklearn.datasets import load_iris\n",
        "from numpy import unique"
      ],
      "execution_count": null,
      "outputs": []
    },
    {
      "cell_type": "markdown",
      "metadata": {
        "id": "zIpa5OfjVzlu"
      },
      "source": [
        "Arguments for ***MAXPOOLING***\n",
        "\n",
        "- **pool_size:** Integer, size of the max pooling window.\n",
        "- **strides:** Integer, or None. Specifies how much the pooling window moves for each pooling step. If None, it will default to pool_size.\n",
        "- **padding:** One of \"valid\" or \"same\" (case-insensitive). \"valid\" means no padding. \"same\" results in padding evenly to the left/right or up/down of the input such that output has the same height/width dimension as the input.\n",
        "- **data_format:** A string, one of channels_last (default) or channels_first. \n",
        "\n",
        "\n",
        "The ordering of the dimensions in the inputs. channels_last corresponds to inputs with shape (batch, steps, features) while channels_first corresponds to inputs with shape (batch, features, steps)."
      ]
    },
    {
      "cell_type": "markdown",
      "metadata": {
        "id": "kBTFzo_mdAoO"
      },
      "source": [
        "**FLATTEN**\n",
        "\n",
        "A flatten layer is used between the convolutional layers and the dense layer to reduce the feature maps to a single one-dimensional vector."
      ]
    },
    {
      "cell_type": "code",
      "metadata": {
        "colab": {
          "base_uri": "https://localhost:8080/"
        },
        "id": "vg2RO3s8oFUf",
        "outputId": "62a81f55-a6b3-488b-9036-fcbafc145f0d"
      },
      "source": [
        "model = Sequential()\n",
        "model.add(Conv1D(64, 1, activation=\"relu\", input_shape=(1,1))) # 64 neurons, kernel size = 1 | input_shape = ( 1 feature, 1 column )\n",
        "model.add(Dense(16, activation=\"relu\")) # 16 neurons\n",
        "model.add(MaxPooling1D(padding='same')) # Used maxpooling to choose max values from the kernel.\n",
        "\n",
        "# padding = 'same' instead of default 'valid' as our feature didnt have enough space around it for kernel to filter as feature is only 1.\n",
        "\n",
        "model.add(Flatten()) \n",
        "\n",
        "# We'll add Dense, MaxPooling1D, and Flatten layers into the model. The output layer contains the number of output classes and 'softmax' activation.\n",
        "\n",
        "model.add(Dense(3, activation = 'softmax'))\n",
        "model.compile(loss = 'sparse_categorical_crossentropy', optimizer = \"adam\", metrics = ['accuracy'])\n",
        "model.summary()"
      ],
      "execution_count": null,
      "outputs": [
        {
          "output_type": "stream",
          "text": [
            "Model: \"sequential\"\n",
            "_________________________________________________________________\n",
            "Layer (type)                 Output Shape              Param #   \n",
            "=================================================================\n",
            "conv1d (Conv1D)              (None, 1, 64)             128       \n",
            "_________________________________________________________________\n",
            "dense (Dense)                (None, 1, 16)             1040      \n",
            "_________________________________________________________________\n",
            "max_pooling1d (MaxPooling1D) (None, 1, 16)             0         \n",
            "_________________________________________________________________\n",
            "flatten (Flatten)            (None, 16)                0         \n",
            "_________________________________________________________________\n",
            "dense_1 (Dense)              (None, 3)                 51        \n",
            "=================================================================\n",
            "Total params: 1,219\n",
            "Trainable params: 1,219\n",
            "Non-trainable params: 0\n",
            "_________________________________________________________________\n"
          ],
          "name": "stdout"
        }
      ]
    },
    {
      "cell_type": "code",
      "metadata": {
        "id": "Kdaq4M3-7Cqv"
      },
      "source": [
        "history = model.fit(q_train, y_train, batch_size=80,epochs=100, verbose=0) # saves the metrics like loss, accuracy in history object."
      ],
      "execution_count": null,
      "outputs": []
    },
    {
      "cell_type": "markdown",
      "metadata": {
        "id": "UjCVrqcWKN5e"
      },
      "source": [
        "The ***history*** object is returned from calls to the fit() function used to train the model. Metrics are stored in a dictionary in the history member of the object returned."
      ]
    },
    {
      "cell_type": "code",
      "metadata": {
        "colab": {
          "base_uri": "https://localhost:8080/"
        },
        "id": "takaemeDIGa3",
        "outputId": "35b86580-7ea1-4017-f484-b7371244406e"
      },
      "source": [
        "print(history.history.keys()) # keys in the 'history' object (values stored)"
      ],
      "execution_count": null,
      "outputs": [
        {
          "output_type": "stream",
          "text": [
            "dict_keys(['loss', 'accuracy'])\n"
          ],
          "name": "stdout"
        }
      ]
    },
    {
      "cell_type": "code",
      "metadata": {
        "colab": {
          "base_uri": "https://localhost:8080/"
        },
        "id": "I_t6L6-6LLMB",
        "outputId": "32dfc5a1-42bd-463a-d716-09b2693634b5"
      },
      "source": [
        "history.history['loss'][:5]  # top 5 rows of history"
      ],
      "execution_count": null,
      "outputs": [
        {
          "output_type": "execute_result",
          "data": {
            "text/plain": [
              "[0.11851700395345688,\n",
              " 0.11298701912164688,\n",
              " 0.11020562797784805,\n",
              " 0.10550199449062347,\n",
              " 0.10205347090959549]"
            ]
          },
          "metadata": {
            "tags": []
          },
          "execution_count": 59
        }
      ]
    },
    {
      "cell_type": "code",
      "metadata": {
        "colab": {
          "base_uri": "https://localhost:8080/",
          "height": 282
        },
        "id": "PS4XANFlKJIl",
        "outputId": "5e170eb5-523c-4e60-f79c-7cf82333def3"
      },
      "source": [
        "loss_per_epoch = history.history['loss'] \n",
        "plt.plot(range(len(loss_per_epoch)),loss_per_epoch)"
      ],
      "execution_count": null,
      "outputs": [
        {
          "output_type": "execute_result",
          "data": {
            "text/plain": [
              "[<matplotlib.lines.Line2D at 0x7f0f69644490>]"
            ]
          },
          "metadata": {
            "tags": []
          },
          "execution_count": 62
        },
        {
          "output_type": "display_data",
          "data": {
            "image/png": "[encoded data removed]",
            "text/plain": [
              "<Figure size 432x288 with 1 Axes>"
            ]
          },
          "metadata": {
            "tags": []
          }
        }
      ]
    },
    {
      "cell_type": "code",
      "metadata": {
        "colab": {
          "base_uri": "https://localhost:8080/"
        },
        "id": "GMrcLEO77Cnq",
        "outputId": "cc0e0ef9-99a2-48ca-b541-41737ebe4092"
      },
      "source": [
        "acc = model.evaluate(q_train, y_train)\n",
        "print(\"Loss:\", acc[0], \" Accuracy:\", acc[1])"
      ],
      "execution_count": null,
      "outputs": [
        {
          "output_type": "stream",
          "text": [
            "35/35 [==============================] - 0s 1ms/step - loss: 0.0111 - accuracy: 1.0000\n",
            "Loss: 0.011116153560578823  Accuracy: 1.0\n"
          ],
          "name": "stdout"
        }
      ]
    },
    {
      "cell_type": "code",
      "metadata": {
        "colab": {
          "base_uri": "https://localhost:8080/"
        },
        "id": "Y9jy9W4B7Cfm",
        "outputId": "320f829b-0a31-43c6-9244-8a4ddd8ed806"
      },
      "source": [
        "pred = model.predict(q_test)\n",
        "pred_y = pred.argmax(axis=-1)\n",
        "pred_y"
      ],
      "execution_count": null,
      "outputs": [
        {
          "output_type": "execute_result",
          "data": {
            "text/plain": [
              "array([0, 1, 0, 0, 2, 1, 0, 0, 2, 2, 2, 1, 0, 2, 2, 0, 1, 0, 0, 1, 1, 0,\n",
              "       1, 2, 2, 2, 2, 0, 0, 0, 1, 2, 2, 1, 1, 1, 1, 2, 1, 2, 2, 2, 0, 1,\n",
              "       0, 1, 0, 1, 0, 0, 2, 2, 1, 1, 0, 1, 0, 2, 2, 2, 2, 1, 0, 1, 0, 0,\n",
              "       1, 1, 2, 2, 1, 2, 1, 2, 0, 1, 0, 2, 2, 1, 1, 0, 1, 1, 2, 0, 1, 1,\n",
              "       2, 2, 1, 2, 2, 0, 1, 0, 2, 1, 2, 0, 2, 0, 1, 1, 0, 2, 0, 0, 0, 2,\n",
              "       2, 0, 0, 0, 1, 2, 1, 2, 1, 1, 2, 0, 1, 1, 2, 2, 0, 0, 2, 2, 2, 2,\n",
              "       0, 1, 1, 1, 1, 0, 1, 1, 2, 0, 2, 2, 0, 1, 2, 1, 0, 1, 1, 2, 1, 2,\n",
              "       0, 1, 1, 1, 0, 2, 0, 2, 2, 2, 2, 1, 0, 1, 0, 2, 0, 1, 0, 0, 2, 1,\n",
              "       1, 2, 2, 2, 0, 1, 0, 2, 1, 1, 1, 1, 0, 2, 1, 2, 2, 0, 0, 0, 0, 0,\n",
              "       0, 0, 0, 0, 2, 1, 1, 2, 0, 0, 0, 0, 1, 0, 0, 2, 1, 0, 1, 1, 2, 0,\n",
              "       0, 1, 2, 0, 1, 0, 2, 2, 1, 0, 1, 2, 2, 0, 0, 1, 0, 0, 0, 2, 2, 1,\n",
              "       2, 0, 0, 0, 1, 2, 0, 2, 0, 1, 0, 2, 0, 2, 1, 1, 1, 0, 1, 0, 0, 1,\n",
              "       1, 2, 0, 1, 0, 1, 2, 0, 2, 2, 1, 0, 2, 2, 0, 2, 0, 1, 0, 0, 2, 2,\n",
              "       1, 0, 0, 1, 2, 0, 1, 0, 0, 1, 0, 2, 1, 1, 0, 0, 1, 0, 2, 1, 2, 1,\n",
              "       0, 0, 0, 2, 0, 0, 0, 2, 2, 2, 1, 2, 1, 1, 0, 2, 0, 2, 1, 2, 2, 1,\n",
              "       2, 0, 1, 0, 1, 1, 1, 1, 0, 1, 0, 0, 0, 2, 2, 2, 0, 2, 0, 0, 2, 0,\n",
              "       2, 1, 1, 0, 2, 1, 0, 0, 1, 0, 2, 2, 1, 0, 2, 0, 1, 0, 2, 0, 0, 1,\n",
              "       2, 0, 1, 1, 2, 1, 0, 0, 1, 1, 0, 0, 1, 1, 1, 2, 1, 0, 1, 2, 1, 1,\n",
              "       1, 0, 0, 2, 0, 1, 1, 2, 1, 2, 0, 2, 0, 1, 2, 0, 0, 0, 0, 0, 2, 2,\n",
              "       1, 2, 0, 0, 0, 0, 0, 1, 0, 0, 1, 0, 2, 2, 1, 1, 0, 0, 1, 1, 2, 0,\n",
              "       1, 1, 0, 0, 1, 2, 1, 1, 2, 1, 1, 2, 0, 1, 2, 2, 2, 0, 1, 1, 1, 2,\n",
              "       2, 0, 2, 2, 0, 2, 2, 2])"
            ]
          },
          "metadata": {
            "tags": []
          },
          "execution_count": 22
        }
      ]
    },
    {
      "cell_type": "code",
      "metadata": {
        "colab": {
          "base_uri": "https://localhost:8080/"
        },
        "id": "Ck8uvMtAZaBu",
        "outputId": "7b298c77-87c3-405d-9d1b-d0a1bcced82c"
      },
      "source": [
        "pred"
      ],
      "execution_count": null,
      "outputs": [
        {
          "output_type": "execute_result",
          "data": {
            "text/plain": [
              "array([[9.9211287e-01, 1.8862889e-09, 7.8871632e-03],\n",
              "       [5.0905597e-04, 8.0376583e-01, 1.9572508e-01],\n",
              "       [9.9229032e-01, 1.7789966e-09, 7.7096862e-03],\n",
              "       ...,\n",
              "       [1.1117719e-02, 1.2860195e-01, 8.6028033e-01],\n",
              "       [1.1728459e-02, 1.1898419e-01, 8.6928731e-01],\n",
              "       [1.1117719e-02, 1.2860195e-01, 8.6028033e-01]], dtype=float32)"
            ]
          },
          "metadata": {
            "tags": []
          },
          "execution_count": 23
        }
      ]
    },
    {
      "cell_type": "code",
      "metadata": {
        "colab": {
          "base_uri": "https://localhost:8080/"
        },
        "id": "Y99Zq2mBXG7e",
        "outputId": "112ee64c-142f-4a96-9f1c-0328ee4bd6dd"
      },
      "source": [
        "cm = confusion_matrix(y_test, pred_y)\n",
        "cm"
      ],
      "execution_count": null,
      "outputs": [
        {
          "output_type": "execute_result",
          "data": {
            "text/plain": [
              "array([[170,   0,   0],\n",
              "       [  0, 154,   0],\n",
              "       [  0,   0, 146]])"
            ]
          },
          "metadata": {
            "tags": []
          },
          "execution_count": 24
        }
      ]
    },
    {
      "cell_type": "code",
      "metadata": {
        "colab": {
          "base_uri": "https://localhost:8080/"
        },
        "id": "gv3gB6N6Z6IA",
        "outputId": "217ce656-5500-4996-f2ac-3d5fb3a658e4"
      },
      "source": [
        "def prediction(x):\n",
        "    return model.predict([[[x]]]) \n",
        "# model.predict gives out the values of probabilities of each feature ( here since there are 3 features, it shows 3 probablilites ) \n",
        "prediction(4)\n"
      ],
      "execution_count": null,
      "outputs": [
        {
          "output_type": "execute_result",
          "data": {
            "text/plain": [
              "array([[0.10457726, 0.00529527, 0.8901274 ]], dtype=float32)"
            ]
          },
          "metadata": {
            "tags": []
          },
          "execution_count": 25
        }
      ]
    },
    {
      "cell_type": "code",
      "metadata": {
        "colab": {
          "base_uri": "https://localhost:8080/"
        },
        "id": "7vW3ecjzXSNd",
        "outputId": "7f46f4d1-add0-418d-c201-de8319686ef1"
      },
      "source": [
        "test_model = prediction(4) # <--- Put value here to predict\n",
        "\n",
        "# OR we can use:- test_model = model.predict([[[3.6]]])  \n",
        "\n",
        "result = test_model.argmax(axis=-1) # now we choose the highest probabilities of all and argmax does that and gives out the feature.\n",
        "\n",
        "if result == [1]:\n",
        "     print('Normal Breathing')\n",
        "elif result == [0]:\n",
        "     print('Deep Breathing')\n",
        "elif result == [2]:\n",
        "     print('Quick Breathing')"
      ],
      "execution_count": null,
      "outputs": [
        {
          "output_type": "stream",
          "text": [
            "Quick Breathing\n"
          ],
          "name": "stdout"
        }
      ]
    },
    {
      "cell_type": "code",
      "metadata": {
        "colab": {
          "base_uri": "https://localhost:8080/",
          "height": 111
        },
        "id": "oXESANJquzkN",
        "outputId": "eb819121-4bce-4c5f-d5c8-2773c838d5b9"
      },
      "source": [
        "d.head(2)"
      ],
      "execution_count": null,
      "outputs": [
        {
          "output_type": "execute_result",
          "data": {
            "text/html": [
              "<div>\n",
              "<style scoped>\n",
              "    .dataframe tbody tr th:only-of-type {\n",
              "        vertical-align: middle;\n",
              "    }\n",
              "\n",
              "    .dataframe tbody tr th {\n",
              "        vertical-align: top;\n",
              "    }\n",
              "\n",
              "    .dataframe thead th {\n",
              "        text-align: right;\n",
              "    }\n",
              "</style>\n",
              "<table border=\"1\" class=\"dataframe\">\n",
              "  <thead>\n",
              "    <tr style=\"text-align: right;\">\n",
              "      <th></th>\n",
              "      <th>Breath data</th>\n",
              "      <th>Label</th>\n",
              "    </tr>\n",
              "  </thead>\n",
              "  <tbody>\n",
              "    <tr>\n",
              "      <th>0</th>\n",
              "      <td>3.585</td>\n",
              "      <td>Normal</td>\n",
              "    </tr>\n",
              "    <tr>\n",
              "      <th>1</th>\n",
              "      <td>3.586</td>\n",
              "      <td>Normal</td>\n",
              "    </tr>\n",
              "  </tbody>\n",
              "</table>\n",
              "</div>"
            ],
            "text/plain": [
              "   Breath data   Label\n",
              "0        3.585  Normal\n",
              "1        3.586  Normal"
            ]
          },
          "metadata": {
            "tags": []
          },
          "execution_count": 31
        }
      ]
    },
    {
      "cell_type": "code",
      "metadata": {
        "colab": {
          "base_uri": "https://localhost:8080/",
          "height": 297
        },
        "id": "z6nIEfTuujmA",
        "outputId": "aabfd37b-d6b2-4da5-fb2c-1ae83a6099af"
      },
      "source": [
        "d.describe()"
      ],
      "execution_count": null,
      "outputs": [
        {
          "output_type": "execute_result",
          "data": {
            "text/html": [
              "<div>\n",
              "<style scoped>\n",
              "    .dataframe tbody tr th:only-of-type {\n",
              "        vertical-align: middle;\n",
              "    }\n",
              "\n",
              "    .dataframe tbody tr th {\n",
              "        vertical-align: top;\n",
              "    }\n",
              "\n",
              "    .dataframe thead th {\n",
              "        text-align: right;\n",
              "    }\n",
              "</style>\n",
              "<table border=\"1\" class=\"dataframe\">\n",
              "  <thead>\n",
              "    <tr style=\"text-align: right;\">\n",
              "      <th></th>\n",
              "      <th>Breath data</th>\n",
              "    </tr>\n",
              "  </thead>\n",
              "  <tbody>\n",
              "    <tr>\n",
              "      <th>count</th>\n",
              "      <td>522.000000</td>\n",
              "    </tr>\n",
              "    <tr>\n",
              "      <th>mean</th>\n",
              "      <td>3.586525</td>\n",
              "    </tr>\n",
              "    <tr>\n",
              "      <th>std</th>\n",
              "      <td>0.009156</td>\n",
              "    </tr>\n",
              "    <tr>\n",
              "      <th>min</th>\n",
              "      <td>3.570000</td>\n",
              "    </tr>\n",
              "    <tr>\n",
              "      <th>25%</th>\n",
              "      <td>3.579000</td>\n",
              "    </tr>\n",
              "    <tr>\n",
              "      <th>50%</th>\n",
              "      <td>3.586000</td>\n",
              "    </tr>\n",
              "    <tr>\n",
              "      <th>75%</th>\n",
              "      <td>3.593750</td>\n",
              "    </tr>\n",
              "    <tr>\n",
              "      <th>max</th>\n",
              "      <td>3.610000</td>\n",
              "    </tr>\n",
              "  </tbody>\n",
              "</table>\n",
              "</div>"
            ],
            "text/plain": [
              "       Breath data\n",
              "count   522.000000\n",
              "mean      3.586525\n",
              "std       0.009156\n",
              "min       3.570000\n",
              "25%       3.579000\n",
              "50%       3.586000\n",
              "75%       3.593750\n",
              "max       3.610000"
            ]
          },
          "metadata": {
            "tags": []
          },
          "execution_count": 32
        }
      ]
    },
    {
      "cell_type": "markdown",
      "metadata": {
        "id": "bQed-XYfovQB"
      },
      "source": [
        "The model learns to extract features from sequences of observations and how to map the internal features to different activity types."
      ]
    },
    {
      "cell_type": "markdown",
      "metadata": {
        "id": "HKwmVCcUFx_C"
      },
      "source": [
        "# KAGGLE WORKBOOK"
      ]
    },
    {
      "cell_type": "code",
      "metadata": {
        "colab": {
          "base_uri": "https://localhost:8080/"
        },
        "id": "aTsZoUB9Fvn3",
        "outputId": "48f1d45a-d6bf-4b02-da95-8149eafe2023"
      },
      "source": [
        "min(1, 2, 3) # min of them\n",
        "max(1, 2, 3) # max of them\n",
        "\n",
        "a = 9 - 1023\n",
        "abs(a) # positive value\n"
      ],
      "execution_count": null,
      "outputs": [
        {
          "output_type": "execute_result",
          "data": {
            "text/plain": [
              "1014"
            ]
          },
          "metadata": {
            "tags": []
          },
          "execution_count": 2
        }
      ]
    },
    {
      "cell_type": "code",
      "metadata": {
        "id": "Jsj9HfS-IB_l"
      },
      "source": [
        ""
      ],
      "execution_count": null,
      "outputs": []
    },
    {
      "cell_type": "code",
      "metadata": {
        "id": "hOL9M1-jIB7l"
      },
      "source": [
        ""
      ],
      "execution_count": null,
      "outputs": []
    },
    {
      "cell_type": "code",
      "metadata": {
        "id": "tAiMlsapIB0e"
      },
      "source": [
        ""
      ],
      "execution_count": null,
      "outputs": []
    }
  ]
}